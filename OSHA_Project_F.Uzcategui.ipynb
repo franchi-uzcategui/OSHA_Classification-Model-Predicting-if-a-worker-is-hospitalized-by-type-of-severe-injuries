{
 "cells": [
  {
   "cell_type": "markdown",
   "metadata": {},
   "source": [
    "<h1>Classification Model: Predicting if a worker is hospitalized by type of severe injuries or amputation. Data: Occupational Safety and Health Administration,  2016 - 2021 Injury and Illness Data</h1>\n",
    "<h3>Autor: Franchi Uzcategui</h3>"
   ]
  },
  {
   "cell_type": "code",
   "execution_count": 1,
   "metadata": {
    "scrolled": true
   },
   "outputs": [
    {
     "name": "stderr",
     "output_type": "stream",
     "text": [
      "\n",
      "Bad key \"text.kerning_factor\" on line 4 in\n",
      "C:\\Users\\Franchi\\anaconda3\\lib\\site-packages\\matplotlib\\mpl-data\\stylelib\\_classic_test_patch.mplstyle.\n",
      "You probably need to get an updated matplotlibrc file from\n",
      "https://github.com/matplotlib/matplotlib/blob/v3.1.3/matplotlibrc.template\n",
      "or from the matplotlib source distribution\n"
     ]
    }
   ],
   "source": [
    "import pandas as pd\n",
    "import us\n",
    "import matplotlib.pyplot as plt\n",
    "import seaborn as sns\n",
    "import numpy as np\n",
    "import datetime\n",
    "\n",
    "## plotting\n",
    "import folium\n",
    "import matplotlib.pyplot as plt\n",
    "import pylab as pl\n",
    "import seaborn as sns\n",
    "%matplotlib inline\n",
    "# Any results you write to the current directory are saved as output."
   ]
  },
  {
   "cell_type": "markdown",
   "metadata": {},
   "source": [
    "## Table of Contents\n",
    "\n",
    "<li><a href=\"#wrangling\">I.Introduction\n",
    "<li><a href=\"#wrangling\">II.Data   \n",
    "<li><a href=\"#wrangling\">1. Data Collection</a></li>\n",
    "<li><a href=\"#cleaning\">2. Data Cleaning</a></li>\n",
    "<li><a href=\"#methodology\">III.Methodology\n",
    "<li><a href=\"#da\">3. Data Analysis</a></li>\n",
    "<li><a href=\"#results\">III.Results    \n",
    "<li><a href=\"#eda\">4.Data visualization </a></li>\n",
    "<li><a href=\"#eda\"> IV. Discussion</a></li>\n",
    "<li><a href=\"#eda\"> V. Conclusion</a></li>\n",
    "<li><a href=\"#eda\"> VI. Limitations</a></li>"
   ]
  },
  {
   "cell_type": "markdown",
   "metadata": {},
   "source": [
    "## 1.  Data Collection"
   ]
  },
  {
   "cell_type": "markdown",
   "metadata": {},
   "source": [
    "From Occupational Safety and Health Administration, Data from 1/1/2015 through 7/31/2021 https://www.osha.gov/severeinjury \n",
    "\"OSHA requires employers to report all severe work-related injuries, defined as an amputation, in-patient hospitalization, or loss of an eye. The requirement began on January 1, 2015. This page provides information from those reports, including a description of the incident and the name and address of the establishment where it happened. Injuries are coded using the Occupational Injury and Illness Classification System.\n",
    "\n",
    "You can download a file of the reports below. The reports will be updated periodically and represent incidents under federal OSHA jurisdiction only. They do not include incidents under state plan state jurisdiction.\n",
    "\n",
    "Please be aware the geocodes (latitude/longitude) provided were obtained through third party services based on address information provided with the injury report. The precision varies by case, and accuracy is not guaranteed.\""
   ]
  },
  {
   "cell_type": "code",
   "execution_count": 2,
   "metadata": {},
   "outputs": [
    {
     "name": "stderr",
     "output_type": "stream",
     "text": [
      "C:\\Users\\Franchi\\anaconda3\\lib\\site-packages\\IPython\\core\\interactiveshell.py:3063: DtypeWarning: Columns (11) have mixed types.Specify dtype option on import or set low_memory=False.\n",
      "  interactivity=interactivity, compiler=compiler, result=result)\n"
     ]
    },
    {
     "data": {
      "text/html": [
       "<div>\n",
       "<style scoped>\n",
       "    .dataframe tbody tr th:only-of-type {\n",
       "        vertical-align: middle;\n",
       "    }\n",
       "\n",
       "    .dataframe tbody tr th {\n",
       "        vertical-align: top;\n",
       "    }\n",
       "\n",
       "    .dataframe thead th {\n",
       "        text-align: right;\n",
       "    }\n",
       "</style>\n",
       "<table border=\"1\" class=\"dataframe\">\n",
       "  <thead>\n",
       "    <tr style=\"text-align: right;\">\n",
       "      <th></th>\n",
       "      <th>ID</th>\n",
       "      <th>UPA</th>\n",
       "      <th>EventDate</th>\n",
       "      <th>Employer</th>\n",
       "      <th>Address1</th>\n",
       "      <th>Address2</th>\n",
       "      <th>City</th>\n",
       "      <th>State</th>\n",
       "      <th>Zip</th>\n",
       "      <th>Latitude</th>\n",
       "      <th>...</th>\n",
       "      <th>Nature</th>\n",
       "      <th>NatureTitle</th>\n",
       "      <th>Part of Body</th>\n",
       "      <th>Part of Body Title</th>\n",
       "      <th>Event</th>\n",
       "      <th>EventTitle</th>\n",
       "      <th>Source</th>\n",
       "      <th>SourceTitle</th>\n",
       "      <th>Secondary Source</th>\n",
       "      <th>Secondary Source Title</th>\n",
       "    </tr>\n",
       "  </thead>\n",
       "  <tbody>\n",
       "    <tr>\n",
       "      <th>0</th>\n",
       "      <td>2015010015</td>\n",
       "      <td>931176</td>\n",
       "      <td>1/1/2015</td>\n",
       "      <td>FCI Otisville Federal Correctional Institution</td>\n",
       "      <td>Two Mile Drive</td>\n",
       "      <td>NaN</td>\n",
       "      <td>OTISVILLE</td>\n",
       "      <td>NEW YORK</td>\n",
       "      <td>10963.0</td>\n",
       "      <td>41.46</td>\n",
       "      <td>...</td>\n",
       "      <td>111</td>\n",
       "      <td>Fractures</td>\n",
       "      <td>513</td>\n",
       "      <td>Lower leg(s)</td>\n",
       "      <td>1214</td>\n",
       "      <td>Injured by physical contact with person while ...</td>\n",
       "      <td>5721</td>\n",
       "      <td>Co-worker</td>\n",
       "      <td>5772.0</td>\n",
       "      <td>Inmate or detainee in custody</td>\n",
       "    </tr>\n",
       "    <tr>\n",
       "      <th>1</th>\n",
       "      <td>2015010016</td>\n",
       "      <td>930267</td>\n",
       "      <td>1/1/2015</td>\n",
       "      <td>Kalahari Manufacturing LLC</td>\n",
       "      <td>171 Progress Drive</td>\n",
       "      <td>NaN</td>\n",
       "      <td>LAKE DELTON</td>\n",
       "      <td>WISCONSIN</td>\n",
       "      <td>53940.0</td>\n",
       "      <td>43.59</td>\n",
       "      <td>...</td>\n",
       "      <td>1522</td>\n",
       "      <td>Second degree heat (thermal) burns</td>\n",
       "      <td>519</td>\n",
       "      <td>Leg(s), n.e.c.</td>\n",
       "      <td>317</td>\n",
       "      <td>Ignition of vapors, gases, or liquids</td>\n",
       "      <td>7261</td>\n",
       "      <td>Welding, cutting, and blow torches</td>\n",
       "      <td>NaN</td>\n",
       "      <td>NaN</td>\n",
       "    </tr>\n",
       "    <tr>\n",
       "      <th>2</th>\n",
       "      <td>2015010018</td>\n",
       "      <td>929823</td>\n",
       "      <td>1/1/2015</td>\n",
       "      <td>Schneider National Bulk Carrier</td>\n",
       "      <td>420 CORAOPOLIS ROAD</td>\n",
       "      <td>NaN</td>\n",
       "      <td>CORAOPOLIS</td>\n",
       "      <td>PENNSYLVANIA</td>\n",
       "      <td>15108.0</td>\n",
       "      <td>40.49</td>\n",
       "      <td>...</td>\n",
       "      <td>10</td>\n",
       "      <td>Traumatic injuries and disorders, unspecified</td>\n",
       "      <td>9999</td>\n",
       "      <td>Nonclassifiable</td>\n",
       "      <td>4331</td>\n",
       "      <td>Other fall to lower level less than 6 feet</td>\n",
       "      <td>8421</td>\n",
       "      <td>Semi, tractor-trailer, tanker truck</td>\n",
       "      <td>741.0</td>\n",
       "      <td>Ladders-fixed</td>\n",
       "    </tr>\n",
       "    <tr>\n",
       "      <th>3</th>\n",
       "      <td>2015010019</td>\n",
       "      <td>929711</td>\n",
       "      <td>1/1/2015</td>\n",
       "      <td>PEPSI BOTTLING GROUP INC.</td>\n",
       "      <td>4541 HOUSTON AVE.</td>\n",
       "      <td>NaN</td>\n",
       "      <td>MACON</td>\n",
       "      <td>GEORGIA</td>\n",
       "      <td>31206.0</td>\n",
       "      <td>32.77</td>\n",
       "      <td>...</td>\n",
       "      <td>1972</td>\n",
       "      <td>Soreness, pain, hurt-nonspecified injury</td>\n",
       "      <td>510</td>\n",
       "      <td>Leg(s), unspecified</td>\n",
       "      <td>640</td>\n",
       "      <td>Caught in or compressed by equipment or object...</td>\n",
       "      <td>8623</td>\n",
       "      <td>Pallet jack-powered</td>\n",
       "      <td>8420.0</td>\n",
       "      <td>Truck-motorized freight hauling and utility, u...</td>\n",
       "    </tr>\n",
       "    <tr>\n",
       "      <th>4</th>\n",
       "      <td>2015010020</td>\n",
       "      <td>929642</td>\n",
       "      <td>1/1/2015</td>\n",
       "      <td>North American Pipe Corporation</td>\n",
       "      <td>210 South Arch Street</td>\n",
       "      <td>NaN</td>\n",
       "      <td>JANESVILLE</td>\n",
       "      <td>WISCONSIN</td>\n",
       "      <td>53545.0</td>\n",
       "      <td>42.67</td>\n",
       "      <td>...</td>\n",
       "      <td>111</td>\n",
       "      <td>Fractures</td>\n",
       "      <td>4429</td>\n",
       "      <td>Finger(s), fingernail(s), n.e.c.</td>\n",
       "      <td>6411</td>\n",
       "      <td>Caught in running equipment or machinery durin...</td>\n",
       "      <td>350</td>\n",
       "      <td>Metal, woodworking, and special material machi...</td>\n",
       "      <td>NaN</td>\n",
       "      <td>NaN</td>\n",
       "    </tr>\n",
       "  </tbody>\n",
       "</table>\n",
       "<p>5 rows × 26 columns</p>\n",
       "</div>"
      ],
      "text/plain": [
       "           ID     UPA EventDate  \\\n",
       "0  2015010015  931176  1/1/2015   \n",
       "1  2015010016  930267  1/1/2015   \n",
       "2  2015010018  929823  1/1/2015   \n",
       "3  2015010019  929711  1/1/2015   \n",
       "4  2015010020  929642  1/1/2015   \n",
       "\n",
       "                                         Employer               Address1  \\\n",
       "0  FCI Otisville Federal Correctional Institution         Two Mile Drive   \n",
       "1                      Kalahari Manufacturing LLC     171 Progress Drive   \n",
       "2                 Schneider National Bulk Carrier    420 CORAOPOLIS ROAD   \n",
       "3                       PEPSI BOTTLING GROUP INC.      4541 HOUSTON AVE.   \n",
       "4                 North American Pipe Corporation  210 South Arch Street   \n",
       "\n",
       "  Address2         City         State      Zip  Latitude  ...  Nature  \\\n",
       "0      NaN    OTISVILLE      NEW YORK  10963.0     41.46  ...     111   \n",
       "1      NaN  LAKE DELTON     WISCONSIN  53940.0     43.59  ...    1522   \n",
       "2      NaN   CORAOPOLIS  PENNSYLVANIA  15108.0     40.49  ...      10   \n",
       "3      NaN        MACON       GEORGIA  31206.0     32.77  ...    1972   \n",
       "4      NaN   JANESVILLE     WISCONSIN  53545.0     42.67  ...     111   \n",
       "\n",
       "                                     NatureTitle  Part of Body  \\\n",
       "0                                      Fractures           513   \n",
       "1             Second degree heat (thermal) burns           519   \n",
       "2  Traumatic injuries and disorders, unspecified          9999   \n",
       "3       Soreness, pain, hurt-nonspecified injury           510   \n",
       "4                                      Fractures          4429   \n",
       "\n",
       "                 Part of Body Title  Event  \\\n",
       "0                      Lower leg(s)   1214   \n",
       "1                    Leg(s), n.e.c.    317   \n",
       "2                   Nonclassifiable   4331   \n",
       "3               Leg(s), unspecified    640   \n",
       "4  Finger(s), fingernail(s), n.e.c.   6411   \n",
       "\n",
       "                                          EventTitle  Source  \\\n",
       "0  Injured by physical contact with person while ...    5721   \n",
       "1              Ignition of vapors, gases, or liquids    7261   \n",
       "2         Other fall to lower level less than 6 feet    8421   \n",
       "3  Caught in or compressed by equipment or object...    8623   \n",
       "4  Caught in running equipment or machinery durin...     350   \n",
       "\n",
       "                                         SourceTitle  Secondary Source  \\\n",
       "0                                          Co-worker            5772.0   \n",
       "1                 Welding, cutting, and blow torches               NaN   \n",
       "2                Semi, tractor-trailer, tanker truck             741.0   \n",
       "3                                Pallet jack-powered            8420.0   \n",
       "4  Metal, woodworking, and special material machi...               NaN   \n",
       "\n",
       "                              Secondary Source Title  \n",
       "0                      Inmate or detainee in custody  \n",
       "1                                                NaN  \n",
       "2                                      Ladders-fixed  \n",
       "3  Truck-motorized freight hauling and utility, u...  \n",
       "4                                                NaN  \n",
       "\n",
       "[5 rows x 26 columns]"
      ]
     },
     "execution_count": 2,
     "metadata": {},
     "output_type": "execute_result"
    }
   ],
   "source": [
    "data = pd.read_csv(\"C:/Users/Franchi/Documents/Personal/OSHA Injuries/severe_injury/January2015toJuly2021.csv\", encoding='cp1252')\n",
    "data.head()"
   ]
  },
  {
   "cell_type": "markdown",
   "metadata": {},
   "source": [
    "## 2. Data Cleaning"
   ]
  },
  {
   "cell_type": "code",
   "execution_count": 3,
   "metadata": {},
   "outputs": [
    {
     "data": {
      "text/plain": [
       "(66699, 26)"
      ]
     },
     "execution_count": 3,
     "metadata": {},
     "output_type": "execute_result"
    }
   ],
   "source": [
    "data.shape"
   ]
  },
  {
   "cell_type": "code",
   "execution_count": 4,
   "metadata": {},
   "outputs": [
    {
     "name": "stdout",
     "output_type": "stream",
     "text": [
      "<class 'pandas.core.frame.DataFrame'>\n",
      "RangeIndex: 66699 entries, 0 to 66698\n",
      "Data columns (total 26 columns):\n",
      " #   Column                  Non-Null Count  Dtype  \n",
      "---  ------                  --------------  -----  \n",
      " 0   ID                      66699 non-null  int64  \n",
      " 1   UPA                     66699 non-null  int64  \n",
      " 2   EventDate               66699 non-null  object \n",
      " 3   Employer                66699 non-null  object \n",
      " 4   Address1                66683 non-null  object \n",
      " 5   Address2                6108 non-null   object \n",
      " 6   City                    66684 non-null  object \n",
      " 7   State                   66699 non-null  object \n",
      " 8   Zip                     66680 non-null  float64\n",
      " 9   Latitude                66664 non-null  float64\n",
      " 10  Longitude               66664 non-null  float64\n",
      " 11  Primary NAICS           66697 non-null  object \n",
      " 12  Hospitalized            66699 non-null  float64\n",
      " 13  Amputation              66694 non-null  float64\n",
      " 14  Inspection              22436 non-null  float64\n",
      " 15  Final Narrative         66699 non-null  object \n",
      " 16  Nature                  66699 non-null  int64  \n",
      " 17  NatureTitle             66699 non-null  object \n",
      " 18  Part of Body            66699 non-null  int64  \n",
      " 19  Part of Body Title      66699 non-null  object \n",
      " 20  Event                   66699 non-null  int64  \n",
      " 21  EventTitle              66699 non-null  object \n",
      " 22  Source                  66699 non-null  int64  \n",
      " 23  SourceTitle             66699 non-null  object \n",
      " 24  Secondary Source        23118 non-null  float64\n",
      " 25  Secondary Source Title  23118 non-null  object \n",
      "dtypes: float64(7), int64(6), object(13)\n",
      "memory usage: 13.2+ MB\n"
     ]
    }
   ],
   "source": [
    "data.info()"
   ]
  },
  {
   "cell_type": "code",
   "execution_count": 5,
   "metadata": {},
   "outputs": [
    {
     "data": {
      "text/plain": [
       "ID                            0\n",
       "UPA                           0\n",
       "EventDate                     0\n",
       "Employer                      0\n",
       "Address1                     16\n",
       "Address2                  60591\n",
       "City                         15\n",
       "State                         0\n",
       "Zip                          19\n",
       "Latitude                     35\n",
       "Longitude                    35\n",
       "Primary NAICS                 2\n",
       "Hospitalized                  0\n",
       "Amputation                    5\n",
       "Inspection                44263\n",
       "Final Narrative               0\n",
       "Nature                        0\n",
       "NatureTitle                   0\n",
       "Part of Body                  0\n",
       "Part of Body Title            0\n",
       "Event                         0\n",
       "EventTitle                    0\n",
       "Source                        0\n",
       "SourceTitle                   0\n",
       "Secondary Source          43581\n",
       "Secondary Source Title    43581\n",
       "dtype: int64"
      ]
     },
     "execution_count": 5,
     "metadata": {},
     "output_type": "execute_result"
    }
   ],
   "source": [
    "data.isnull().sum()"
   ]
  },
  {
   "cell_type": "markdown",
   "metadata": {},
   "source": [
    "Dropping colummns with several null values"
   ]
  },
  {
   "cell_type": "code",
   "execution_count": 6,
   "metadata": {},
   "outputs": [],
   "source": [
    "data.drop(['Address2', 'Inspection', 'Secondary Source', 'Secondary Source Title'],axis=1, inplace=True)"
   ]
  },
  {
   "cell_type": "markdown",
   "metadata": {},
   "source": [
    "Dropping no needed colummns"
   ]
  },
  {
   "cell_type": "code",
   "execution_count": 7,
   "metadata": {},
   "outputs": [],
   "source": [
    "data.drop(['UPA', 'Address1', 'Final Narrative', 'Primary NAICS', 'Nature', 'Event', 'Part of Body', 'Source'],axis=1, inplace=True)"
   ]
  },
  {
   "cell_type": "markdown",
   "metadata": {},
   "source": [
    "Dropping null values by rows"
   ]
  },
  {
   "cell_type": "code",
   "execution_count": 8,
   "metadata": {},
   "outputs": [
    {
     "data": {
      "text/html": [
       "<div>\n",
       "<style scoped>\n",
       "    .dataframe tbody tr th:only-of-type {\n",
       "        vertical-align: middle;\n",
       "    }\n",
       "\n",
       "    .dataframe tbody tr th {\n",
       "        vertical-align: top;\n",
       "    }\n",
       "\n",
       "    .dataframe thead th {\n",
       "        text-align: right;\n",
       "    }\n",
       "</style>\n",
       "<table border=\"1\" class=\"dataframe\">\n",
       "  <thead>\n",
       "    <tr style=\"text-align: right;\">\n",
       "      <th></th>\n",
       "      <th>ID</th>\n",
       "      <th>EventDate</th>\n",
       "      <th>Employer</th>\n",
       "      <th>City</th>\n",
       "      <th>State</th>\n",
       "      <th>Zip</th>\n",
       "      <th>Latitude</th>\n",
       "      <th>Longitude</th>\n",
       "      <th>Hospitalized</th>\n",
       "      <th>Amputation</th>\n",
       "      <th>NatureTitle</th>\n",
       "      <th>Part of Body Title</th>\n",
       "      <th>EventTitle</th>\n",
       "      <th>SourceTitle</th>\n",
       "    </tr>\n",
       "  </thead>\n",
       "  <tbody>\n",
       "    <tr>\n",
       "      <th>0</th>\n",
       "      <td>2015010015</td>\n",
       "      <td>1/1/2015</td>\n",
       "      <td>FCI Otisville Federal Correctional Institution</td>\n",
       "      <td>OTISVILLE</td>\n",
       "      <td>NEW YORK</td>\n",
       "      <td>10963.0</td>\n",
       "      <td>41.46</td>\n",
       "      <td>-74.53</td>\n",
       "      <td>1.0</td>\n",
       "      <td>0.0</td>\n",
       "      <td>Fractures</td>\n",
       "      <td>Lower leg(s)</td>\n",
       "      <td>Injured by physical contact with person while ...</td>\n",
       "      <td>Co-worker</td>\n",
       "    </tr>\n",
       "    <tr>\n",
       "      <th>1</th>\n",
       "      <td>2015010016</td>\n",
       "      <td>1/1/2015</td>\n",
       "      <td>Kalahari Manufacturing LLC</td>\n",
       "      <td>LAKE DELTON</td>\n",
       "      <td>WISCONSIN</td>\n",
       "      <td>53940.0</td>\n",
       "      <td>43.59</td>\n",
       "      <td>-89.79</td>\n",
       "      <td>1.0</td>\n",
       "      <td>0.0</td>\n",
       "      <td>Second degree heat (thermal) burns</td>\n",
       "      <td>Leg(s), n.e.c.</td>\n",
       "      <td>Ignition of vapors, gases, or liquids</td>\n",
       "      <td>Welding, cutting, and blow torches</td>\n",
       "    </tr>\n",
       "    <tr>\n",
       "      <th>2</th>\n",
       "      <td>2015010018</td>\n",
       "      <td>1/1/2015</td>\n",
       "      <td>Schneider National Bulk Carrier</td>\n",
       "      <td>CORAOPOLIS</td>\n",
       "      <td>PENNSYLVANIA</td>\n",
       "      <td>15108.0</td>\n",
       "      <td>40.49</td>\n",
       "      <td>-80.11</td>\n",
       "      <td>1.0</td>\n",
       "      <td>0.0</td>\n",
       "      <td>Traumatic injuries and disorders, unspecified</td>\n",
       "      <td>Nonclassifiable</td>\n",
       "      <td>Other fall to lower level less than 6 feet</td>\n",
       "      <td>Semi, tractor-trailer, tanker truck</td>\n",
       "    </tr>\n",
       "    <tr>\n",
       "      <th>3</th>\n",
       "      <td>2015010019</td>\n",
       "      <td>1/1/2015</td>\n",
       "      <td>PEPSI BOTTLING GROUP INC.</td>\n",
       "      <td>MACON</td>\n",
       "      <td>GEORGIA</td>\n",
       "      <td>31206.0</td>\n",
       "      <td>32.77</td>\n",
       "      <td>-83.65</td>\n",
       "      <td>1.0</td>\n",
       "      <td>0.0</td>\n",
       "      <td>Soreness, pain, hurt-nonspecified injury</td>\n",
       "      <td>Leg(s), unspecified</td>\n",
       "      <td>Caught in or compressed by equipment or object...</td>\n",
       "      <td>Pallet jack-powered</td>\n",
       "    </tr>\n",
       "    <tr>\n",
       "      <th>4</th>\n",
       "      <td>2015010020</td>\n",
       "      <td>1/1/2015</td>\n",
       "      <td>North American Pipe Corporation</td>\n",
       "      <td>JANESVILLE</td>\n",
       "      <td>WISCONSIN</td>\n",
       "      <td>53545.0</td>\n",
       "      <td>42.67</td>\n",
       "      <td>-89.04</td>\n",
       "      <td>1.0</td>\n",
       "      <td>0.0</td>\n",
       "      <td>Fractures</td>\n",
       "      <td>Finger(s), fingernail(s), n.e.c.</td>\n",
       "      <td>Caught in running equipment or machinery durin...</td>\n",
       "      <td>Metal, woodworking, and special material machi...</td>\n",
       "    </tr>\n",
       "  </tbody>\n",
       "</table>\n",
       "</div>"
      ],
      "text/plain": [
       "           ID EventDate                                        Employer  \\\n",
       "0  2015010015  1/1/2015  FCI Otisville Federal Correctional Institution   \n",
       "1  2015010016  1/1/2015                      Kalahari Manufacturing LLC   \n",
       "2  2015010018  1/1/2015                 Schneider National Bulk Carrier   \n",
       "3  2015010019  1/1/2015                       PEPSI BOTTLING GROUP INC.   \n",
       "4  2015010020  1/1/2015                 North American Pipe Corporation   \n",
       "\n",
       "          City         State      Zip  Latitude  Longitude  Hospitalized  \\\n",
       "0    OTISVILLE      NEW YORK  10963.0     41.46     -74.53           1.0   \n",
       "1  LAKE DELTON     WISCONSIN  53940.0     43.59     -89.79           1.0   \n",
       "2   CORAOPOLIS  PENNSYLVANIA  15108.0     40.49     -80.11           1.0   \n",
       "3        MACON       GEORGIA  31206.0     32.77     -83.65           1.0   \n",
       "4   JANESVILLE     WISCONSIN  53545.0     42.67     -89.04           1.0   \n",
       "\n",
       "   Amputation                                    NatureTitle  \\\n",
       "0         0.0                                      Fractures   \n",
       "1         0.0             Second degree heat (thermal) burns   \n",
       "2         0.0  Traumatic injuries and disorders, unspecified   \n",
       "3         0.0       Soreness, pain, hurt-nonspecified injury   \n",
       "4         0.0                                      Fractures   \n",
       "\n",
       "                 Part of Body Title  \\\n",
       "0                      Lower leg(s)   \n",
       "1                    Leg(s), n.e.c.   \n",
       "2                   Nonclassifiable   \n",
       "3               Leg(s), unspecified   \n",
       "4  Finger(s), fingernail(s), n.e.c.   \n",
       "\n",
       "                                          EventTitle  \\\n",
       "0  Injured by physical contact with person while ...   \n",
       "1              Ignition of vapors, gases, or liquids   \n",
       "2         Other fall to lower level less than 6 feet   \n",
       "3  Caught in or compressed by equipment or object...   \n",
       "4  Caught in running equipment or machinery durin...   \n",
       "\n",
       "                                         SourceTitle  \n",
       "0                                          Co-worker  \n",
       "1                 Welding, cutting, and blow torches  \n",
       "2                Semi, tractor-trailer, tanker truck  \n",
       "3                                Pallet jack-powered  \n",
       "4  Metal, woodworking, and special material machi...  "
      ]
     },
     "execution_count": 8,
     "metadata": {},
     "output_type": "execute_result"
    }
   ],
   "source": [
    "data = data.dropna()\n",
    "data.head()"
   ]
  },
  {
   "cell_type": "markdown",
   "metadata": {},
   "source": [
    "Checking null values"
   ]
  },
  {
   "cell_type": "code",
   "execution_count": 9,
   "metadata": {},
   "outputs": [
    {
     "data": {
      "text/plain": [
       "ID                    0\n",
       "EventDate             0\n",
       "Employer              0\n",
       "City                  0\n",
       "State                 0\n",
       "Zip                   0\n",
       "Latitude              0\n",
       "Longitude             0\n",
       "Hospitalized          0\n",
       "Amputation            0\n",
       "NatureTitle           0\n",
       "Part of Body Title    0\n",
       "EventTitle            0\n",
       "SourceTitle           0\n",
       "dtype: int64"
      ]
     },
     "execution_count": 9,
     "metadata": {},
     "output_type": "execute_result"
    }
   ],
   "source": [
    "data.isnull().sum()"
   ]
  },
  {
   "cell_type": "markdown",
   "metadata": {},
   "source": [
    "Checking the new shape of dataframe"
   ]
  },
  {
   "cell_type": "code",
   "execution_count": 10,
   "metadata": {},
   "outputs": [
    {
     "data": {
      "text/plain": [
       "(66640, 14)"
      ]
     },
     "execution_count": 10,
     "metadata": {},
     "output_type": "execute_result"
    }
   ],
   "source": [
    "data.shape"
   ]
  },
  {
   "cell_type": "markdown",
   "metadata": {},
   "source": [
    "Replacing State abbreviations for State Name"
   ]
  },
  {
   "cell_type": "markdown",
   "metadata": {},
   "source": [
    " US state abbreviations https://gist.github.com/JeffPaine/3083347 "
   ]
  },
  {
   "cell_type": "code",
   "execution_count": 11,
   "metadata": {},
   "outputs": [],
   "source": [
    "states = {\n",
    "    'AK': 'Alaska',\n",
    "    'AL': 'Alabama',\n",
    "    'AR': 'Arkansas',\n",
    "    'AZ': 'Arizona',\n",
    "    'CA': 'California',\n",
    "    'CO': 'Colorado',\n",
    "    'CT': 'Connecticut',\n",
    "    'DC': 'District of Columbia',\n",
    "    'DE': 'Delaware',\n",
    "    'FL': 'Florida',\n",
    "    'GA': 'Georgia',\n",
    "    'HI': 'Hawaii',\n",
    "    'IA': 'Iowa',\n",
    "    'ID': 'Idaho',\n",
    "    'IL': 'Illinois',\n",
    "    'IN': 'Indiana',\n",
    "    'KS': 'Kansas',\n",
    "    'KY': 'Kentucky',\n",
    "    'LA': 'Louisiana',\n",
    "    'MA': 'Massachusetts',\n",
    "    'MD': 'Maryland',\n",
    "    'ME': 'Maine',\n",
    "    'MI': 'Michigan',\n",
    "    'MN': 'Minnesota',\n",
    "    'MO': 'Missouri',\n",
    "    'MS': 'Mississippi',\n",
    "    'MT': 'Montana',\n",
    "    'NC': 'North Carolina',\n",
    "    'ND': 'North Dakota',\n",
    "    'NE': 'Nebraska',\n",
    "    'NH': 'New Hampshire',\n",
    "    'NJ': 'New Jersey',\n",
    "    'NM': 'New Mexico',\n",
    "    'NV': 'Nevada',\n",
    "    'NY': 'New York',\n",
    "    'OH': 'Ohio',\n",
    "    'OK': 'Oklahoma',\n",
    "    'OR': 'Oregon',\n",
    "    'PA': 'Pennsylvania',\n",
    "    'RI': 'Rhode Island',\n",
    "    'SC': 'South Carolina',\n",
    "    'SD': 'South Dakota',\n",
    "    'TN': 'Tennessee',\n",
    "    'TX': 'Texas',\n",
    "    'UT': 'Utah',\n",
    "    'VA': 'Virginia',\n",
    "    'VT': 'Vermont',\n",
    "    'WA': 'Washington',\n",
    "    'WI': 'Wisconsin',\n",
    "    'WV': 'West Virginia',\n",
    "    'WY': 'Wyoming'\n",
    "}"
   ]
  },
  {
   "cell_type": "code",
   "execution_count": 12,
   "metadata": {
    "scrolled": true
   },
   "outputs": [
    {
     "data": {
      "text/html": [
       "<div>\n",
       "<style scoped>\n",
       "    .dataframe tbody tr th:only-of-type {\n",
       "        vertical-align: middle;\n",
       "    }\n",
       "\n",
       "    .dataframe tbody tr th {\n",
       "        vertical-align: top;\n",
       "    }\n",
       "\n",
       "    .dataframe thead th {\n",
       "        text-align: right;\n",
       "    }\n",
       "</style>\n",
       "<table border=\"1\" class=\"dataframe\">\n",
       "  <thead>\n",
       "    <tr style=\"text-align: right;\">\n",
       "      <th></th>\n",
       "      <th>ID</th>\n",
       "      <th>EventDate</th>\n",
       "      <th>Employer</th>\n",
       "      <th>City</th>\n",
       "      <th>State</th>\n",
       "      <th>Zip</th>\n",
       "      <th>Latitude</th>\n",
       "      <th>Longitude</th>\n",
       "      <th>Hospitalized</th>\n",
       "      <th>Amputation</th>\n",
       "      <th>NatureTitle</th>\n",
       "      <th>Part of Body Title</th>\n",
       "      <th>EventTitle</th>\n",
       "      <th>SourceTitle</th>\n",
       "    </tr>\n",
       "  </thead>\n",
       "  <tbody>\n",
       "    <tr>\n",
       "      <th>0</th>\n",
       "      <td>2015010015</td>\n",
       "      <td>1/1/2015</td>\n",
       "      <td>FCI Otisville Federal Correctional Institution</td>\n",
       "      <td>OTISVILLE</td>\n",
       "      <td>NEW YORK</td>\n",
       "      <td>10963.0</td>\n",
       "      <td>41.46</td>\n",
       "      <td>-74.53</td>\n",
       "      <td>1.0</td>\n",
       "      <td>0.0</td>\n",
       "      <td>Fractures</td>\n",
       "      <td>Lower leg(s)</td>\n",
       "      <td>Injured by physical contact with person while ...</td>\n",
       "      <td>Co-worker</td>\n",
       "    </tr>\n",
       "    <tr>\n",
       "      <th>1</th>\n",
       "      <td>2015010016</td>\n",
       "      <td>1/1/2015</td>\n",
       "      <td>Kalahari Manufacturing LLC</td>\n",
       "      <td>LAKE DELTON</td>\n",
       "      <td>WISCONSIN</td>\n",
       "      <td>53940.0</td>\n",
       "      <td>43.59</td>\n",
       "      <td>-89.79</td>\n",
       "      <td>1.0</td>\n",
       "      <td>0.0</td>\n",
       "      <td>Second degree heat (thermal) burns</td>\n",
       "      <td>Leg(s), n.e.c.</td>\n",
       "      <td>Ignition of vapors, gases, or liquids</td>\n",
       "      <td>Welding, cutting, and blow torches</td>\n",
       "    </tr>\n",
       "    <tr>\n",
       "      <th>2</th>\n",
       "      <td>2015010018</td>\n",
       "      <td>1/1/2015</td>\n",
       "      <td>Schneider National Bulk Carrier</td>\n",
       "      <td>CORAOPOLIS</td>\n",
       "      <td>PENNSYLVANIA</td>\n",
       "      <td>15108.0</td>\n",
       "      <td>40.49</td>\n",
       "      <td>-80.11</td>\n",
       "      <td>1.0</td>\n",
       "      <td>0.0</td>\n",
       "      <td>Traumatic injuries and disorders, unspecified</td>\n",
       "      <td>Nonclassifiable</td>\n",
       "      <td>Other fall to lower level less than 6 feet</td>\n",
       "      <td>Semi, tractor-trailer, tanker truck</td>\n",
       "    </tr>\n",
       "    <tr>\n",
       "      <th>3</th>\n",
       "      <td>2015010019</td>\n",
       "      <td>1/1/2015</td>\n",
       "      <td>PEPSI BOTTLING GROUP INC.</td>\n",
       "      <td>MACON</td>\n",
       "      <td>GEORGIA</td>\n",
       "      <td>31206.0</td>\n",
       "      <td>32.77</td>\n",
       "      <td>-83.65</td>\n",
       "      <td>1.0</td>\n",
       "      <td>0.0</td>\n",
       "      <td>Soreness, pain, hurt-nonspecified injury</td>\n",
       "      <td>Leg(s), unspecified</td>\n",
       "      <td>Caught in or compressed by equipment or object...</td>\n",
       "      <td>Pallet jack-powered</td>\n",
       "    </tr>\n",
       "    <tr>\n",
       "      <th>4</th>\n",
       "      <td>2015010020</td>\n",
       "      <td>1/1/2015</td>\n",
       "      <td>North American Pipe Corporation</td>\n",
       "      <td>JANESVILLE</td>\n",
       "      <td>WISCONSIN</td>\n",
       "      <td>53545.0</td>\n",
       "      <td>42.67</td>\n",
       "      <td>-89.04</td>\n",
       "      <td>1.0</td>\n",
       "      <td>0.0</td>\n",
       "      <td>Fractures</td>\n",
       "      <td>Finger(s), fingernail(s), n.e.c.</td>\n",
       "      <td>Caught in running equipment or machinery durin...</td>\n",
       "      <td>Metal, woodworking, and special material machi...</td>\n",
       "    </tr>\n",
       "    <tr>\n",
       "      <th>...</th>\n",
       "      <td>...</td>\n",
       "      <td>...</td>\n",
       "      <td>...</td>\n",
       "      <td>...</td>\n",
       "      <td>...</td>\n",
       "      <td>...</td>\n",
       "      <td>...</td>\n",
       "      <td>...</td>\n",
       "      <td>...</td>\n",
       "      <td>...</td>\n",
       "      <td>...</td>\n",
       "      <td>...</td>\n",
       "      <td>...</td>\n",
       "      <td>...</td>\n",
       "    </tr>\n",
       "    <tr>\n",
       "      <th>66694</th>\n",
       "      <td>2021076378</td>\n",
       "      <td>7/31/2021</td>\n",
       "      <td>VIRGINIA INTERNATIONAL TERMINALS INC.</td>\n",
       "      <td>PORTSMOUTH</td>\n",
       "      <td>Virginia</td>\n",
       "      <td>23703.0</td>\n",
       "      <td>36.83</td>\n",
       "      <td>-76.33</td>\n",
       "      <td>1.0</td>\n",
       "      <td>0.0</td>\n",
       "      <td>Fractures</td>\n",
       "      <td>Ankle(s)</td>\n",
       "      <td>Fall on water vehicle</td>\n",
       "      <td>Barge</td>\n",
       "    </tr>\n",
       "    <tr>\n",
       "      <th>66695</th>\n",
       "      <td>2021076379</td>\n",
       "      <td>7/31/2021</td>\n",
       "      <td>Cedar Grove Warehousing LLC</td>\n",
       "      <td>PLYMOUTH</td>\n",
       "      <td>Wisconsin</td>\n",
       "      <td>53073.0</td>\n",
       "      <td>43.73</td>\n",
       "      <td>-87.97</td>\n",
       "      <td>1.0</td>\n",
       "      <td>0.0</td>\n",
       "      <td>Fractures</td>\n",
       "      <td>Shoulder(s), including clavicle(s), scapula(e)</td>\n",
       "      <td>Other fall to lower level, unspecified</td>\n",
       "      <td>Step ladders</td>\n",
       "    </tr>\n",
       "    <tr>\n",
       "      <th>66696</th>\n",
       "      <td>2021076380</td>\n",
       "      <td>7/31/2021</td>\n",
       "      <td>MVP PLUMBING CORP.</td>\n",
       "      <td>ROMEOVILLE</td>\n",
       "      <td>Illinois</td>\n",
       "      <td>60446.0</td>\n",
       "      <td>41.59</td>\n",
       "      <td>-88.10</td>\n",
       "      <td>1.0</td>\n",
       "      <td>0.0</td>\n",
       "      <td>Cuts, lacerations</td>\n",
       "      <td>Neck, except internal location of diseases or ...</td>\n",
       "      <td>Injured by slipping or swinging object held by...</td>\n",
       "      <td>Saws-powered, except chainsaws</td>\n",
       "    </tr>\n",
       "    <tr>\n",
       "      <th>66697</th>\n",
       "      <td>2021076384</td>\n",
       "      <td>7/31/2021</td>\n",
       "      <td>Agropur, Inc.</td>\n",
       "      <td>LAKE NORDEN</td>\n",
       "      <td>South Dakota</td>\n",
       "      <td>57248.0</td>\n",
       "      <td>44.58</td>\n",
       "      <td>-97.21</td>\n",
       "      <td>1.0</td>\n",
       "      <td>0.0</td>\n",
       "      <td>Electrocutions, electric shocks</td>\n",
       "      <td>BODY SYSTEMS</td>\n",
       "      <td>Direct exposure to electricity, greater than 2...</td>\n",
       "      <td>Switchboards, switches, fuses</td>\n",
       "    </tr>\n",
       "    <tr>\n",
       "      <th>66698</th>\n",
       "      <td>2021076402</td>\n",
       "      <td>7/31/2021</td>\n",
       "      <td>The Lowell General Hospital</td>\n",
       "      <td>LOWELL</td>\n",
       "      <td>Massachusetts</td>\n",
       "      <td>1852.0</td>\n",
       "      <td>42.64</td>\n",
       "      <td>-71.30</td>\n",
       "      <td>1.0</td>\n",
       "      <td>0.0</td>\n",
       "      <td>Intracranial injuries, unspecified</td>\n",
       "      <td>Brain</td>\n",
       "      <td>Hitting, kicking, beating, shoving</td>\n",
       "      <td>Patient</td>\n",
       "    </tr>\n",
       "  </tbody>\n",
       "</table>\n",
       "<p>66640 rows × 14 columns</p>\n",
       "</div>"
      ],
      "text/plain": [
       "               ID  EventDate                                        Employer  \\\n",
       "0      2015010015   1/1/2015  FCI Otisville Federal Correctional Institution   \n",
       "1      2015010016   1/1/2015                      Kalahari Manufacturing LLC   \n",
       "2      2015010018   1/1/2015                 Schneider National Bulk Carrier   \n",
       "3      2015010019   1/1/2015                       PEPSI BOTTLING GROUP INC.   \n",
       "4      2015010020   1/1/2015                 North American Pipe Corporation   \n",
       "...           ...        ...                                             ...   \n",
       "66694  2021076378  7/31/2021           VIRGINIA INTERNATIONAL TERMINALS INC.   \n",
       "66695  2021076379  7/31/2021                     Cedar Grove Warehousing LLC   \n",
       "66696  2021076380  7/31/2021                              MVP PLUMBING CORP.   \n",
       "66697  2021076384  7/31/2021                                   Agropur, Inc.   \n",
       "66698  2021076402  7/31/2021                     The Lowell General Hospital   \n",
       "\n",
       "              City          State      Zip  Latitude  Longitude  Hospitalized  \\\n",
       "0        OTISVILLE       NEW YORK  10963.0     41.46     -74.53           1.0   \n",
       "1      LAKE DELTON      WISCONSIN  53940.0     43.59     -89.79           1.0   \n",
       "2       CORAOPOLIS   PENNSYLVANIA  15108.0     40.49     -80.11           1.0   \n",
       "3            MACON        GEORGIA  31206.0     32.77     -83.65           1.0   \n",
       "4       JANESVILLE      WISCONSIN  53545.0     42.67     -89.04           1.0   \n",
       "...            ...            ...      ...       ...        ...           ...   \n",
       "66694   PORTSMOUTH       Virginia  23703.0     36.83     -76.33           1.0   \n",
       "66695     PLYMOUTH      Wisconsin  53073.0     43.73     -87.97           1.0   \n",
       "66696   ROMEOVILLE       Illinois  60446.0     41.59     -88.10           1.0   \n",
       "66697  LAKE NORDEN   South Dakota  57248.0     44.58     -97.21           1.0   \n",
       "66698       LOWELL  Massachusetts   1852.0     42.64     -71.30           1.0   \n",
       "\n",
       "       Amputation                                    NatureTitle  \\\n",
       "0             0.0                                      Fractures   \n",
       "1             0.0             Second degree heat (thermal) burns   \n",
       "2             0.0  Traumatic injuries and disorders, unspecified   \n",
       "3             0.0       Soreness, pain, hurt-nonspecified injury   \n",
       "4             0.0                                      Fractures   \n",
       "...           ...                                            ...   \n",
       "66694         0.0                                      Fractures   \n",
       "66695         0.0                                      Fractures   \n",
       "66696         0.0                              Cuts, lacerations   \n",
       "66697         0.0                Electrocutions, electric shocks   \n",
       "66698         0.0             Intracranial injuries, unspecified   \n",
       "\n",
       "                                      Part of Body Title  \\\n",
       "0                                           Lower leg(s)   \n",
       "1                                         Leg(s), n.e.c.   \n",
       "2                                        Nonclassifiable   \n",
       "3                                    Leg(s), unspecified   \n",
       "4                       Finger(s), fingernail(s), n.e.c.   \n",
       "...                                                  ...   \n",
       "66694                                           Ankle(s)   \n",
       "66695     Shoulder(s), including clavicle(s), scapula(e)   \n",
       "66696  Neck, except internal location of diseases or ...   \n",
       "66697                                       BODY SYSTEMS   \n",
       "66698                                              Brain   \n",
       "\n",
       "                                              EventTitle  \\\n",
       "0      Injured by physical contact with person while ...   \n",
       "1                  Ignition of vapors, gases, or liquids   \n",
       "2             Other fall to lower level less than 6 feet   \n",
       "3      Caught in or compressed by equipment or object...   \n",
       "4      Caught in running equipment or machinery durin...   \n",
       "...                                                  ...   \n",
       "66694                              Fall on water vehicle   \n",
       "66695             Other fall to lower level, unspecified   \n",
       "66696  Injured by slipping or swinging object held by...   \n",
       "66697  Direct exposure to electricity, greater than 2...   \n",
       "66698                 Hitting, kicking, beating, shoving   \n",
       "\n",
       "                                             SourceTitle  \n",
       "0                                              Co-worker  \n",
       "1                     Welding, cutting, and blow torches  \n",
       "2                    Semi, tractor-trailer, tanker truck  \n",
       "3                                    Pallet jack-powered  \n",
       "4      Metal, woodworking, and special material machi...  \n",
       "...                                                  ...  \n",
       "66694                                              Barge  \n",
       "66695                                       Step ladders  \n",
       "66696                     Saws-powered, except chainsaws  \n",
       "66697                      Switchboards, switches, fuses  \n",
       "66698                                           Patient   \n",
       "\n",
       "[66640 rows x 14 columns]"
      ]
     },
     "execution_count": 12,
     "metadata": {},
     "output_type": "execute_result"
    }
   ],
   "source": [
    "data = data.replace({'State': states})\n",
    "data"
   ]
  },
  {
   "cell_type": "markdown",
   "metadata": {},
   "source": [
    "Converting and overwriting values in State, City and Employer columns, from upper case to title case"
   ]
  },
  {
   "cell_type": "code",
   "execution_count": 13,
   "metadata": {},
   "outputs": [],
   "source": [
    "data['State']= data['State'].str.upper().str.title()"
   ]
  },
  {
   "cell_type": "code",
   "execution_count": 14,
   "metadata": {},
   "outputs": [],
   "source": [
    "data['City']= data['City'].str.upper().str.title()"
   ]
  },
  {
   "cell_type": "code",
   "execution_count": 15,
   "metadata": {},
   "outputs": [],
   "source": [
    "data['Employer']= data['Employer'].str.upper().str.title()"
   ]
  },
  {
   "cell_type": "code",
   "execution_count": 16,
   "metadata": {
    "scrolled": true
   },
   "outputs": [
    {
     "data": {
      "text/html": [
       "<div>\n",
       "<style scoped>\n",
       "    .dataframe tbody tr th:only-of-type {\n",
       "        vertical-align: middle;\n",
       "    }\n",
       "\n",
       "    .dataframe tbody tr th {\n",
       "        vertical-align: top;\n",
       "    }\n",
       "\n",
       "    .dataframe thead th {\n",
       "        text-align: right;\n",
       "    }\n",
       "</style>\n",
       "<table border=\"1\" class=\"dataframe\">\n",
       "  <thead>\n",
       "    <tr style=\"text-align: right;\">\n",
       "      <th></th>\n",
       "      <th>ID</th>\n",
       "      <th>EventDate</th>\n",
       "      <th>Employer</th>\n",
       "      <th>City</th>\n",
       "      <th>State</th>\n",
       "      <th>Zip</th>\n",
       "      <th>Latitude</th>\n",
       "      <th>Longitude</th>\n",
       "      <th>Hospitalized</th>\n",
       "      <th>Amputation</th>\n",
       "      <th>NatureTitle</th>\n",
       "      <th>Part of Body Title</th>\n",
       "      <th>EventTitle</th>\n",
       "      <th>SourceTitle</th>\n",
       "    </tr>\n",
       "  </thead>\n",
       "  <tbody>\n",
       "    <tr>\n",
       "      <th>0</th>\n",
       "      <td>2015010015</td>\n",
       "      <td>1/1/2015</td>\n",
       "      <td>Fci Otisville Federal Correctional Institution</td>\n",
       "      <td>Otisville</td>\n",
       "      <td>New York</td>\n",
       "      <td>10963.0</td>\n",
       "      <td>41.46</td>\n",
       "      <td>-74.53</td>\n",
       "      <td>1.0</td>\n",
       "      <td>0.0</td>\n",
       "      <td>Fractures</td>\n",
       "      <td>Lower leg(s)</td>\n",
       "      <td>Injured by physical contact with person while ...</td>\n",
       "      <td>Co-worker</td>\n",
       "    </tr>\n",
       "    <tr>\n",
       "      <th>1</th>\n",
       "      <td>2015010016</td>\n",
       "      <td>1/1/2015</td>\n",
       "      <td>Kalahari Manufacturing Llc</td>\n",
       "      <td>Lake Delton</td>\n",
       "      <td>Wisconsin</td>\n",
       "      <td>53940.0</td>\n",
       "      <td>43.59</td>\n",
       "      <td>-89.79</td>\n",
       "      <td>1.0</td>\n",
       "      <td>0.0</td>\n",
       "      <td>Second degree heat (thermal) burns</td>\n",
       "      <td>Leg(s), n.e.c.</td>\n",
       "      <td>Ignition of vapors, gases, or liquids</td>\n",
       "      <td>Welding, cutting, and blow torches</td>\n",
       "    </tr>\n",
       "    <tr>\n",
       "      <th>2</th>\n",
       "      <td>2015010018</td>\n",
       "      <td>1/1/2015</td>\n",
       "      <td>Schneider National Bulk Carrier</td>\n",
       "      <td>Coraopolis</td>\n",
       "      <td>Pennsylvania</td>\n",
       "      <td>15108.0</td>\n",
       "      <td>40.49</td>\n",
       "      <td>-80.11</td>\n",
       "      <td>1.0</td>\n",
       "      <td>0.0</td>\n",
       "      <td>Traumatic injuries and disorders, unspecified</td>\n",
       "      <td>Nonclassifiable</td>\n",
       "      <td>Other fall to lower level less than 6 feet</td>\n",
       "      <td>Semi, tractor-trailer, tanker truck</td>\n",
       "    </tr>\n",
       "    <tr>\n",
       "      <th>3</th>\n",
       "      <td>2015010019</td>\n",
       "      <td>1/1/2015</td>\n",
       "      <td>Pepsi Bottling Group Inc.</td>\n",
       "      <td>Macon</td>\n",
       "      <td>Georgia</td>\n",
       "      <td>31206.0</td>\n",
       "      <td>32.77</td>\n",
       "      <td>-83.65</td>\n",
       "      <td>1.0</td>\n",
       "      <td>0.0</td>\n",
       "      <td>Soreness, pain, hurt-nonspecified injury</td>\n",
       "      <td>Leg(s), unspecified</td>\n",
       "      <td>Caught in or compressed by equipment or object...</td>\n",
       "      <td>Pallet jack-powered</td>\n",
       "    </tr>\n",
       "    <tr>\n",
       "      <th>4</th>\n",
       "      <td>2015010020</td>\n",
       "      <td>1/1/2015</td>\n",
       "      <td>North American Pipe Corporation</td>\n",
       "      <td>Janesville</td>\n",
       "      <td>Wisconsin</td>\n",
       "      <td>53545.0</td>\n",
       "      <td>42.67</td>\n",
       "      <td>-89.04</td>\n",
       "      <td>1.0</td>\n",
       "      <td>0.0</td>\n",
       "      <td>Fractures</td>\n",
       "      <td>Finger(s), fingernail(s), n.e.c.</td>\n",
       "      <td>Caught in running equipment or machinery durin...</td>\n",
       "      <td>Metal, woodworking, and special material machi...</td>\n",
       "    </tr>\n",
       "  </tbody>\n",
       "</table>\n",
       "</div>"
      ],
      "text/plain": [
       "           ID EventDate                                        Employer  \\\n",
       "0  2015010015  1/1/2015  Fci Otisville Federal Correctional Institution   \n",
       "1  2015010016  1/1/2015                      Kalahari Manufacturing Llc   \n",
       "2  2015010018  1/1/2015                 Schneider National Bulk Carrier   \n",
       "3  2015010019  1/1/2015                       Pepsi Bottling Group Inc.   \n",
       "4  2015010020  1/1/2015                 North American Pipe Corporation   \n",
       "\n",
       "          City         State      Zip  Latitude  Longitude  Hospitalized  \\\n",
       "0    Otisville      New York  10963.0     41.46     -74.53           1.0   \n",
       "1  Lake Delton     Wisconsin  53940.0     43.59     -89.79           1.0   \n",
       "2   Coraopolis  Pennsylvania  15108.0     40.49     -80.11           1.0   \n",
       "3        Macon       Georgia  31206.0     32.77     -83.65           1.0   \n",
       "4   Janesville     Wisconsin  53545.0     42.67     -89.04           1.0   \n",
       "\n",
       "   Amputation                                    NatureTitle  \\\n",
       "0         0.0                                      Fractures   \n",
       "1         0.0             Second degree heat (thermal) burns   \n",
       "2         0.0  Traumatic injuries and disorders, unspecified   \n",
       "3         0.0       Soreness, pain, hurt-nonspecified injury   \n",
       "4         0.0                                      Fractures   \n",
       "\n",
       "                 Part of Body Title  \\\n",
       "0                      Lower leg(s)   \n",
       "1                    Leg(s), n.e.c.   \n",
       "2                   Nonclassifiable   \n",
       "3               Leg(s), unspecified   \n",
       "4  Finger(s), fingernail(s), n.e.c.   \n",
       "\n",
       "                                          EventTitle  \\\n",
       "0  Injured by physical contact with person while ...   \n",
       "1              Ignition of vapors, gases, or liquids   \n",
       "2         Other fall to lower level less than 6 feet   \n",
       "3  Caught in or compressed by equipment or object...   \n",
       "4  Caught in running equipment or machinery durin...   \n",
       "\n",
       "                                         SourceTitle  \n",
       "0                                          Co-worker  \n",
       "1                 Welding, cutting, and blow torches  \n",
       "2                Semi, tractor-trailer, tanker truck  \n",
       "3                                Pallet jack-powered  \n",
       "4  Metal, woodworking, and special material machi...  "
      ]
     },
     "execution_count": 16,
     "metadata": {},
     "output_type": "execute_result"
    }
   ],
   "source": [
    "data.head()"
   ]
  },
  {
   "cell_type": "markdown",
   "metadata": {},
   "source": [
    "Checking null values"
   ]
  },
  {
   "cell_type": "code",
   "execution_count": 17,
   "metadata": {},
   "outputs": [
    {
     "name": "stdout",
     "output_type": "stream",
     "text": [
      "<class 'pandas.core.frame.DataFrame'>\n",
      "Int64Index: 66640 entries, 0 to 66698\n",
      "Data columns (total 14 columns):\n",
      " #   Column              Non-Null Count  Dtype  \n",
      "---  ------              --------------  -----  \n",
      " 0   ID                  66640 non-null  int64  \n",
      " 1   EventDate           66640 non-null  object \n",
      " 2   Employer            66640 non-null  object \n",
      " 3   City                66640 non-null  object \n",
      " 4   State               66640 non-null  object \n",
      " 5   Zip                 66640 non-null  float64\n",
      " 6   Latitude            66640 non-null  float64\n",
      " 7   Longitude           66640 non-null  float64\n",
      " 8   Hospitalized        66640 non-null  float64\n",
      " 9   Amputation          66640 non-null  float64\n",
      " 10  NatureTitle         66640 non-null  object \n",
      " 11  Part of Body Title  66640 non-null  object \n",
      " 12  EventTitle          66640 non-null  object \n",
      " 13  SourceTitle         66640 non-null  object \n",
      "dtypes: float64(5), int64(1), object(8)\n",
      "memory usage: 7.6+ MB\n"
     ]
    }
   ],
   "source": [
    "data.info()"
   ]
  },
  {
   "cell_type": "markdown",
   "metadata": {},
   "source": [
    "Ckecking duplicate IDs. There are 63 duplicate values to remove."
   ]
  },
  {
   "cell_type": "code",
   "execution_count": 18,
   "metadata": {
    "scrolled": true
   },
   "outputs": [
    {
     "data": {
      "text/plain": [
       "66635"
      ]
     },
     "execution_count": 18,
     "metadata": {},
     "output_type": "execute_result"
    }
   ],
   "source": [
    "data.ID.nunique()"
   ]
  },
  {
   "cell_type": "markdown",
   "metadata": {},
   "source": [
    "Removing duplicates by the ID column"
   ]
  },
  {
   "cell_type": "code",
   "execution_count": 19,
   "metadata": {
    "scrolled": true
   },
   "outputs": [
    {
     "data": {
      "text/html": [
       "<div>\n",
       "<style scoped>\n",
       "    .dataframe tbody tr th:only-of-type {\n",
       "        vertical-align: middle;\n",
       "    }\n",
       "\n",
       "    .dataframe tbody tr th {\n",
       "        vertical-align: top;\n",
       "    }\n",
       "\n",
       "    .dataframe thead th {\n",
       "        text-align: right;\n",
       "    }\n",
       "</style>\n",
       "<table border=\"1\" class=\"dataframe\">\n",
       "  <thead>\n",
       "    <tr style=\"text-align: right;\">\n",
       "      <th></th>\n",
       "      <th>index</th>\n",
       "      <th>ID</th>\n",
       "      <th>EventDate</th>\n",
       "      <th>Employer</th>\n",
       "      <th>City</th>\n",
       "      <th>State</th>\n",
       "      <th>Zip</th>\n",
       "      <th>Latitude</th>\n",
       "      <th>Longitude</th>\n",
       "      <th>Hospitalized</th>\n",
       "      <th>Amputation</th>\n",
       "      <th>NatureTitle</th>\n",
       "      <th>Part of Body Title</th>\n",
       "      <th>EventTitle</th>\n",
       "      <th>SourceTitle</th>\n",
       "    </tr>\n",
       "  </thead>\n",
       "  <tbody>\n",
       "    <tr>\n",
       "      <th>0</th>\n",
       "      <td>0</td>\n",
       "      <td>2015010015</td>\n",
       "      <td>1/1/2015</td>\n",
       "      <td>Fci Otisville Federal Correctional Institution</td>\n",
       "      <td>Otisville</td>\n",
       "      <td>New York</td>\n",
       "      <td>10963.0</td>\n",
       "      <td>41.46</td>\n",
       "      <td>-74.53</td>\n",
       "      <td>1.0</td>\n",
       "      <td>0.0</td>\n",
       "      <td>Fractures</td>\n",
       "      <td>Lower leg(s)</td>\n",
       "      <td>Injured by physical contact with person while ...</td>\n",
       "      <td>Co-worker</td>\n",
       "    </tr>\n",
       "    <tr>\n",
       "      <th>1</th>\n",
       "      <td>1</td>\n",
       "      <td>2015010016</td>\n",
       "      <td>1/1/2015</td>\n",
       "      <td>Kalahari Manufacturing Llc</td>\n",
       "      <td>Lake Delton</td>\n",
       "      <td>Wisconsin</td>\n",
       "      <td>53940.0</td>\n",
       "      <td>43.59</td>\n",
       "      <td>-89.79</td>\n",
       "      <td>1.0</td>\n",
       "      <td>0.0</td>\n",
       "      <td>Second degree heat (thermal) burns</td>\n",
       "      <td>Leg(s), n.e.c.</td>\n",
       "      <td>Ignition of vapors, gases, or liquids</td>\n",
       "      <td>Welding, cutting, and blow torches</td>\n",
       "    </tr>\n",
       "    <tr>\n",
       "      <th>2</th>\n",
       "      <td>2</td>\n",
       "      <td>2015010018</td>\n",
       "      <td>1/1/2015</td>\n",
       "      <td>Schneider National Bulk Carrier</td>\n",
       "      <td>Coraopolis</td>\n",
       "      <td>Pennsylvania</td>\n",
       "      <td>15108.0</td>\n",
       "      <td>40.49</td>\n",
       "      <td>-80.11</td>\n",
       "      <td>1.0</td>\n",
       "      <td>0.0</td>\n",
       "      <td>Traumatic injuries and disorders, unspecified</td>\n",
       "      <td>Nonclassifiable</td>\n",
       "      <td>Other fall to lower level less than 6 feet</td>\n",
       "      <td>Semi, tractor-trailer, tanker truck</td>\n",
       "    </tr>\n",
       "    <tr>\n",
       "      <th>3</th>\n",
       "      <td>3</td>\n",
       "      <td>2015010019</td>\n",
       "      <td>1/1/2015</td>\n",
       "      <td>Pepsi Bottling Group Inc.</td>\n",
       "      <td>Macon</td>\n",
       "      <td>Georgia</td>\n",
       "      <td>31206.0</td>\n",
       "      <td>32.77</td>\n",
       "      <td>-83.65</td>\n",
       "      <td>1.0</td>\n",
       "      <td>0.0</td>\n",
       "      <td>Soreness, pain, hurt-nonspecified injury</td>\n",
       "      <td>Leg(s), unspecified</td>\n",
       "      <td>Caught in or compressed by equipment or object...</td>\n",
       "      <td>Pallet jack-powered</td>\n",
       "    </tr>\n",
       "    <tr>\n",
       "      <th>4</th>\n",
       "      <td>4</td>\n",
       "      <td>2015010020</td>\n",
       "      <td>1/1/2015</td>\n",
       "      <td>North American Pipe Corporation</td>\n",
       "      <td>Janesville</td>\n",
       "      <td>Wisconsin</td>\n",
       "      <td>53545.0</td>\n",
       "      <td>42.67</td>\n",
       "      <td>-89.04</td>\n",
       "      <td>1.0</td>\n",
       "      <td>0.0</td>\n",
       "      <td>Fractures</td>\n",
       "      <td>Finger(s), fingernail(s), n.e.c.</td>\n",
       "      <td>Caught in running equipment or machinery durin...</td>\n",
       "      <td>Metal, woodworking, and special material machi...</td>\n",
       "    </tr>\n",
       "  </tbody>\n",
       "</table>\n",
       "</div>"
      ],
      "text/plain": [
       "   index          ID EventDate  \\\n",
       "0      0  2015010015  1/1/2015   \n",
       "1      1  2015010016  1/1/2015   \n",
       "2      2  2015010018  1/1/2015   \n",
       "3      3  2015010019  1/1/2015   \n",
       "4      4  2015010020  1/1/2015   \n",
       "\n",
       "                                         Employer         City         State  \\\n",
       "0  Fci Otisville Federal Correctional Institution    Otisville      New York   \n",
       "1                      Kalahari Manufacturing Llc  Lake Delton     Wisconsin   \n",
       "2                 Schneider National Bulk Carrier   Coraopolis  Pennsylvania   \n",
       "3                       Pepsi Bottling Group Inc.        Macon       Georgia   \n",
       "4                 North American Pipe Corporation   Janesville     Wisconsin   \n",
       "\n",
       "       Zip  Latitude  Longitude  Hospitalized  Amputation  \\\n",
       "0  10963.0     41.46     -74.53           1.0         0.0   \n",
       "1  53940.0     43.59     -89.79           1.0         0.0   \n",
       "2  15108.0     40.49     -80.11           1.0         0.0   \n",
       "3  31206.0     32.77     -83.65           1.0         0.0   \n",
       "4  53545.0     42.67     -89.04           1.0         0.0   \n",
       "\n",
       "                                     NatureTitle  \\\n",
       "0                                      Fractures   \n",
       "1             Second degree heat (thermal) burns   \n",
       "2  Traumatic injuries and disorders, unspecified   \n",
       "3       Soreness, pain, hurt-nonspecified injury   \n",
       "4                                      Fractures   \n",
       "\n",
       "                 Part of Body Title  \\\n",
       "0                      Lower leg(s)   \n",
       "1                    Leg(s), n.e.c.   \n",
       "2                   Nonclassifiable   \n",
       "3               Leg(s), unspecified   \n",
       "4  Finger(s), fingernail(s), n.e.c.   \n",
       "\n",
       "                                          EventTitle  \\\n",
       "0  Injured by physical contact with person while ...   \n",
       "1              Ignition of vapors, gases, or liquids   \n",
       "2         Other fall to lower level less than 6 feet   \n",
       "3  Caught in or compressed by equipment or object...   \n",
       "4  Caught in running equipment or machinery durin...   \n",
       "\n",
       "                                         SourceTitle  \n",
       "0                                          Co-worker  \n",
       "1                 Welding, cutting, and blow torches  \n",
       "2                Semi, tractor-trailer, tanker truck  \n",
       "3                                Pallet jack-powered  \n",
       "4  Metal, woodworking, and special material machi...  "
      ]
     },
     "execution_count": 19,
     "metadata": {},
     "output_type": "execute_result"
    }
   ],
   "source": [
    "data = data.drop_duplicates(subset=['ID']).reset_index()\n",
    "data.head()"
   ]
  },
  {
   "cell_type": "markdown",
   "metadata": {},
   "source": [
    "Removing the extra column 'index'"
   ]
  },
  {
   "cell_type": "code",
   "execution_count": 20,
   "metadata": {},
   "outputs": [
    {
     "data": {
      "text/html": [
       "<div>\n",
       "<style scoped>\n",
       "    .dataframe tbody tr th:only-of-type {\n",
       "        vertical-align: middle;\n",
       "    }\n",
       "\n",
       "    .dataframe tbody tr th {\n",
       "        vertical-align: top;\n",
       "    }\n",
       "\n",
       "    .dataframe thead th {\n",
       "        text-align: right;\n",
       "    }\n",
       "</style>\n",
       "<table border=\"1\" class=\"dataframe\">\n",
       "  <thead>\n",
       "    <tr style=\"text-align: right;\">\n",
       "      <th></th>\n",
       "      <th>index</th>\n",
       "      <th>ID</th>\n",
       "      <th>EventDate</th>\n",
       "      <th>Employer</th>\n",
       "      <th>City</th>\n",
       "      <th>State</th>\n",
       "      <th>Zip</th>\n",
       "      <th>Latitude</th>\n",
       "      <th>Longitude</th>\n",
       "      <th>Hospitalized</th>\n",
       "      <th>Amputation</th>\n",
       "      <th>NatureTitle</th>\n",
       "      <th>Part of Body Title</th>\n",
       "      <th>EventTitle</th>\n",
       "      <th>SourceTitle</th>\n",
       "    </tr>\n",
       "  </thead>\n",
       "  <tbody>\n",
       "    <tr>\n",
       "      <th>0</th>\n",
       "      <td>0</td>\n",
       "      <td>2015010015</td>\n",
       "      <td>1/1/2015</td>\n",
       "      <td>Fci Otisville Federal Correctional Institution</td>\n",
       "      <td>Otisville</td>\n",
       "      <td>New York</td>\n",
       "      <td>10963.0</td>\n",
       "      <td>41.46</td>\n",
       "      <td>-74.53</td>\n",
       "      <td>1.0</td>\n",
       "      <td>0.0</td>\n",
       "      <td>Fractures</td>\n",
       "      <td>Lower leg(s)</td>\n",
       "      <td>Injured by physical contact with person while ...</td>\n",
       "      <td>Co-worker</td>\n",
       "    </tr>\n",
       "    <tr>\n",
       "      <th>1</th>\n",
       "      <td>1</td>\n",
       "      <td>2015010016</td>\n",
       "      <td>1/1/2015</td>\n",
       "      <td>Kalahari Manufacturing Llc</td>\n",
       "      <td>Lake Delton</td>\n",
       "      <td>Wisconsin</td>\n",
       "      <td>53940.0</td>\n",
       "      <td>43.59</td>\n",
       "      <td>-89.79</td>\n",
       "      <td>1.0</td>\n",
       "      <td>0.0</td>\n",
       "      <td>Second degree heat (thermal) burns</td>\n",
       "      <td>Leg(s), n.e.c.</td>\n",
       "      <td>Ignition of vapors, gases, or liquids</td>\n",
       "      <td>Welding, cutting, and blow torches</td>\n",
       "    </tr>\n",
       "    <tr>\n",
       "      <th>2</th>\n",
       "      <td>2</td>\n",
       "      <td>2015010018</td>\n",
       "      <td>1/1/2015</td>\n",
       "      <td>Schneider National Bulk Carrier</td>\n",
       "      <td>Coraopolis</td>\n",
       "      <td>Pennsylvania</td>\n",
       "      <td>15108.0</td>\n",
       "      <td>40.49</td>\n",
       "      <td>-80.11</td>\n",
       "      <td>1.0</td>\n",
       "      <td>0.0</td>\n",
       "      <td>Traumatic injuries and disorders, unspecified</td>\n",
       "      <td>Nonclassifiable</td>\n",
       "      <td>Other fall to lower level less than 6 feet</td>\n",
       "      <td>Semi, tractor-trailer, tanker truck</td>\n",
       "    </tr>\n",
       "    <tr>\n",
       "      <th>3</th>\n",
       "      <td>3</td>\n",
       "      <td>2015010019</td>\n",
       "      <td>1/1/2015</td>\n",
       "      <td>Pepsi Bottling Group Inc.</td>\n",
       "      <td>Macon</td>\n",
       "      <td>Georgia</td>\n",
       "      <td>31206.0</td>\n",
       "      <td>32.77</td>\n",
       "      <td>-83.65</td>\n",
       "      <td>1.0</td>\n",
       "      <td>0.0</td>\n",
       "      <td>Soreness, pain, hurt-nonspecified injury</td>\n",
       "      <td>Leg(s), unspecified</td>\n",
       "      <td>Caught in or compressed by equipment or object...</td>\n",
       "      <td>Pallet jack-powered</td>\n",
       "    </tr>\n",
       "    <tr>\n",
       "      <th>4</th>\n",
       "      <td>4</td>\n",
       "      <td>2015010020</td>\n",
       "      <td>1/1/2015</td>\n",
       "      <td>North American Pipe Corporation</td>\n",
       "      <td>Janesville</td>\n",
       "      <td>Wisconsin</td>\n",
       "      <td>53545.0</td>\n",
       "      <td>42.67</td>\n",
       "      <td>-89.04</td>\n",
       "      <td>1.0</td>\n",
       "      <td>0.0</td>\n",
       "      <td>Fractures</td>\n",
       "      <td>Finger(s), fingernail(s), n.e.c.</td>\n",
       "      <td>Caught in running equipment or machinery durin...</td>\n",
       "      <td>Metal, woodworking, and special material machi...</td>\n",
       "    </tr>\n",
       "  </tbody>\n",
       "</table>\n",
       "</div>"
      ],
      "text/plain": [
       "   index          ID EventDate  \\\n",
       "0      0  2015010015  1/1/2015   \n",
       "1      1  2015010016  1/1/2015   \n",
       "2      2  2015010018  1/1/2015   \n",
       "3      3  2015010019  1/1/2015   \n",
       "4      4  2015010020  1/1/2015   \n",
       "\n",
       "                                         Employer         City         State  \\\n",
       "0  Fci Otisville Federal Correctional Institution    Otisville      New York   \n",
       "1                      Kalahari Manufacturing Llc  Lake Delton     Wisconsin   \n",
       "2                 Schneider National Bulk Carrier   Coraopolis  Pennsylvania   \n",
       "3                       Pepsi Bottling Group Inc.        Macon       Georgia   \n",
       "4                 North American Pipe Corporation   Janesville     Wisconsin   \n",
       "\n",
       "       Zip  Latitude  Longitude  Hospitalized  Amputation  \\\n",
       "0  10963.0     41.46     -74.53           1.0         0.0   \n",
       "1  53940.0     43.59     -89.79           1.0         0.0   \n",
       "2  15108.0     40.49     -80.11           1.0         0.0   \n",
       "3  31206.0     32.77     -83.65           1.0         0.0   \n",
       "4  53545.0     42.67     -89.04           1.0         0.0   \n",
       "\n",
       "                                     NatureTitle  \\\n",
       "0                                      Fractures   \n",
       "1             Second degree heat (thermal) burns   \n",
       "2  Traumatic injuries and disorders, unspecified   \n",
       "3       Soreness, pain, hurt-nonspecified injury   \n",
       "4                                      Fractures   \n",
       "\n",
       "                 Part of Body Title  \\\n",
       "0                      Lower leg(s)   \n",
       "1                    Leg(s), n.e.c.   \n",
       "2                   Nonclassifiable   \n",
       "3               Leg(s), unspecified   \n",
       "4  Finger(s), fingernail(s), n.e.c.   \n",
       "\n",
       "                                          EventTitle  \\\n",
       "0  Injured by physical contact with person while ...   \n",
       "1              Ignition of vapors, gases, or liquids   \n",
       "2         Other fall to lower level less than 6 feet   \n",
       "3  Caught in or compressed by equipment or object...   \n",
       "4  Caught in running equipment or machinery durin...   \n",
       "\n",
       "                                         SourceTitle  \n",
       "0                                          Co-worker  \n",
       "1                 Welding, cutting, and blow torches  \n",
       "2                Semi, tractor-trailer, tanker truck  \n",
       "3                                Pallet jack-powered  \n",
       "4  Metal, woodworking, and special material machi...  "
      ]
     },
     "execution_count": 20,
     "metadata": {},
     "output_type": "execute_result"
    }
   ],
   "source": [
    "#data = data.drop(['index'], axis = 1)\n",
    "data.head()"
   ]
  },
  {
   "cell_type": "markdown",
   "metadata": {},
   "source": [
    "Non duplicate values"
   ]
  },
  {
   "cell_type": "code",
   "execution_count": 21,
   "metadata": {},
   "outputs": [
    {
     "data": {
      "text/plain": [
       "(66635, 15)"
      ]
     },
     "execution_count": 21,
     "metadata": {},
     "output_type": "execute_result"
    }
   ],
   "source": [
    "data.shape"
   ]
  },
  {
   "cell_type": "markdown",
   "metadata": {},
   "source": [
    "<h4>These data is already cleaned, but it needs transformation in order to use for modeling. The columns to modify are NatureTitle, EventDate, and Hospitalized </h4>"
   ]
  },
  {
   "cell_type": "markdown",
   "metadata": {},
   "source": [
    "<h5>1.NatureTitle</h5>"
   ]
  },
  {
   "cell_type": "markdown",
   "metadata": {},
   "source": [
    "I'll modify the NatureTitle column type to numeric values to use it as a predictor variable for the injury type."
   ]
  },
  {
   "cell_type": "markdown",
   "metadata": {},
   "source": [
    "Checking how many unique categories of NatureTitle in the dataframe. There are 191 categories"
   ]
  },
  {
   "cell_type": "code",
   "execution_count": 22,
   "metadata": {},
   "outputs": [
    {
     "data": {
      "text/plain": [
       "index                 66635\n",
       "ID                    66635\n",
       "EventDate              2402\n",
       "Employer              47084\n",
       "City                   7089\n",
       "State                    58\n",
       "Zip                   12456\n",
       "Latitude               2411\n",
       "Longitude              4549\n",
       "Hospitalized              7\n",
       "Amputation                3\n",
       "NatureTitle             191\n",
       "Part of Body Title      124\n",
       "EventTitle              348\n",
       "SourceTitle            1055\n",
       "dtype: int64"
      ]
     },
     "execution_count": 22,
     "metadata": {},
     "output_type": "execute_result"
    }
   ],
   "source": [
    "datas = data.sort_values(by='NatureTitle').nunique()\n",
    "datas "
   ]
  },
  {
   "cell_type": "code",
   "execution_count": 23,
   "metadata": {
    "scrolled": true
   },
   "outputs": [
    {
     "data": {
      "text/html": [
       "<div>\n",
       "<style scoped>\n",
       "    .dataframe tbody tr th:only-of-type {\n",
       "        vertical-align: middle;\n",
       "    }\n",
       "\n",
       "    .dataframe tbody tr th {\n",
       "        vertical-align: top;\n",
       "    }\n",
       "\n",
       "    .dataframe thead th {\n",
       "        text-align: right;\n",
       "    }\n",
       "</style>\n",
       "<table border=\"1\" class=\"dataframe\">\n",
       "  <thead>\n",
       "    <tr style=\"text-align: right;\">\n",
       "      <th></th>\n",
       "      <th>NatureTitle</th>\n",
       "      <th>index</th>\n",
       "      <th>ID</th>\n",
       "      <th>EventDate</th>\n",
       "      <th>Employer</th>\n",
       "      <th>City</th>\n",
       "      <th>State</th>\n",
       "      <th>Zip</th>\n",
       "      <th>Latitude</th>\n",
       "      <th>Longitude</th>\n",
       "      <th>Hospitalized</th>\n",
       "      <th>Amputation</th>\n",
       "      <th>Part of Body Title</th>\n",
       "      <th>EventTitle</th>\n",
       "      <th>SourceTitle</th>\n",
       "    </tr>\n",
       "  </thead>\n",
       "  <tbody>\n",
       "    <tr>\n",
       "      <th>0</th>\n",
       "      <td>Abdominal pain, unspecified</td>\n",
       "      <td>1</td>\n",
       "      <td>1</td>\n",
       "      <td>1</td>\n",
       "      <td>1</td>\n",
       "      <td>1</td>\n",
       "      <td>1</td>\n",
       "      <td>1</td>\n",
       "      <td>1</td>\n",
       "      <td>1</td>\n",
       "      <td>1</td>\n",
       "      <td>1</td>\n",
       "      <td>1</td>\n",
       "      <td>1</td>\n",
       "      <td>1</td>\n",
       "    </tr>\n",
       "    <tr>\n",
       "      <th>1</th>\n",
       "      <td>Abrasions, scratches</td>\n",
       "      <td>83</td>\n",
       "      <td>83</td>\n",
       "      <td>83</td>\n",
       "      <td>83</td>\n",
       "      <td>83</td>\n",
       "      <td>83</td>\n",
       "      <td>83</td>\n",
       "      <td>83</td>\n",
       "      <td>83</td>\n",
       "      <td>83</td>\n",
       "      <td>83</td>\n",
       "      <td>83</td>\n",
       "      <td>83</td>\n",
       "      <td>83</td>\n",
       "    </tr>\n",
       "    <tr>\n",
       "      <th>2</th>\n",
       "      <td>Allergic dermatitis-acute</td>\n",
       "      <td>1</td>\n",
       "      <td>1</td>\n",
       "      <td>1</td>\n",
       "      <td>1</td>\n",
       "      <td>1</td>\n",
       "      <td>1</td>\n",
       "      <td>1</td>\n",
       "      <td>1</td>\n",
       "      <td>1</td>\n",
       "      <td>1</td>\n",
       "      <td>1</td>\n",
       "      <td>1</td>\n",
       "      <td>1</td>\n",
       "      <td>1</td>\n",
       "    </tr>\n",
       "    <tr>\n",
       "      <th>3</th>\n",
       "      <td>Amputations</td>\n",
       "      <td>17618</td>\n",
       "      <td>17618</td>\n",
       "      <td>17618</td>\n",
       "      <td>17618</td>\n",
       "      <td>17618</td>\n",
       "      <td>17618</td>\n",
       "      <td>17618</td>\n",
       "      <td>17618</td>\n",
       "      <td>17618</td>\n",
       "      <td>17618</td>\n",
       "      <td>17618</td>\n",
       "      <td>17618</td>\n",
       "      <td>17618</td>\n",
       "      <td>17618</td>\n",
       "    </tr>\n",
       "    <tr>\n",
       "      <th>4</th>\n",
       "      <td>Amputations, avulsions, enucleations, n.e.c.</td>\n",
       "      <td>26</td>\n",
       "      <td>26</td>\n",
       "      <td>26</td>\n",
       "      <td>26</td>\n",
       "      <td>26</td>\n",
       "      <td>26</td>\n",
       "      <td>26</td>\n",
       "      <td>26</td>\n",
       "      <td>26</td>\n",
       "      <td>26</td>\n",
       "      <td>26</td>\n",
       "      <td>26</td>\n",
       "      <td>26</td>\n",
       "      <td>26</td>\n",
       "    </tr>\n",
       "    <tr>\n",
       "      <th>...</th>\n",
       "      <td>...</td>\n",
       "      <td>...</td>\n",
       "      <td>...</td>\n",
       "      <td>...</td>\n",
       "      <td>...</td>\n",
       "      <td>...</td>\n",
       "      <td>...</td>\n",
       "      <td>...</td>\n",
       "      <td>...</td>\n",
       "      <td>...</td>\n",
       "      <td>...</td>\n",
       "      <td>...</td>\n",
       "      <td>...</td>\n",
       "      <td>...</td>\n",
       "      <td>...</td>\n",
       "    </tr>\n",
       "    <tr>\n",
       "      <th>186</th>\n",
       "      <td>Traumatic injuries to spinal cord, unspecified</td>\n",
       "      <td>16</td>\n",
       "      <td>16</td>\n",
       "      <td>16</td>\n",
       "      <td>16</td>\n",
       "      <td>16</td>\n",
       "      <td>16</td>\n",
       "      <td>16</td>\n",
       "      <td>16</td>\n",
       "      <td>16</td>\n",
       "      <td>16</td>\n",
       "      <td>16</td>\n",
       "      <td>16</td>\n",
       "      <td>16</td>\n",
       "      <td>16</td>\n",
       "    </tr>\n",
       "    <tr>\n",
       "      <th>187</th>\n",
       "      <td>Traumatic shock</td>\n",
       "      <td>1</td>\n",
       "      <td>1</td>\n",
       "      <td>1</td>\n",
       "      <td>1</td>\n",
       "      <td>1</td>\n",
       "      <td>1</td>\n",
       "      <td>1</td>\n",
       "      <td>1</td>\n",
       "      <td>1</td>\n",
       "      <td>1</td>\n",
       "      <td>1</td>\n",
       "      <td>1</td>\n",
       "      <td>1</td>\n",
       "      <td>1</td>\n",
       "    </tr>\n",
       "    <tr>\n",
       "      <th>188</th>\n",
       "      <td>Unspecified tachycardia (rapid heartbeat)</td>\n",
       "      <td>1</td>\n",
       "      <td>1</td>\n",
       "      <td>1</td>\n",
       "      <td>1</td>\n",
       "      <td>1</td>\n",
       "      <td>1</td>\n",
       "      <td>1</td>\n",
       "      <td>1</td>\n",
       "      <td>1</td>\n",
       "      <td>1</td>\n",
       "      <td>1</td>\n",
       "      <td>1</td>\n",
       "      <td>1</td>\n",
       "      <td>1</td>\n",
       "    </tr>\n",
       "    <tr>\n",
       "      <th>189</th>\n",
       "      <td>Viral diseases, unspecified</td>\n",
       "      <td>1</td>\n",
       "      <td>1</td>\n",
       "      <td>1</td>\n",
       "      <td>1</td>\n",
       "      <td>1</td>\n",
       "      <td>1</td>\n",
       "      <td>1</td>\n",
       "      <td>1</td>\n",
       "      <td>1</td>\n",
       "      <td>1</td>\n",
       "      <td>1</td>\n",
       "      <td>1</td>\n",
       "      <td>1</td>\n",
       "      <td>1</td>\n",
       "    </tr>\n",
       "    <tr>\n",
       "      <th>190</th>\n",
       "      <td>Whiplash</td>\n",
       "      <td>3</td>\n",
       "      <td>3</td>\n",
       "      <td>3</td>\n",
       "      <td>3</td>\n",
       "      <td>3</td>\n",
       "      <td>3</td>\n",
       "      <td>3</td>\n",
       "      <td>3</td>\n",
       "      <td>3</td>\n",
       "      <td>3</td>\n",
       "      <td>3</td>\n",
       "      <td>3</td>\n",
       "      <td>3</td>\n",
       "      <td>3</td>\n",
       "    </tr>\n",
       "  </tbody>\n",
       "</table>\n",
       "<p>191 rows × 15 columns</p>\n",
       "</div>"
      ],
      "text/plain": [
       "                                        NatureTitle  index     ID  EventDate  \\\n",
       "0                       Abdominal pain, unspecified      1      1          1   \n",
       "1                              Abrasions, scratches     83     83         83   \n",
       "2                         Allergic dermatitis-acute      1      1          1   \n",
       "3                                       Amputations  17618  17618      17618   \n",
       "4      Amputations, avulsions, enucleations, n.e.c.     26     26         26   \n",
       "..                                              ...    ...    ...        ...   \n",
       "186  Traumatic injuries to spinal cord, unspecified     16     16         16   \n",
       "187                                Traumatic shock       1      1          1   \n",
       "188       Unspecified tachycardia (rapid heartbeat)      1      1          1   \n",
       "189                     Viral diseases, unspecified      1      1          1   \n",
       "190                                        Whiplash      3      3          3   \n",
       "\n",
       "     Employer   City  State    Zip  Latitude  Longitude  Hospitalized  \\\n",
       "0           1      1      1      1         1          1             1   \n",
       "1          83     83     83     83        83         83            83   \n",
       "2           1      1      1      1         1          1             1   \n",
       "3       17618  17618  17618  17618     17618      17618         17618   \n",
       "4          26     26     26     26        26         26            26   \n",
       "..        ...    ...    ...    ...       ...        ...           ...   \n",
       "186        16     16     16     16        16         16            16   \n",
       "187         1      1      1      1         1          1             1   \n",
       "188         1      1      1      1         1          1             1   \n",
       "189         1      1      1      1         1          1             1   \n",
       "190         3      3      3      3         3          3             3   \n",
       "\n",
       "     Amputation  Part of Body Title  EventTitle  SourceTitle  \n",
       "0             1                   1           1            1  \n",
       "1            83                  83          83           83  \n",
       "2             1                   1           1            1  \n",
       "3         17618               17618       17618        17618  \n",
       "4            26                  26          26           26  \n",
       "..          ...                 ...         ...          ...  \n",
       "186          16                  16          16           16  \n",
       "187           1                   1           1            1  \n",
       "188           1                   1           1            1  \n",
       "189           1                   1           1            1  \n",
       "190           3                   3           3            3  \n",
       "\n",
       "[191 rows x 15 columns]"
      ]
     },
     "execution_count": 23,
     "metadata": {},
     "output_type": "execute_result"
    }
   ],
   "source": [
    "datas = data.groupby(['NatureTitle']).count().reset_index()\n",
    "datas\n",
    "#data.groupby(['NatureTitle']).describe()"
   ]
  },
  {
   "cell_type": "code",
   "execution_count": 24,
   "metadata": {
    "scrolled": true
   },
   "outputs": [
    {
     "data": {
      "text/plain": [
       "0                         Abdominal pain, unspecified\n",
       "1                                Abrasions, scratches\n",
       "2                           Allergic dermatitis-acute\n",
       "3                                         Amputations\n",
       "4        Amputations, avulsions, enucleations, n.e.c.\n",
       "                            ...                      \n",
       "186    Traumatic injuries to spinal cord, unspecified\n",
       "187                                  Traumatic shock \n",
       "188         Unspecified tachycardia (rapid heartbeat)\n",
       "189                       Viral diseases, unspecified\n",
       "190                                          Whiplash\n",
       "Name: NatureTitle, Length: 191, dtype: object"
      ]
     },
     "execution_count": 24,
     "metadata": {},
     "output_type": "execute_result"
    }
   ],
   "source": [
    "dat = datas['NatureTitle']\n",
    "dat"
   ]
  },
  {
   "cell_type": "markdown",
   "metadata": {},
   "source": [
    "Creating the dictionary for all the strings from NatureTitle column. It is required to change the data type from string to integer."
   ]
  },
  {
   "cell_type": "code",
   "execution_count": 25,
   "metadata": {},
   "outputs": [
    {
     "data": {
      "text/plain": [
       "{0: 'Abdominal pain, unspecified',\n",
       " 1: 'Abrasions, scratches',\n",
       " 2: 'Allergic dermatitis-acute',\n",
       " 3: 'Amputations',\n",
       " 4: 'Amputations, avulsions, enucleations, n.e.c.',\n",
       " 5: 'Amputations, avulsions, enucleations, unspecified',\n",
       " 6: 'Anaphylactic shock, anaphylaxis',\n",
       " 7: 'Anemia and other diseases of the blood and blood forming organs',\n",
       " 8: 'Angina',\n",
       " 9: 'Anxiety or panic disorder',\n",
       " 10: 'Anxiety, stress, n.e.c.',\n",
       " 11: 'Anxiety, stress, unspecified',\n",
       " 12: 'Asphyxiations, strangulations, suffocations',\n",
       " 13: 'Avulsions, enucleations',\n",
       " 14: 'Bacterial diseases, unspecified',\n",
       " 15: 'Blindness, low vision',\n",
       " 16: 'Blisters',\n",
       " 17: 'Bruises, contusions',\n",
       " 18: 'Burns and corrosions, unspecified ',\n",
       " 19: 'Burns and other injuries, except fractures, unspecified',\n",
       " 20: 'Burns and other injuries, n.e.c.',\n",
       " 21: 'Burns and smoke inhalation',\n",
       " 22: 'Bursitis',\n",
       " 23: \"Caisson disease, bends, divers' palsy\",\n",
       " 24: 'Cartilage fractures and tears, n.e.c.',\n",
       " 25: 'Cartilage fractures and tears, unspecified',\n",
       " 26: 'Cellulitis and abscess',\n",
       " 27: 'Cerebral and other intracranial hemorrhages',\n",
       " 28: 'Chemical burns and corrosions, unspecified',\n",
       " 29: 'Chest pain',\n",
       " 30: 'Circulatory system diseases, n.e.c.',\n",
       " 31: 'Circulatory system diseases, unspecified',\n",
       " 32: 'Concussions',\n",
       " 33: 'Convulsions, seizures',\n",
       " 34: 'Coughing and throat irritation- toxic, noxious, or allergenic effect',\n",
       " 35: 'Crushing injuries',\n",
       " 36: 'Cuts and abrasions or bruises',\n",
       " 37: 'Cuts, lacerations',\n",
       " 38: 'Damage to artificial limb(s)',\n",
       " 39: 'Damage to medical implants, n.e.c.',\n",
       " 40: 'Damage to prosthetic devices, n.e.c.',\n",
       " 41: 'Damage to prosthetic devices, unspecified',\n",
       " 42: 'Dermatitis and reactions affecting the skin-acute, unspecified',\n",
       " 43: 'Dislocation of joints',\n",
       " 44: 'Dislocations, n.e.c.',\n",
       " 45: 'Dislocations, unspecified',\n",
       " 46: 'Disorders of the ear, mastoid process, hearing, unspecified',\n",
       " 47: 'Dizziness, lightheadedness, headache-toxic, noxious, or allergenic effect',\n",
       " 48: 'Dizziness-general',\n",
       " 49: 'Drownings',\n",
       " 50: 'EXPOSURES TO DISEASE-NO ILLNESS INCURRED',\n",
       " 51: 'Edema (including dropsy)',\n",
       " 52: 'Effects of environmental conditions, n.e.c.',\n",
       " 53: 'Effects of environmental conditions, unspecified',\n",
       " 54: 'Effects of heat and light, n.e.c.',\n",
       " 55: 'Effects of heat and light, unspecified',\n",
       " 56: 'Effects of reduced temperature, n.e.c.',\n",
       " 57: 'Effects of reduced temperature, unspecified',\n",
       " 58: 'Electrical burns, unspecified',\n",
       " 59: 'Electrocutions, electric shocks',\n",
       " 60: 'Embolism, air or fat',\n",
       " 61: 'Endocrine, nutritional, metabolic, and immunity disorders, n.e.c.',\n",
       " 62: 'Endocrine, nutritional, metabolic, and immunity disorders, unspecified',\n",
       " 63: 'First degree chemical burns and corrosions',\n",
       " 64: 'First degree electrical burns',\n",
       " 65: 'First degree heat (thermal) burns',\n",
       " 66: 'Fractures',\n",
       " 67: 'Fractures (except rib, trunk fractures) and internal injuries ',\n",
       " 68: 'Fractures (except skull fractures) and concussions ',\n",
       " 69: 'Fractures and burns',\n",
       " 70: 'Fractures and dislocations',\n",
       " 71: 'Fractures and other injuries, n.e.c.',\n",
       " 72: 'Fractures and other injuries, unspecified',\n",
       " 73: 'Frostbite',\n",
       " 74: 'General symptoms, n.e.c.',\n",
       " 75: 'General symptoms, unspecified',\n",
       " 76: 'Gunshot wounds',\n",
       " 77: 'Heart failure',\n",
       " 78: 'Heat (thermal) burns, n.e.c.',\n",
       " 79: 'Heat (thermal) burns, unspecified',\n",
       " 80: 'Heat exhaustion, prostration',\n",
       " 81: 'Heat fatigue',\n",
       " 82: 'Heat stroke',\n",
       " 83: 'Heat syncope',\n",
       " 84: 'Hernias due to traumatic incidents',\n",
       " 85: 'Herniated discs',\n",
       " 86: 'Hyperventilation',\n",
       " 87: 'Hypothermia',\n",
       " 88: 'Infections of the skin and subcutaneous tissue, unspecified',\n",
       " 89: 'Infectious and parasitic diseases, unspecified',\n",
       " 90: 'Infectious diseases peculiar to the intestines, n.e.c.',\n",
       " 91: 'Inflammation, swelling-general',\n",
       " 92: 'Influenza-common',\n",
       " 93: 'Influenza-novel',\n",
       " 94: 'Internal injuries to organs and blood vessels of the trunk',\n",
       " 95: 'Intracranial injuries and injuries to internal organs',\n",
       " 96: 'Intracranial injuries, n.e.c.',\n",
       " 97: 'Intracranial injuries, unspecified',\n",
       " 98: 'Irritant dermatitis-acute',\n",
       " 99: 'Ischemic heart disease, unspecified',\n",
       " 100: 'Loss of consciousness-not heat related',\n",
       " 101: 'MULTIPLE DISEASES, CONDITIONS, AND DISORDERS',\n",
       " 102: 'Major tears to muscles, tendons, ligaments',\n",
       " 103: 'Malaise and fatigue',\n",
       " 104: 'Meniscus tears',\n",
       " 105: 'Methicillin-resistant staphylococcus aureus (MRSA) infection',\n",
       " 106: 'Multiple effects of environmental conditions',\n",
       " 107: 'Multiple effects of heat and light',\n",
       " 108: 'Multiple general symptoms',\n",
       " 109: 'Multiple intracranial injuries, n.e.c.',\n",
       " 110: 'Multiple intracranial injuries, unspecified',\n",
       " 111: 'Multiple nonspecified injuries and disorders',\n",
       " 112: 'Multiple poisoning, toxic, noxious, or allergenic effects',\n",
       " 113: 'Multiple sprains, strains, tears',\n",
       " 114: 'Multiple surface wounds and bruises',\n",
       " 115: 'Multiple symptoms',\n",
       " 116: 'Multiple symptoms involving cardiovascular system',\n",
       " 117: 'Multiple symptoms, signs, and ill-defined conditions',\n",
       " 118: 'Multiple traumatic injuries and disorders, n.e.c.',\n",
       " 119: 'Multiple traumatic injuries and disorders, unspecified',\n",
       " 120: 'Multiple traumatic injuries to bones, nerves, spinal cord',\n",
       " 121: 'Multiple traumatic injuries to muscles, tendons, ligaments, joints, etc.',\n",
       " 122: 'Multiple types of dermatitis and skin reactions-acute',\n",
       " 123: 'Multiple types of open wounds',\n",
       " 124: 'Myocardial infarction (heart attack)',\n",
       " 125: 'Nausea, vomiting- toxic, noxious, or allergenic effect',\n",
       " 126: 'Nonclassifiable',\n",
       " 127: 'Nonspecified injuries and disorders, n.e.c.',\n",
       " 128: 'Numbness-nonspecified injury',\n",
       " 129: 'Open wounds, n.e.c.',\n",
       " 130: 'Open wounds, unspecified',\n",
       " 131: 'Other burns, first degree',\n",
       " 132: 'Other burns, n.e.c.',\n",
       " 133: 'Other burns, second degree',\n",
       " 134: 'Other burns, third or fourth degree',\n",
       " 135: 'Other burns, unspecified',\n",
       " 136: 'Other diseases due to viruses, n.e.c.',\n",
       " 137: 'Other forms of heart disease, n.e.c.',\n",
       " 138: 'Other or unspecified allergic reactions ',\n",
       " 139: 'Other poisoning, toxic, noxious, or allergenic effects, n.e.c.',\n",
       " 140: 'Other respiratory system symptoms-toxic, noxious, or allergenic effect',\n",
       " 141: 'Other traumatic injuries and disorders, unspecified',\n",
       " 142: 'Paralysis, paraplegia, quadriplegia',\n",
       " 143: 'Pinched nerve ',\n",
       " 144: 'Pneumoconioses, n.e.c.',\n",
       " 145: 'Pneumonia',\n",
       " 146: 'Pneumonitis, n.e.c.',\n",
       " 147: 'Poisoning, including poisoning-related asphyxia',\n",
       " 148: 'Poisoning, toxic, noxious, or allergenic effect, unspecified',\n",
       " 149: 'Pulmonary edema',\n",
       " 150: 'Pulmonary embolism',\n",
       " 151: 'Puncture wounds, except gunshot wounds',\n",
       " 152: 'Rabies',\n",
       " 153: 'Respiratory system diseases, unspecified',\n",
       " 154: 'Rickettsioses diseases, unspecified',\n",
       " 155: 'Second degree chemical burns and corrosions',\n",
       " 156: 'Second degree electrical burns',\n",
       " 157: 'Second degree heat (thermal) burns',\n",
       " 158: 'Skull fracture and intracranial injury',\n",
       " 159: 'Soreness, pain, hurt-nonspecified injury',\n",
       " 160: 'Sprains',\n",
       " 161: 'Sprains and bruises',\n",
       " 162: 'Sprains and cuts',\n",
       " 163: 'Sprains and other injuries, n.e.c.',\n",
       " 164: 'Sprains and other injuries, unspecified',\n",
       " 165: 'Sprains, strains, tears, unspecified',\n",
       " 166: 'Strains',\n",
       " 167: 'Stroke',\n",
       " 168: 'Surface wounds and bruises, unspecified',\n",
       " 169: 'Swelling, inflammation, irritation-nonspecified injury',\n",
       " 170: 'Symptoms involving cardiovascular system, n.e.c.',\n",
       " 171: 'Symptoms involving cardiovascular system, unspecified',\n",
       " 172: 'Symptoms involving respiratory system and chest, n.e.c.',\n",
       " 173: 'Third or fourth degree chemical burns and corrosions',\n",
       " 174: 'Third or fourth degree electrical burns',\n",
       " 175: 'Third or fourth degree heat (thermal) burns',\n",
       " 176: 'Transient ischemia attacks',\n",
       " 177: 'Traumatic injuries and disorders, n.e.c.',\n",
       " 178: 'Traumatic injuries and disorders, unspecified',\n",
       " 179: 'Traumatic injuries to bones, nerves, spinal cord, n.e.c.',\n",
       " 180: 'Traumatic injuries to bones, nerves, spinal cord, unspecified',\n",
       " 181: 'Traumatic injuries to muscles, tendons, ligaments, joints, etc., n.e.c.',\n",
       " 182: 'Traumatic injuries to muscles, tendons, ligaments, joints, etc., unspecified',\n",
       " 183: 'Traumatic injuries to nerves, except the spinal cord, n.e.c.',\n",
       " 184: 'Traumatic injuries to nerves, except the spinal cord, unspecified',\n",
       " 185: 'Traumatic injuries to spinal cord, n.e.c.',\n",
       " 186: 'Traumatic injuries to spinal cord, unspecified',\n",
       " 187: 'Traumatic shock ',\n",
       " 188: 'Unspecified tachycardia (rapid heartbeat)',\n",
       " 189: 'Viral diseases, unspecified',\n",
       " 190: 'Whiplash'}"
      ]
     },
     "execution_count": 25,
     "metadata": {},
     "output_type": "execute_result"
    }
   ],
   "source": [
    "data_dict = dat.to_dict()\n",
    "data_dict"
   ]
  },
  {
   "cell_type": "markdown",
   "metadata": {},
   "source": [
    "Switching keys and values in the dictionary"
   ]
  },
  {
   "cell_type": "code",
   "execution_count": 26,
   "metadata": {},
   "outputs": [
    {
     "data": {
      "text/plain": [
       "{'Abdominal pain, unspecified': 0,\n",
       " 'Abrasions, scratches': 1,\n",
       " 'Allergic dermatitis-acute': 2,\n",
       " 'Amputations': 3,\n",
       " 'Amputations, avulsions, enucleations, n.e.c.': 4,\n",
       " 'Amputations, avulsions, enucleations, unspecified': 5,\n",
       " 'Anaphylactic shock, anaphylaxis': 6,\n",
       " 'Anemia and other diseases of the blood and blood forming organs': 7,\n",
       " 'Angina': 8,\n",
       " 'Anxiety or panic disorder': 9,\n",
       " 'Anxiety, stress, n.e.c.': 10,\n",
       " 'Anxiety, stress, unspecified': 11,\n",
       " 'Asphyxiations, strangulations, suffocations': 12,\n",
       " 'Avulsions, enucleations': 13,\n",
       " 'Bacterial diseases, unspecified': 14,\n",
       " 'Blindness, low vision': 15,\n",
       " 'Blisters': 16,\n",
       " 'Bruises, contusions': 17,\n",
       " 'Burns and corrosions, unspecified ': 18,\n",
       " 'Burns and other injuries, except fractures, unspecified': 19,\n",
       " 'Burns and other injuries, n.e.c.': 20,\n",
       " 'Burns and smoke inhalation': 21,\n",
       " 'Bursitis': 22,\n",
       " \"Caisson disease, bends, divers' palsy\": 23,\n",
       " 'Cartilage fractures and tears, n.e.c.': 24,\n",
       " 'Cartilage fractures and tears, unspecified': 25,\n",
       " 'Cellulitis and abscess': 26,\n",
       " 'Cerebral and other intracranial hemorrhages': 27,\n",
       " 'Chemical burns and corrosions, unspecified': 28,\n",
       " 'Chest pain': 29,\n",
       " 'Circulatory system diseases, n.e.c.': 30,\n",
       " 'Circulatory system diseases, unspecified': 31,\n",
       " 'Concussions': 32,\n",
       " 'Convulsions, seizures': 33,\n",
       " 'Coughing and throat irritation- toxic, noxious, or allergenic effect': 34,\n",
       " 'Crushing injuries': 35,\n",
       " 'Cuts and abrasions or bruises': 36,\n",
       " 'Cuts, lacerations': 37,\n",
       " 'Damage to artificial limb(s)': 38,\n",
       " 'Damage to medical implants, n.e.c.': 39,\n",
       " 'Damage to prosthetic devices, n.e.c.': 40,\n",
       " 'Damage to prosthetic devices, unspecified': 41,\n",
       " 'Dermatitis and reactions affecting the skin-acute, unspecified': 42,\n",
       " 'Dislocation of joints': 43,\n",
       " 'Dislocations, n.e.c.': 44,\n",
       " 'Dislocations, unspecified': 45,\n",
       " 'Disorders of the ear, mastoid process, hearing, unspecified': 46,\n",
       " 'Dizziness, lightheadedness, headache-toxic, noxious, or allergenic effect': 47,\n",
       " 'Dizziness-general': 48,\n",
       " 'Drownings': 49,\n",
       " 'EXPOSURES TO DISEASE-NO ILLNESS INCURRED': 50,\n",
       " 'Edema (including dropsy)': 51,\n",
       " 'Effects of environmental conditions, n.e.c.': 52,\n",
       " 'Effects of environmental conditions, unspecified': 53,\n",
       " 'Effects of heat and light, n.e.c.': 54,\n",
       " 'Effects of heat and light, unspecified': 55,\n",
       " 'Effects of reduced temperature, n.e.c.': 56,\n",
       " 'Effects of reduced temperature, unspecified': 57,\n",
       " 'Electrical burns, unspecified': 58,\n",
       " 'Electrocutions, electric shocks': 59,\n",
       " 'Embolism, air or fat': 60,\n",
       " 'Endocrine, nutritional, metabolic, and immunity disorders, n.e.c.': 61,\n",
       " 'Endocrine, nutritional, metabolic, and immunity disorders, unspecified': 62,\n",
       " 'First degree chemical burns and corrosions': 63,\n",
       " 'First degree electrical burns': 64,\n",
       " 'First degree heat (thermal) burns': 65,\n",
       " 'Fractures': 66,\n",
       " 'Fractures (except rib, trunk fractures) and internal injuries ': 67,\n",
       " 'Fractures (except skull fractures) and concussions ': 68,\n",
       " 'Fractures and burns': 69,\n",
       " 'Fractures and dislocations': 70,\n",
       " 'Fractures and other injuries, n.e.c.': 71,\n",
       " 'Fractures and other injuries, unspecified': 72,\n",
       " 'Frostbite': 73,\n",
       " 'General symptoms, n.e.c.': 74,\n",
       " 'General symptoms, unspecified': 75,\n",
       " 'Gunshot wounds': 76,\n",
       " 'Heart failure': 77,\n",
       " 'Heat (thermal) burns, n.e.c.': 78,\n",
       " 'Heat (thermal) burns, unspecified': 79,\n",
       " 'Heat exhaustion, prostration': 80,\n",
       " 'Heat fatigue': 81,\n",
       " 'Heat stroke': 82,\n",
       " 'Heat syncope': 83,\n",
       " 'Hernias due to traumatic incidents': 84,\n",
       " 'Herniated discs': 85,\n",
       " 'Hyperventilation': 86,\n",
       " 'Hypothermia': 87,\n",
       " 'Infections of the skin and subcutaneous tissue, unspecified': 88,\n",
       " 'Infectious and parasitic diseases, unspecified': 89,\n",
       " 'Infectious diseases peculiar to the intestines, n.e.c.': 90,\n",
       " 'Inflammation, swelling-general': 91,\n",
       " 'Influenza-common': 92,\n",
       " 'Influenza-novel': 93,\n",
       " 'Internal injuries to organs and blood vessels of the trunk': 94,\n",
       " 'Intracranial injuries and injuries to internal organs': 95,\n",
       " 'Intracranial injuries, n.e.c.': 96,\n",
       " 'Intracranial injuries, unspecified': 97,\n",
       " 'Irritant dermatitis-acute': 98,\n",
       " 'Ischemic heart disease, unspecified': 99,\n",
       " 'Loss of consciousness-not heat related': 100,\n",
       " 'MULTIPLE DISEASES, CONDITIONS, AND DISORDERS': 101,\n",
       " 'Major tears to muscles, tendons, ligaments': 102,\n",
       " 'Malaise and fatigue': 103,\n",
       " 'Meniscus tears': 104,\n",
       " 'Methicillin-resistant staphylococcus aureus (MRSA) infection': 105,\n",
       " 'Multiple effects of environmental conditions': 106,\n",
       " 'Multiple effects of heat and light': 107,\n",
       " 'Multiple general symptoms': 108,\n",
       " 'Multiple intracranial injuries, n.e.c.': 109,\n",
       " 'Multiple intracranial injuries, unspecified': 110,\n",
       " 'Multiple nonspecified injuries and disorders': 111,\n",
       " 'Multiple poisoning, toxic, noxious, or allergenic effects': 112,\n",
       " 'Multiple sprains, strains, tears': 113,\n",
       " 'Multiple surface wounds and bruises': 114,\n",
       " 'Multiple symptoms': 115,\n",
       " 'Multiple symptoms involving cardiovascular system': 116,\n",
       " 'Multiple symptoms, signs, and ill-defined conditions': 117,\n",
       " 'Multiple traumatic injuries and disorders, n.e.c.': 118,\n",
       " 'Multiple traumatic injuries and disorders, unspecified': 119,\n",
       " 'Multiple traumatic injuries to bones, nerves, spinal cord': 120,\n",
       " 'Multiple traumatic injuries to muscles, tendons, ligaments, joints, etc.': 121,\n",
       " 'Multiple types of dermatitis and skin reactions-acute': 122,\n",
       " 'Multiple types of open wounds': 123,\n",
       " 'Myocardial infarction (heart attack)': 124,\n",
       " 'Nausea, vomiting- toxic, noxious, or allergenic effect': 125,\n",
       " 'Nonclassifiable': 126,\n",
       " 'Nonspecified injuries and disorders, n.e.c.': 127,\n",
       " 'Numbness-nonspecified injury': 128,\n",
       " 'Open wounds, n.e.c.': 129,\n",
       " 'Open wounds, unspecified': 130,\n",
       " 'Other burns, first degree': 131,\n",
       " 'Other burns, n.e.c.': 132,\n",
       " 'Other burns, second degree': 133,\n",
       " 'Other burns, third or fourth degree': 134,\n",
       " 'Other burns, unspecified': 135,\n",
       " 'Other diseases due to viruses, n.e.c.': 136,\n",
       " 'Other forms of heart disease, n.e.c.': 137,\n",
       " 'Other or unspecified allergic reactions ': 138,\n",
       " 'Other poisoning, toxic, noxious, or allergenic effects, n.e.c.': 139,\n",
       " 'Other respiratory system symptoms-toxic, noxious, or allergenic effect': 140,\n",
       " 'Other traumatic injuries and disorders, unspecified': 141,\n",
       " 'Paralysis, paraplegia, quadriplegia': 142,\n",
       " 'Pinched nerve ': 143,\n",
       " 'Pneumoconioses, n.e.c.': 144,\n",
       " 'Pneumonia': 145,\n",
       " 'Pneumonitis, n.e.c.': 146,\n",
       " 'Poisoning, including poisoning-related asphyxia': 147,\n",
       " 'Poisoning, toxic, noxious, or allergenic effect, unspecified': 148,\n",
       " 'Pulmonary edema': 149,\n",
       " 'Pulmonary embolism': 150,\n",
       " 'Puncture wounds, except gunshot wounds': 151,\n",
       " 'Rabies': 152,\n",
       " 'Respiratory system diseases, unspecified': 153,\n",
       " 'Rickettsioses diseases, unspecified': 154,\n",
       " 'Second degree chemical burns and corrosions': 155,\n",
       " 'Second degree electrical burns': 156,\n",
       " 'Second degree heat (thermal) burns': 157,\n",
       " 'Skull fracture and intracranial injury': 158,\n",
       " 'Soreness, pain, hurt-nonspecified injury': 159,\n",
       " 'Sprains': 160,\n",
       " 'Sprains and bruises': 161,\n",
       " 'Sprains and cuts': 162,\n",
       " 'Sprains and other injuries, n.e.c.': 163,\n",
       " 'Sprains and other injuries, unspecified': 164,\n",
       " 'Sprains, strains, tears, unspecified': 165,\n",
       " 'Strains': 166,\n",
       " 'Stroke': 167,\n",
       " 'Surface wounds and bruises, unspecified': 168,\n",
       " 'Swelling, inflammation, irritation-nonspecified injury': 169,\n",
       " 'Symptoms involving cardiovascular system, n.e.c.': 170,\n",
       " 'Symptoms involving cardiovascular system, unspecified': 171,\n",
       " 'Symptoms involving respiratory system and chest, n.e.c.': 172,\n",
       " 'Third or fourth degree chemical burns and corrosions': 173,\n",
       " 'Third or fourth degree electrical burns': 174,\n",
       " 'Third or fourth degree heat (thermal) burns': 175,\n",
       " 'Transient ischemia attacks': 176,\n",
       " 'Traumatic injuries and disorders, n.e.c.': 177,\n",
       " 'Traumatic injuries and disorders, unspecified': 178,\n",
       " 'Traumatic injuries to bones, nerves, spinal cord, n.e.c.': 179,\n",
       " 'Traumatic injuries to bones, nerves, spinal cord, unspecified': 180,\n",
       " 'Traumatic injuries to muscles, tendons, ligaments, joints, etc., n.e.c.': 181,\n",
       " 'Traumatic injuries to muscles, tendons, ligaments, joints, etc., unspecified': 182,\n",
       " 'Traumatic injuries to nerves, except the spinal cord, n.e.c.': 183,\n",
       " 'Traumatic injuries to nerves, except the spinal cord, unspecified': 184,\n",
       " 'Traumatic injuries to spinal cord, n.e.c.': 185,\n",
       " 'Traumatic injuries to spinal cord, unspecified': 186,\n",
       " 'Traumatic shock ': 187,\n",
       " 'Unspecified tachycardia (rapid heartbeat)': 188,\n",
       " 'Viral diseases, unspecified': 189,\n",
       " 'Whiplash': 190}"
      ]
     },
     "execution_count": 26,
     "metadata": {},
     "output_type": "execute_result"
    }
   ],
   "source": [
    "new_data_dict = {}\n",
    "for k, v in data_dict.items():\n",
    "    new_data_dict[v] = k\n",
    "    \n",
    "new_data_dict"
   ]
  },
  {
   "cell_type": "markdown",
   "metadata": {},
   "source": [
    "Replacing the numeric values in the column NatureTitle"
   ]
  },
  {
   "cell_type": "code",
   "execution_count": 27,
   "metadata": {},
   "outputs": [],
   "source": [
    "data['NatureTitle'] = data['NatureTitle'].map(new_data_dict).copy()"
   ]
  },
  {
   "cell_type": "code",
   "execution_count": 28,
   "metadata": {
    "scrolled": true
   },
   "outputs": [
    {
     "data": {
      "text/html": [
       "<div>\n",
       "<style scoped>\n",
       "    .dataframe tbody tr th:only-of-type {\n",
       "        vertical-align: middle;\n",
       "    }\n",
       "\n",
       "    .dataframe tbody tr th {\n",
       "        vertical-align: top;\n",
       "    }\n",
       "\n",
       "    .dataframe thead th {\n",
       "        text-align: right;\n",
       "    }\n",
       "</style>\n",
       "<table border=\"1\" class=\"dataframe\">\n",
       "  <thead>\n",
       "    <tr style=\"text-align: right;\">\n",
       "      <th></th>\n",
       "      <th>index</th>\n",
       "      <th>ID</th>\n",
       "      <th>EventDate</th>\n",
       "      <th>Employer</th>\n",
       "      <th>City</th>\n",
       "      <th>State</th>\n",
       "      <th>Zip</th>\n",
       "      <th>Latitude</th>\n",
       "      <th>Longitude</th>\n",
       "      <th>Hospitalized</th>\n",
       "      <th>Amputation</th>\n",
       "      <th>NatureTitle</th>\n",
       "      <th>Part of Body Title</th>\n",
       "      <th>EventTitle</th>\n",
       "      <th>SourceTitle</th>\n",
       "    </tr>\n",
       "  </thead>\n",
       "  <tbody>\n",
       "    <tr>\n",
       "      <th>0</th>\n",
       "      <td>0</td>\n",
       "      <td>2015010015</td>\n",
       "      <td>1/1/2015</td>\n",
       "      <td>Fci Otisville Federal Correctional Institution</td>\n",
       "      <td>Otisville</td>\n",
       "      <td>New York</td>\n",
       "      <td>10963.0</td>\n",
       "      <td>41.46</td>\n",
       "      <td>-74.53</td>\n",
       "      <td>1.0</td>\n",
       "      <td>0.0</td>\n",
       "      <td>66</td>\n",
       "      <td>Lower leg(s)</td>\n",
       "      <td>Injured by physical contact with person while ...</td>\n",
       "      <td>Co-worker</td>\n",
       "    </tr>\n",
       "    <tr>\n",
       "      <th>1</th>\n",
       "      <td>1</td>\n",
       "      <td>2015010016</td>\n",
       "      <td>1/1/2015</td>\n",
       "      <td>Kalahari Manufacturing Llc</td>\n",
       "      <td>Lake Delton</td>\n",
       "      <td>Wisconsin</td>\n",
       "      <td>53940.0</td>\n",
       "      <td>43.59</td>\n",
       "      <td>-89.79</td>\n",
       "      <td>1.0</td>\n",
       "      <td>0.0</td>\n",
       "      <td>157</td>\n",
       "      <td>Leg(s), n.e.c.</td>\n",
       "      <td>Ignition of vapors, gases, or liquids</td>\n",
       "      <td>Welding, cutting, and blow torches</td>\n",
       "    </tr>\n",
       "    <tr>\n",
       "      <th>2</th>\n",
       "      <td>2</td>\n",
       "      <td>2015010018</td>\n",
       "      <td>1/1/2015</td>\n",
       "      <td>Schneider National Bulk Carrier</td>\n",
       "      <td>Coraopolis</td>\n",
       "      <td>Pennsylvania</td>\n",
       "      <td>15108.0</td>\n",
       "      <td>40.49</td>\n",
       "      <td>-80.11</td>\n",
       "      <td>1.0</td>\n",
       "      <td>0.0</td>\n",
       "      <td>178</td>\n",
       "      <td>Nonclassifiable</td>\n",
       "      <td>Other fall to lower level less than 6 feet</td>\n",
       "      <td>Semi, tractor-trailer, tanker truck</td>\n",
       "    </tr>\n",
       "    <tr>\n",
       "      <th>3</th>\n",
       "      <td>3</td>\n",
       "      <td>2015010019</td>\n",
       "      <td>1/1/2015</td>\n",
       "      <td>Pepsi Bottling Group Inc.</td>\n",
       "      <td>Macon</td>\n",
       "      <td>Georgia</td>\n",
       "      <td>31206.0</td>\n",
       "      <td>32.77</td>\n",
       "      <td>-83.65</td>\n",
       "      <td>1.0</td>\n",
       "      <td>0.0</td>\n",
       "      <td>159</td>\n",
       "      <td>Leg(s), unspecified</td>\n",
       "      <td>Caught in or compressed by equipment or object...</td>\n",
       "      <td>Pallet jack-powered</td>\n",
       "    </tr>\n",
       "    <tr>\n",
       "      <th>4</th>\n",
       "      <td>4</td>\n",
       "      <td>2015010020</td>\n",
       "      <td>1/1/2015</td>\n",
       "      <td>North American Pipe Corporation</td>\n",
       "      <td>Janesville</td>\n",
       "      <td>Wisconsin</td>\n",
       "      <td>53545.0</td>\n",
       "      <td>42.67</td>\n",
       "      <td>-89.04</td>\n",
       "      <td>1.0</td>\n",
       "      <td>0.0</td>\n",
       "      <td>66</td>\n",
       "      <td>Finger(s), fingernail(s), n.e.c.</td>\n",
       "      <td>Caught in running equipment or machinery durin...</td>\n",
       "      <td>Metal, woodworking, and special material machi...</td>\n",
       "    </tr>\n",
       "  </tbody>\n",
       "</table>\n",
       "</div>"
      ],
      "text/plain": [
       "   index          ID EventDate  \\\n",
       "0      0  2015010015  1/1/2015   \n",
       "1      1  2015010016  1/1/2015   \n",
       "2      2  2015010018  1/1/2015   \n",
       "3      3  2015010019  1/1/2015   \n",
       "4      4  2015010020  1/1/2015   \n",
       "\n",
       "                                         Employer         City         State  \\\n",
       "0  Fci Otisville Federal Correctional Institution    Otisville      New York   \n",
       "1                      Kalahari Manufacturing Llc  Lake Delton     Wisconsin   \n",
       "2                 Schneider National Bulk Carrier   Coraopolis  Pennsylvania   \n",
       "3                       Pepsi Bottling Group Inc.        Macon       Georgia   \n",
       "4                 North American Pipe Corporation   Janesville     Wisconsin   \n",
       "\n",
       "       Zip  Latitude  Longitude  Hospitalized  Amputation  NatureTitle  \\\n",
       "0  10963.0     41.46     -74.53           1.0         0.0           66   \n",
       "1  53940.0     43.59     -89.79           1.0         0.0          157   \n",
       "2  15108.0     40.49     -80.11           1.0         0.0          178   \n",
       "3  31206.0     32.77     -83.65           1.0         0.0          159   \n",
       "4  53545.0     42.67     -89.04           1.0         0.0           66   \n",
       "\n",
       "                 Part of Body Title  \\\n",
       "0                      Lower leg(s)   \n",
       "1                    Leg(s), n.e.c.   \n",
       "2                   Nonclassifiable   \n",
       "3               Leg(s), unspecified   \n",
       "4  Finger(s), fingernail(s), n.e.c.   \n",
       "\n",
       "                                          EventTitle  \\\n",
       "0  Injured by physical contact with person while ...   \n",
       "1              Ignition of vapors, gases, or liquids   \n",
       "2         Other fall to lower level less than 6 feet   \n",
       "3  Caught in or compressed by equipment or object...   \n",
       "4  Caught in running equipment or machinery durin...   \n",
       "\n",
       "                                         SourceTitle  \n",
       "0                                          Co-worker  \n",
       "1                 Welding, cutting, and blow torches  \n",
       "2                Semi, tractor-trailer, tanker truck  \n",
       "3                                Pallet jack-powered  \n",
       "4  Metal, woodworking, and special material machi...  "
      ]
     },
     "execution_count": 28,
     "metadata": {},
     "output_type": "execute_result"
    }
   ],
   "source": [
    "data.head()"
   ]
  },
  {
   "cell_type": "code",
   "execution_count": 29,
   "metadata": {},
   "outputs": [
    {
     "data": {
      "text/plain": [
       "index                 66635\n",
       "ID                    66635\n",
       "EventDate              2402\n",
       "Employer              47084\n",
       "City                   7089\n",
       "State                    58\n",
       "Zip                   12456\n",
       "Latitude               2411\n",
       "Longitude              4549\n",
       "Hospitalized              7\n",
       "Amputation                3\n",
       "NatureTitle             191\n",
       "Part of Body Title      124\n",
       "EventTitle              348\n",
       "SourceTitle            1055\n",
       "dtype: int64"
      ]
     },
     "execution_count": 29,
     "metadata": {},
     "output_type": "execute_result"
    }
   ],
   "source": [
    "data2 = data.sort_values(by='ID').nunique()\n",
    "data2"
   ]
  },
  {
   "cell_type": "markdown",
   "metadata": {},
   "source": [
    "Ckecking the change of NatureTitle data type"
   ]
  },
  {
   "cell_type": "code",
   "execution_count": 30,
   "metadata": {
    "scrolled": true
   },
   "outputs": [
    {
     "name": "stdout",
     "output_type": "stream",
     "text": [
      "<class 'pandas.core.frame.DataFrame'>\n",
      "RangeIndex: 66635 entries, 0 to 66634\n",
      "Data columns (total 15 columns):\n",
      " #   Column              Non-Null Count  Dtype  \n",
      "---  ------              --------------  -----  \n",
      " 0   index               66635 non-null  int64  \n",
      " 1   ID                  66635 non-null  int64  \n",
      " 2   EventDate           66635 non-null  object \n",
      " 3   Employer            66635 non-null  object \n",
      " 4   City                66635 non-null  object \n",
      " 5   State               66635 non-null  object \n",
      " 6   Zip                 66635 non-null  float64\n",
      " 7   Latitude            66635 non-null  float64\n",
      " 8   Longitude           66635 non-null  float64\n",
      " 9   Hospitalized        66635 non-null  float64\n",
      " 10  Amputation          66635 non-null  float64\n",
      " 11  NatureTitle         66635 non-null  int64  \n",
      " 12  Part of Body Title  66635 non-null  object \n",
      " 13  EventTitle          66635 non-null  object \n",
      " 14  SourceTitle         66635 non-null  object \n",
      "dtypes: float64(5), int64(3), object(7)\n",
      "memory usage: 7.6+ MB\n"
     ]
    }
   ],
   "source": [
    "data.info()"
   ]
  },
  {
   "cell_type": "code",
   "execution_count": 31,
   "metadata": {},
   "outputs": [
    {
     "data": {
      "text/html": [
       "<div>\n",
       "<style scoped>\n",
       "    .dataframe tbody tr th:only-of-type {\n",
       "        vertical-align: middle;\n",
       "    }\n",
       "\n",
       "    .dataframe tbody tr th {\n",
       "        vertical-align: top;\n",
       "    }\n",
       "\n",
       "    .dataframe thead th {\n",
       "        text-align: right;\n",
       "    }\n",
       "</style>\n",
       "<table border=\"1\" class=\"dataframe\">\n",
       "  <thead>\n",
       "    <tr style=\"text-align: right;\">\n",
       "      <th></th>\n",
       "      <th>index</th>\n",
       "      <th>ID</th>\n",
       "      <th>EventDate</th>\n",
       "      <th>Employer</th>\n",
       "      <th>City</th>\n",
       "      <th>State</th>\n",
       "      <th>Zip</th>\n",
       "      <th>Latitude</th>\n",
       "      <th>Longitude</th>\n",
       "      <th>Hospitalized</th>\n",
       "      <th>Amputation</th>\n",
       "      <th>NatureTitle</th>\n",
       "      <th>Part of Body Title</th>\n",
       "      <th>EventTitle</th>\n",
       "      <th>SourceTitle</th>\n",
       "    </tr>\n",
       "  </thead>\n",
       "  <tbody>\n",
       "    <tr>\n",
       "      <th>0</th>\n",
       "      <td>0</td>\n",
       "      <td>2015010015</td>\n",
       "      <td>1/1/2015</td>\n",
       "      <td>Fci Otisville Federal Correctional Institution</td>\n",
       "      <td>Otisville</td>\n",
       "      <td>New York</td>\n",
       "      <td>10963.0</td>\n",
       "      <td>41.46</td>\n",
       "      <td>-74.53</td>\n",
       "      <td>1.0</td>\n",
       "      <td>0.0</td>\n",
       "      <td>66</td>\n",
       "      <td>Lower leg(s)</td>\n",
       "      <td>Injured by physical contact with person while ...</td>\n",
       "      <td>Co-worker</td>\n",
       "    </tr>\n",
       "    <tr>\n",
       "      <th>1</th>\n",
       "      <td>1</td>\n",
       "      <td>2015010016</td>\n",
       "      <td>1/1/2015</td>\n",
       "      <td>Kalahari Manufacturing Llc</td>\n",
       "      <td>Lake Delton</td>\n",
       "      <td>Wisconsin</td>\n",
       "      <td>53940.0</td>\n",
       "      <td>43.59</td>\n",
       "      <td>-89.79</td>\n",
       "      <td>1.0</td>\n",
       "      <td>0.0</td>\n",
       "      <td>157</td>\n",
       "      <td>Leg(s), n.e.c.</td>\n",
       "      <td>Ignition of vapors, gases, or liquids</td>\n",
       "      <td>Welding, cutting, and blow torches</td>\n",
       "    </tr>\n",
       "    <tr>\n",
       "      <th>2</th>\n",
       "      <td>2</td>\n",
       "      <td>2015010018</td>\n",
       "      <td>1/1/2015</td>\n",
       "      <td>Schneider National Bulk Carrier</td>\n",
       "      <td>Coraopolis</td>\n",
       "      <td>Pennsylvania</td>\n",
       "      <td>15108.0</td>\n",
       "      <td>40.49</td>\n",
       "      <td>-80.11</td>\n",
       "      <td>1.0</td>\n",
       "      <td>0.0</td>\n",
       "      <td>178</td>\n",
       "      <td>Nonclassifiable</td>\n",
       "      <td>Other fall to lower level less than 6 feet</td>\n",
       "      <td>Semi, tractor-trailer, tanker truck</td>\n",
       "    </tr>\n",
       "    <tr>\n",
       "      <th>3</th>\n",
       "      <td>3</td>\n",
       "      <td>2015010019</td>\n",
       "      <td>1/1/2015</td>\n",
       "      <td>Pepsi Bottling Group Inc.</td>\n",
       "      <td>Macon</td>\n",
       "      <td>Georgia</td>\n",
       "      <td>31206.0</td>\n",
       "      <td>32.77</td>\n",
       "      <td>-83.65</td>\n",
       "      <td>1.0</td>\n",
       "      <td>0.0</td>\n",
       "      <td>159</td>\n",
       "      <td>Leg(s), unspecified</td>\n",
       "      <td>Caught in or compressed by equipment or object...</td>\n",
       "      <td>Pallet jack-powered</td>\n",
       "    </tr>\n",
       "    <tr>\n",
       "      <th>4</th>\n",
       "      <td>4</td>\n",
       "      <td>2015010020</td>\n",
       "      <td>1/1/2015</td>\n",
       "      <td>North American Pipe Corporation</td>\n",
       "      <td>Janesville</td>\n",
       "      <td>Wisconsin</td>\n",
       "      <td>53545.0</td>\n",
       "      <td>42.67</td>\n",
       "      <td>-89.04</td>\n",
       "      <td>1.0</td>\n",
       "      <td>0.0</td>\n",
       "      <td>66</td>\n",
       "      <td>Finger(s), fingernail(s), n.e.c.</td>\n",
       "      <td>Caught in running equipment or machinery durin...</td>\n",
       "      <td>Metal, woodworking, and special material machi...</td>\n",
       "    </tr>\n",
       "    <tr>\n",
       "      <th>...</th>\n",
       "      <td>...</td>\n",
       "      <td>...</td>\n",
       "      <td>...</td>\n",
       "      <td>...</td>\n",
       "      <td>...</td>\n",
       "      <td>...</td>\n",
       "      <td>...</td>\n",
       "      <td>...</td>\n",
       "      <td>...</td>\n",
       "      <td>...</td>\n",
       "      <td>...</td>\n",
       "      <td>...</td>\n",
       "      <td>...</td>\n",
       "      <td>...</td>\n",
       "      <td>...</td>\n",
       "    </tr>\n",
       "    <tr>\n",
       "      <th>66630</th>\n",
       "      <td>66694</td>\n",
       "      <td>2021076378</td>\n",
       "      <td>7/31/2021</td>\n",
       "      <td>Virginia International Terminals Inc.</td>\n",
       "      <td>Portsmouth</td>\n",
       "      <td>Virginia</td>\n",
       "      <td>23703.0</td>\n",
       "      <td>36.83</td>\n",
       "      <td>-76.33</td>\n",
       "      <td>1.0</td>\n",
       "      <td>0.0</td>\n",
       "      <td>66</td>\n",
       "      <td>Ankle(s)</td>\n",
       "      <td>Fall on water vehicle</td>\n",
       "      <td>Barge</td>\n",
       "    </tr>\n",
       "    <tr>\n",
       "      <th>66631</th>\n",
       "      <td>66695</td>\n",
       "      <td>2021076379</td>\n",
       "      <td>7/31/2021</td>\n",
       "      <td>Cedar Grove Warehousing Llc</td>\n",
       "      <td>Plymouth</td>\n",
       "      <td>Wisconsin</td>\n",
       "      <td>53073.0</td>\n",
       "      <td>43.73</td>\n",
       "      <td>-87.97</td>\n",
       "      <td>1.0</td>\n",
       "      <td>0.0</td>\n",
       "      <td>66</td>\n",
       "      <td>Shoulder(s), including clavicle(s), scapula(e)</td>\n",
       "      <td>Other fall to lower level, unspecified</td>\n",
       "      <td>Step ladders</td>\n",
       "    </tr>\n",
       "    <tr>\n",
       "      <th>66632</th>\n",
       "      <td>66696</td>\n",
       "      <td>2021076380</td>\n",
       "      <td>7/31/2021</td>\n",
       "      <td>Mvp Plumbing Corp.</td>\n",
       "      <td>Romeoville</td>\n",
       "      <td>Illinois</td>\n",
       "      <td>60446.0</td>\n",
       "      <td>41.59</td>\n",
       "      <td>-88.10</td>\n",
       "      <td>1.0</td>\n",
       "      <td>0.0</td>\n",
       "      <td>37</td>\n",
       "      <td>Neck, except internal location of diseases or ...</td>\n",
       "      <td>Injured by slipping or swinging object held by...</td>\n",
       "      <td>Saws-powered, except chainsaws</td>\n",
       "    </tr>\n",
       "    <tr>\n",
       "      <th>66633</th>\n",
       "      <td>66697</td>\n",
       "      <td>2021076384</td>\n",
       "      <td>7/31/2021</td>\n",
       "      <td>Agropur, Inc.</td>\n",
       "      <td>Lake Norden</td>\n",
       "      <td>South Dakota</td>\n",
       "      <td>57248.0</td>\n",
       "      <td>44.58</td>\n",
       "      <td>-97.21</td>\n",
       "      <td>1.0</td>\n",
       "      <td>0.0</td>\n",
       "      <td>59</td>\n",
       "      <td>BODY SYSTEMS</td>\n",
       "      <td>Direct exposure to electricity, greater than 2...</td>\n",
       "      <td>Switchboards, switches, fuses</td>\n",
       "    </tr>\n",
       "    <tr>\n",
       "      <th>66634</th>\n",
       "      <td>66698</td>\n",
       "      <td>2021076402</td>\n",
       "      <td>7/31/2021</td>\n",
       "      <td>The Lowell General Hospital</td>\n",
       "      <td>Lowell</td>\n",
       "      <td>Massachusetts</td>\n",
       "      <td>1852.0</td>\n",
       "      <td>42.64</td>\n",
       "      <td>-71.30</td>\n",
       "      <td>1.0</td>\n",
       "      <td>0.0</td>\n",
       "      <td>97</td>\n",
       "      <td>Brain</td>\n",
       "      <td>Hitting, kicking, beating, shoving</td>\n",
       "      <td>Patient</td>\n",
       "    </tr>\n",
       "  </tbody>\n",
       "</table>\n",
       "<p>66635 rows × 15 columns</p>\n",
       "</div>"
      ],
      "text/plain": [
       "       index          ID  EventDate  \\\n",
       "0          0  2015010015   1/1/2015   \n",
       "1          1  2015010016   1/1/2015   \n",
       "2          2  2015010018   1/1/2015   \n",
       "3          3  2015010019   1/1/2015   \n",
       "4          4  2015010020   1/1/2015   \n",
       "...      ...         ...        ...   \n",
       "66630  66694  2021076378  7/31/2021   \n",
       "66631  66695  2021076379  7/31/2021   \n",
       "66632  66696  2021076380  7/31/2021   \n",
       "66633  66697  2021076384  7/31/2021   \n",
       "66634  66698  2021076402  7/31/2021   \n",
       "\n",
       "                                             Employer         City  \\\n",
       "0      Fci Otisville Federal Correctional Institution    Otisville   \n",
       "1                          Kalahari Manufacturing Llc  Lake Delton   \n",
       "2                     Schneider National Bulk Carrier   Coraopolis   \n",
       "3                           Pepsi Bottling Group Inc.        Macon   \n",
       "4                     North American Pipe Corporation   Janesville   \n",
       "...                                               ...          ...   \n",
       "66630           Virginia International Terminals Inc.   Portsmouth   \n",
       "66631                     Cedar Grove Warehousing Llc     Plymouth   \n",
       "66632                              Mvp Plumbing Corp.   Romeoville   \n",
       "66633                                   Agropur, Inc.  Lake Norden   \n",
       "66634                     The Lowell General Hospital       Lowell   \n",
       "\n",
       "               State      Zip  Latitude  Longitude  Hospitalized  Amputation  \\\n",
       "0           New York  10963.0     41.46     -74.53           1.0         0.0   \n",
       "1          Wisconsin  53940.0     43.59     -89.79           1.0         0.0   \n",
       "2       Pennsylvania  15108.0     40.49     -80.11           1.0         0.0   \n",
       "3            Georgia  31206.0     32.77     -83.65           1.0         0.0   \n",
       "4          Wisconsin  53545.0     42.67     -89.04           1.0         0.0   \n",
       "...              ...      ...       ...        ...           ...         ...   \n",
       "66630       Virginia  23703.0     36.83     -76.33           1.0         0.0   \n",
       "66631      Wisconsin  53073.0     43.73     -87.97           1.0         0.0   \n",
       "66632       Illinois  60446.0     41.59     -88.10           1.0         0.0   \n",
       "66633   South Dakota  57248.0     44.58     -97.21           1.0         0.0   \n",
       "66634  Massachusetts   1852.0     42.64     -71.30           1.0         0.0   \n",
       "\n",
       "       NatureTitle                                 Part of Body Title  \\\n",
       "0               66                                       Lower leg(s)   \n",
       "1              157                                     Leg(s), n.e.c.   \n",
       "2              178                                    Nonclassifiable   \n",
       "3              159                                Leg(s), unspecified   \n",
       "4               66                   Finger(s), fingernail(s), n.e.c.   \n",
       "...            ...                                                ...   \n",
       "66630           66                                           Ankle(s)   \n",
       "66631           66     Shoulder(s), including clavicle(s), scapula(e)   \n",
       "66632           37  Neck, except internal location of diseases or ...   \n",
       "66633           59                                       BODY SYSTEMS   \n",
       "66634           97                                              Brain   \n",
       "\n",
       "                                              EventTitle  \\\n",
       "0      Injured by physical contact with person while ...   \n",
       "1                  Ignition of vapors, gases, or liquids   \n",
       "2             Other fall to lower level less than 6 feet   \n",
       "3      Caught in or compressed by equipment or object...   \n",
       "4      Caught in running equipment or machinery durin...   \n",
       "...                                                  ...   \n",
       "66630                              Fall on water vehicle   \n",
       "66631             Other fall to lower level, unspecified   \n",
       "66632  Injured by slipping or swinging object held by...   \n",
       "66633  Direct exposure to electricity, greater than 2...   \n",
       "66634                 Hitting, kicking, beating, shoving   \n",
       "\n",
       "                                             SourceTitle  \n",
       "0                                              Co-worker  \n",
       "1                     Welding, cutting, and blow torches  \n",
       "2                    Semi, tractor-trailer, tanker truck  \n",
       "3                                    Pallet jack-powered  \n",
       "4      Metal, woodworking, and special material machi...  \n",
       "...                                                  ...  \n",
       "66630                                              Barge  \n",
       "66631                                       Step ladders  \n",
       "66632                     Saws-powered, except chainsaws  \n",
       "66633                      Switchboards, switches, fuses  \n",
       "66634                                           Patient   \n",
       "\n",
       "[66635 rows x 15 columns]"
      ]
     },
     "execution_count": 31,
     "metadata": {},
     "output_type": "execute_result"
    }
   ],
   "source": [
    "data"
   ]
  },
  {
   "cell_type": "code",
   "execution_count": 32,
   "metadata": {
    "scrolled": false
   },
   "outputs": [
    {
     "data": {
      "text/plain": [
       "index                 0\n",
       "ID                    0\n",
       "EventDate             0\n",
       "Employer              0\n",
       "City                  0\n",
       "State                 0\n",
       "Zip                   0\n",
       "Latitude              0\n",
       "Longitude             0\n",
       "Hospitalized          0\n",
       "Amputation            0\n",
       "NatureTitle           0\n",
       "Part of Body Title    0\n",
       "EventTitle            0\n",
       "SourceTitle           0\n",
       "dtype: int64"
      ]
     },
     "execution_count": 32,
     "metadata": {},
     "output_type": "execute_result"
    }
   ],
   "source": [
    "data.isnull().sum()"
   ]
  },
  {
   "cell_type": "markdown",
   "metadata": {},
   "source": [
    "<h5>2.EventDate</h5>"
   ]
  },
  {
   "cell_type": "markdown",
   "metadata": {},
   "source": [
    "Changing EventDate data type Object(String) to  DateTime"
   ]
  },
  {
   "cell_type": "code",
   "execution_count": 33,
   "metadata": {},
   "outputs": [],
   "source": [
    "data['EventDate'] = pd.to_datetime(data['EventDate'])"
   ]
  },
  {
   "cell_type": "markdown",
   "metadata": {},
   "source": [
    "Extracting the year from EventDate column"
   ]
  },
  {
   "cell_type": "code",
   "execution_count": 34,
   "metadata": {},
   "outputs": [],
   "source": [
    "data['year'] = pd.DatetimeIndex(data['EventDate']).year"
   ]
  },
  {
   "cell_type": "code",
   "execution_count": 35,
   "metadata": {
    "scrolled": false
   },
   "outputs": [
    {
     "data": {
      "text/html": [
       "<div>\n",
       "<style scoped>\n",
       "    .dataframe tbody tr th:only-of-type {\n",
       "        vertical-align: middle;\n",
       "    }\n",
       "\n",
       "    .dataframe tbody tr th {\n",
       "        vertical-align: top;\n",
       "    }\n",
       "\n",
       "    .dataframe thead th {\n",
       "        text-align: right;\n",
       "    }\n",
       "</style>\n",
       "<table border=\"1\" class=\"dataframe\">\n",
       "  <thead>\n",
       "    <tr style=\"text-align: right;\">\n",
       "      <th></th>\n",
       "      <th>index</th>\n",
       "      <th>ID</th>\n",
       "      <th>EventDate</th>\n",
       "      <th>Employer</th>\n",
       "      <th>City</th>\n",
       "      <th>State</th>\n",
       "      <th>Zip</th>\n",
       "      <th>Latitude</th>\n",
       "      <th>Longitude</th>\n",
       "      <th>Hospitalized</th>\n",
       "      <th>Amputation</th>\n",
       "      <th>NatureTitle</th>\n",
       "      <th>Part of Body Title</th>\n",
       "      <th>EventTitle</th>\n",
       "      <th>SourceTitle</th>\n",
       "      <th>year</th>\n",
       "    </tr>\n",
       "  </thead>\n",
       "  <tbody>\n",
       "    <tr>\n",
       "      <th>0</th>\n",
       "      <td>0</td>\n",
       "      <td>2015010015</td>\n",
       "      <td>2015-01-01</td>\n",
       "      <td>Fci Otisville Federal Correctional Institution</td>\n",
       "      <td>Otisville</td>\n",
       "      <td>New York</td>\n",
       "      <td>10963.0</td>\n",
       "      <td>41.46</td>\n",
       "      <td>-74.53</td>\n",
       "      <td>1.0</td>\n",
       "      <td>0.0</td>\n",
       "      <td>66</td>\n",
       "      <td>Lower leg(s)</td>\n",
       "      <td>Injured by physical contact with person while ...</td>\n",
       "      <td>Co-worker</td>\n",
       "      <td>2015</td>\n",
       "    </tr>\n",
       "    <tr>\n",
       "      <th>1</th>\n",
       "      <td>1</td>\n",
       "      <td>2015010016</td>\n",
       "      <td>2015-01-01</td>\n",
       "      <td>Kalahari Manufacturing Llc</td>\n",
       "      <td>Lake Delton</td>\n",
       "      <td>Wisconsin</td>\n",
       "      <td>53940.0</td>\n",
       "      <td>43.59</td>\n",
       "      <td>-89.79</td>\n",
       "      <td>1.0</td>\n",
       "      <td>0.0</td>\n",
       "      <td>157</td>\n",
       "      <td>Leg(s), n.e.c.</td>\n",
       "      <td>Ignition of vapors, gases, or liquids</td>\n",
       "      <td>Welding, cutting, and blow torches</td>\n",
       "      <td>2015</td>\n",
       "    </tr>\n",
       "    <tr>\n",
       "      <th>2</th>\n",
       "      <td>2</td>\n",
       "      <td>2015010018</td>\n",
       "      <td>2015-01-01</td>\n",
       "      <td>Schneider National Bulk Carrier</td>\n",
       "      <td>Coraopolis</td>\n",
       "      <td>Pennsylvania</td>\n",
       "      <td>15108.0</td>\n",
       "      <td>40.49</td>\n",
       "      <td>-80.11</td>\n",
       "      <td>1.0</td>\n",
       "      <td>0.0</td>\n",
       "      <td>178</td>\n",
       "      <td>Nonclassifiable</td>\n",
       "      <td>Other fall to lower level less than 6 feet</td>\n",
       "      <td>Semi, tractor-trailer, tanker truck</td>\n",
       "      <td>2015</td>\n",
       "    </tr>\n",
       "  </tbody>\n",
       "</table>\n",
       "</div>"
      ],
      "text/plain": [
       "   index          ID  EventDate  \\\n",
       "0      0  2015010015 2015-01-01   \n",
       "1      1  2015010016 2015-01-01   \n",
       "2      2  2015010018 2015-01-01   \n",
       "\n",
       "                                         Employer         City         State  \\\n",
       "0  Fci Otisville Federal Correctional Institution    Otisville      New York   \n",
       "1                      Kalahari Manufacturing Llc  Lake Delton     Wisconsin   \n",
       "2                 Schneider National Bulk Carrier   Coraopolis  Pennsylvania   \n",
       "\n",
       "       Zip  Latitude  Longitude  Hospitalized  Amputation  NatureTitle  \\\n",
       "0  10963.0     41.46     -74.53           1.0         0.0           66   \n",
       "1  53940.0     43.59     -89.79           1.0         0.0          157   \n",
       "2  15108.0     40.49     -80.11           1.0         0.0          178   \n",
       "\n",
       "  Part of Body Title                                         EventTitle  \\\n",
       "0       Lower leg(s)  Injured by physical contact with person while ...   \n",
       "1     Leg(s), n.e.c.              Ignition of vapors, gases, or liquids   \n",
       "2    Nonclassifiable         Other fall to lower level less than 6 feet   \n",
       "\n",
       "                           SourceTitle  year  \n",
       "0                            Co-worker  2015  \n",
       "1   Welding, cutting, and blow torches  2015  \n",
       "2  Semi, tractor-trailer, tanker truck  2015  "
      ]
     },
     "execution_count": 35,
     "metadata": {},
     "output_type": "execute_result"
    }
   ],
   "source": [
    "data.head(3)"
   ]
  },
  {
   "cell_type": "markdown",
   "metadata": {},
   "source": [
    "<h5>3.Hospitalized</h5>"
   ]
  },
  {
   "cell_type": "markdown",
   "metadata": {},
   "source": [
    "Counting number of Hospitalized events"
   ]
  },
  {
   "cell_type": "code",
   "execution_count": 36,
   "metadata": {
    "scrolled": true
   },
   "outputs": [
    {
     "data": {
      "text/plain": [
       "1.0    53360\n",
       "0.0    12858\n",
       "2.0      403\n",
       "3.0        9\n",
       "6.0        2\n",
       "4.0        2\n",
       "5.0        1\n",
       "Name: Hospitalized, dtype: int64"
      ]
     },
     "execution_count": 36,
     "metadata": {},
     "output_type": "execute_result"
    }
   ],
   "source": [
    "data['Hospitalized'].value_counts()"
   ]
  },
  {
   "cell_type": "markdown",
   "metadata": {},
   "source": [
    "Since we want to predict what State or NatureTitle are prone to have more Hospitalization events, we'll transform the Hospitalized column. This column has a range from 0.0 to 6.0, that means how many people was hospitalized during that event. Thus, 0.0 means 'No Hospitalized' and from 1.0 to 6.0 means 'Yes Hospitalized'"
   ]
  },
  {
   "cell_type": "code",
   "execution_count": 37,
   "metadata": {},
   "outputs": [],
   "source": [
    "Hospit_dict = {0.0: 0,\n",
    "1.0: 1,\n",
    "2.0: 1,\n",
    "3.0: 1,\n",
    "4.0: 1,\n",
    "5.0: 1,\n",
    "6.0: 1}"
   ]
  },
  {
   "cell_type": "code",
   "execution_count": 38,
   "metadata": {
    "scrolled": true
   },
   "outputs": [
    {
     "data": {
      "text/html": [
       "<div>\n",
       "<style scoped>\n",
       "    .dataframe tbody tr th:only-of-type {\n",
       "        vertical-align: middle;\n",
       "    }\n",
       "\n",
       "    .dataframe tbody tr th {\n",
       "        vertical-align: top;\n",
       "    }\n",
       "\n",
       "    .dataframe thead th {\n",
       "        text-align: right;\n",
       "    }\n",
       "</style>\n",
       "<table border=\"1\" class=\"dataframe\">\n",
       "  <thead>\n",
       "    <tr style=\"text-align: right;\">\n",
       "      <th></th>\n",
       "      <th>index</th>\n",
       "      <th>ID</th>\n",
       "      <th>EventDate</th>\n",
       "      <th>Employer</th>\n",
       "      <th>City</th>\n",
       "      <th>State</th>\n",
       "      <th>Zip</th>\n",
       "      <th>Latitude</th>\n",
       "      <th>Longitude</th>\n",
       "      <th>Hospitalized</th>\n",
       "      <th>Amputation</th>\n",
       "      <th>NatureTitle</th>\n",
       "      <th>Part of Body Title</th>\n",
       "      <th>EventTitle</th>\n",
       "      <th>SourceTitle</th>\n",
       "      <th>year</th>\n",
       "    </tr>\n",
       "  </thead>\n",
       "  <tbody>\n",
       "    <tr>\n",
       "      <th>0</th>\n",
       "      <td>0</td>\n",
       "      <td>2015010015</td>\n",
       "      <td>2015-01-01</td>\n",
       "      <td>Fci Otisville Federal Correctional Institution</td>\n",
       "      <td>Otisville</td>\n",
       "      <td>New York</td>\n",
       "      <td>10963.0</td>\n",
       "      <td>41.46</td>\n",
       "      <td>-74.53</td>\n",
       "      <td>1.0</td>\n",
       "      <td>0.0</td>\n",
       "      <td>66</td>\n",
       "      <td>Lower leg(s)</td>\n",
       "      <td>Injured by physical contact with person while ...</td>\n",
       "      <td>Co-worker</td>\n",
       "      <td>2015</td>\n",
       "    </tr>\n",
       "    <tr>\n",
       "      <th>1</th>\n",
       "      <td>1</td>\n",
       "      <td>2015010016</td>\n",
       "      <td>2015-01-01</td>\n",
       "      <td>Kalahari Manufacturing Llc</td>\n",
       "      <td>Lake Delton</td>\n",
       "      <td>Wisconsin</td>\n",
       "      <td>53940.0</td>\n",
       "      <td>43.59</td>\n",
       "      <td>-89.79</td>\n",
       "      <td>1.0</td>\n",
       "      <td>0.0</td>\n",
       "      <td>157</td>\n",
       "      <td>Leg(s), n.e.c.</td>\n",
       "      <td>Ignition of vapors, gases, or liquids</td>\n",
       "      <td>Welding, cutting, and blow torches</td>\n",
       "      <td>2015</td>\n",
       "    </tr>\n",
       "    <tr>\n",
       "      <th>2</th>\n",
       "      <td>2</td>\n",
       "      <td>2015010018</td>\n",
       "      <td>2015-01-01</td>\n",
       "      <td>Schneider National Bulk Carrier</td>\n",
       "      <td>Coraopolis</td>\n",
       "      <td>Pennsylvania</td>\n",
       "      <td>15108.0</td>\n",
       "      <td>40.49</td>\n",
       "      <td>-80.11</td>\n",
       "      <td>1.0</td>\n",
       "      <td>0.0</td>\n",
       "      <td>178</td>\n",
       "      <td>Nonclassifiable</td>\n",
       "      <td>Other fall to lower level less than 6 feet</td>\n",
       "      <td>Semi, tractor-trailer, tanker truck</td>\n",
       "      <td>2015</td>\n",
       "    </tr>\n",
       "    <tr>\n",
       "      <th>3</th>\n",
       "      <td>3</td>\n",
       "      <td>2015010019</td>\n",
       "      <td>2015-01-01</td>\n",
       "      <td>Pepsi Bottling Group Inc.</td>\n",
       "      <td>Macon</td>\n",
       "      <td>Georgia</td>\n",
       "      <td>31206.0</td>\n",
       "      <td>32.77</td>\n",
       "      <td>-83.65</td>\n",
       "      <td>1.0</td>\n",
       "      <td>0.0</td>\n",
       "      <td>159</td>\n",
       "      <td>Leg(s), unspecified</td>\n",
       "      <td>Caught in or compressed by equipment or object...</td>\n",
       "      <td>Pallet jack-powered</td>\n",
       "      <td>2015</td>\n",
       "    </tr>\n",
       "    <tr>\n",
       "      <th>4</th>\n",
       "      <td>4</td>\n",
       "      <td>2015010020</td>\n",
       "      <td>2015-01-01</td>\n",
       "      <td>North American Pipe Corporation</td>\n",
       "      <td>Janesville</td>\n",
       "      <td>Wisconsin</td>\n",
       "      <td>53545.0</td>\n",
       "      <td>42.67</td>\n",
       "      <td>-89.04</td>\n",
       "      <td>1.0</td>\n",
       "      <td>0.0</td>\n",
       "      <td>66</td>\n",
       "      <td>Finger(s), fingernail(s), n.e.c.</td>\n",
       "      <td>Caught in running equipment or machinery durin...</td>\n",
       "      <td>Metal, woodworking, and special material machi...</td>\n",
       "      <td>2015</td>\n",
       "    </tr>\n",
       "    <tr>\n",
       "      <th>...</th>\n",
       "      <td>...</td>\n",
       "      <td>...</td>\n",
       "      <td>...</td>\n",
       "      <td>...</td>\n",
       "      <td>...</td>\n",
       "      <td>...</td>\n",
       "      <td>...</td>\n",
       "      <td>...</td>\n",
       "      <td>...</td>\n",
       "      <td>...</td>\n",
       "      <td>...</td>\n",
       "      <td>...</td>\n",
       "      <td>...</td>\n",
       "      <td>...</td>\n",
       "      <td>...</td>\n",
       "      <td>...</td>\n",
       "    </tr>\n",
       "    <tr>\n",
       "      <th>66630</th>\n",
       "      <td>66694</td>\n",
       "      <td>2021076378</td>\n",
       "      <td>2021-07-31</td>\n",
       "      <td>Virginia International Terminals Inc.</td>\n",
       "      <td>Portsmouth</td>\n",
       "      <td>Virginia</td>\n",
       "      <td>23703.0</td>\n",
       "      <td>36.83</td>\n",
       "      <td>-76.33</td>\n",
       "      <td>1.0</td>\n",
       "      <td>0.0</td>\n",
       "      <td>66</td>\n",
       "      <td>Ankle(s)</td>\n",
       "      <td>Fall on water vehicle</td>\n",
       "      <td>Barge</td>\n",
       "      <td>2021</td>\n",
       "    </tr>\n",
       "    <tr>\n",
       "      <th>66631</th>\n",
       "      <td>66695</td>\n",
       "      <td>2021076379</td>\n",
       "      <td>2021-07-31</td>\n",
       "      <td>Cedar Grove Warehousing Llc</td>\n",
       "      <td>Plymouth</td>\n",
       "      <td>Wisconsin</td>\n",
       "      <td>53073.0</td>\n",
       "      <td>43.73</td>\n",
       "      <td>-87.97</td>\n",
       "      <td>1.0</td>\n",
       "      <td>0.0</td>\n",
       "      <td>66</td>\n",
       "      <td>Shoulder(s), including clavicle(s), scapula(e)</td>\n",
       "      <td>Other fall to lower level, unspecified</td>\n",
       "      <td>Step ladders</td>\n",
       "      <td>2021</td>\n",
       "    </tr>\n",
       "    <tr>\n",
       "      <th>66632</th>\n",
       "      <td>66696</td>\n",
       "      <td>2021076380</td>\n",
       "      <td>2021-07-31</td>\n",
       "      <td>Mvp Plumbing Corp.</td>\n",
       "      <td>Romeoville</td>\n",
       "      <td>Illinois</td>\n",
       "      <td>60446.0</td>\n",
       "      <td>41.59</td>\n",
       "      <td>-88.10</td>\n",
       "      <td>1.0</td>\n",
       "      <td>0.0</td>\n",
       "      <td>37</td>\n",
       "      <td>Neck, except internal location of diseases or ...</td>\n",
       "      <td>Injured by slipping or swinging object held by...</td>\n",
       "      <td>Saws-powered, except chainsaws</td>\n",
       "      <td>2021</td>\n",
       "    </tr>\n",
       "    <tr>\n",
       "      <th>66633</th>\n",
       "      <td>66697</td>\n",
       "      <td>2021076384</td>\n",
       "      <td>2021-07-31</td>\n",
       "      <td>Agropur, Inc.</td>\n",
       "      <td>Lake Norden</td>\n",
       "      <td>South Dakota</td>\n",
       "      <td>57248.0</td>\n",
       "      <td>44.58</td>\n",
       "      <td>-97.21</td>\n",
       "      <td>1.0</td>\n",
       "      <td>0.0</td>\n",
       "      <td>59</td>\n",
       "      <td>BODY SYSTEMS</td>\n",
       "      <td>Direct exposure to electricity, greater than 2...</td>\n",
       "      <td>Switchboards, switches, fuses</td>\n",
       "      <td>2021</td>\n",
       "    </tr>\n",
       "    <tr>\n",
       "      <th>66634</th>\n",
       "      <td>66698</td>\n",
       "      <td>2021076402</td>\n",
       "      <td>2021-07-31</td>\n",
       "      <td>The Lowell General Hospital</td>\n",
       "      <td>Lowell</td>\n",
       "      <td>Massachusetts</td>\n",
       "      <td>1852.0</td>\n",
       "      <td>42.64</td>\n",
       "      <td>-71.30</td>\n",
       "      <td>1.0</td>\n",
       "      <td>0.0</td>\n",
       "      <td>97</td>\n",
       "      <td>Brain</td>\n",
       "      <td>Hitting, kicking, beating, shoving</td>\n",
       "      <td>Patient</td>\n",
       "      <td>2021</td>\n",
       "    </tr>\n",
       "  </tbody>\n",
       "</table>\n",
       "<p>66635 rows × 16 columns</p>\n",
       "</div>"
      ],
      "text/plain": [
       "       index          ID  EventDate  \\\n",
       "0          0  2015010015 2015-01-01   \n",
       "1          1  2015010016 2015-01-01   \n",
       "2          2  2015010018 2015-01-01   \n",
       "3          3  2015010019 2015-01-01   \n",
       "4          4  2015010020 2015-01-01   \n",
       "...      ...         ...        ...   \n",
       "66630  66694  2021076378 2021-07-31   \n",
       "66631  66695  2021076379 2021-07-31   \n",
       "66632  66696  2021076380 2021-07-31   \n",
       "66633  66697  2021076384 2021-07-31   \n",
       "66634  66698  2021076402 2021-07-31   \n",
       "\n",
       "                                             Employer         City  \\\n",
       "0      Fci Otisville Federal Correctional Institution    Otisville   \n",
       "1                          Kalahari Manufacturing Llc  Lake Delton   \n",
       "2                     Schneider National Bulk Carrier   Coraopolis   \n",
       "3                           Pepsi Bottling Group Inc.        Macon   \n",
       "4                     North American Pipe Corporation   Janesville   \n",
       "...                                               ...          ...   \n",
       "66630           Virginia International Terminals Inc.   Portsmouth   \n",
       "66631                     Cedar Grove Warehousing Llc     Plymouth   \n",
       "66632                              Mvp Plumbing Corp.   Romeoville   \n",
       "66633                                   Agropur, Inc.  Lake Norden   \n",
       "66634                     The Lowell General Hospital       Lowell   \n",
       "\n",
       "               State      Zip  Latitude  Longitude  Hospitalized  Amputation  \\\n",
       "0           New York  10963.0     41.46     -74.53           1.0         0.0   \n",
       "1          Wisconsin  53940.0     43.59     -89.79           1.0         0.0   \n",
       "2       Pennsylvania  15108.0     40.49     -80.11           1.0         0.0   \n",
       "3            Georgia  31206.0     32.77     -83.65           1.0         0.0   \n",
       "4          Wisconsin  53545.0     42.67     -89.04           1.0         0.0   \n",
       "...              ...      ...       ...        ...           ...         ...   \n",
       "66630       Virginia  23703.0     36.83     -76.33           1.0         0.0   \n",
       "66631      Wisconsin  53073.0     43.73     -87.97           1.0         0.0   \n",
       "66632       Illinois  60446.0     41.59     -88.10           1.0         0.0   \n",
       "66633   South Dakota  57248.0     44.58     -97.21           1.0         0.0   \n",
       "66634  Massachusetts   1852.0     42.64     -71.30           1.0         0.0   \n",
       "\n",
       "       NatureTitle                                 Part of Body Title  \\\n",
       "0               66                                       Lower leg(s)   \n",
       "1              157                                     Leg(s), n.e.c.   \n",
       "2              178                                    Nonclassifiable   \n",
       "3              159                                Leg(s), unspecified   \n",
       "4               66                   Finger(s), fingernail(s), n.e.c.   \n",
       "...            ...                                                ...   \n",
       "66630           66                                           Ankle(s)   \n",
       "66631           66     Shoulder(s), including clavicle(s), scapula(e)   \n",
       "66632           37  Neck, except internal location of diseases or ...   \n",
       "66633           59                                       BODY SYSTEMS   \n",
       "66634           97                                              Brain   \n",
       "\n",
       "                                              EventTitle  \\\n",
       "0      Injured by physical contact with person while ...   \n",
       "1                  Ignition of vapors, gases, or liquids   \n",
       "2             Other fall to lower level less than 6 feet   \n",
       "3      Caught in or compressed by equipment or object...   \n",
       "4      Caught in running equipment or machinery durin...   \n",
       "...                                                  ...   \n",
       "66630                              Fall on water vehicle   \n",
       "66631             Other fall to lower level, unspecified   \n",
       "66632  Injured by slipping or swinging object held by...   \n",
       "66633  Direct exposure to electricity, greater than 2...   \n",
       "66634                 Hitting, kicking, beating, shoving   \n",
       "\n",
       "                                             SourceTitle  year  \n",
       "0                                              Co-worker  2015  \n",
       "1                     Welding, cutting, and blow torches  2015  \n",
       "2                    Semi, tractor-trailer, tanker truck  2015  \n",
       "3                                    Pallet jack-powered  2015  \n",
       "4      Metal, woodworking, and special material machi...  2015  \n",
       "...                                                  ...   ...  \n",
       "66630                                              Barge  2021  \n",
       "66631                                       Step ladders  2021  \n",
       "66632                     Saws-powered, except chainsaws  2021  \n",
       "66633                      Switchboards, switches, fuses  2021  \n",
       "66634                                           Patient   2021  \n",
       "\n",
       "[66635 rows x 16 columns]"
      ]
     },
     "execution_count": 38,
     "metadata": {},
     "output_type": "execute_result"
    }
   ],
   "source": [
    "data = data.replace({'Hospitalized': Hospit_dict})\n",
    "data"
   ]
  },
  {
   "cell_type": "markdown",
   "metadata": {},
   "source": [
    "Verifying the changes in Hospitalized column "
   ]
  },
  {
   "cell_type": "code",
   "execution_count": 39,
   "metadata": {},
   "outputs": [
    {
     "data": {
      "text/plain": [
       "1.0    53777\n",
       "0.0    12858\n",
       "Name: Hospitalized, dtype: int64"
      ]
     },
     "execution_count": 39,
     "metadata": {},
     "output_type": "execute_result"
    }
   ],
   "source": [
    "data['Hospitalized'].value_counts()"
   ]
  },
  {
   "cell_type": "markdown",
   "metadata": {},
   "source": [
    "Removing unwanted columns"
   ]
  },
  {
   "cell_type": "code",
   "execution_count": 40,
   "metadata": {
    "scrolled": true
   },
   "outputs": [
    {
     "data": {
      "text/html": [
       "<div>\n",
       "<style scoped>\n",
       "    .dataframe tbody tr th:only-of-type {\n",
       "        vertical-align: middle;\n",
       "    }\n",
       "\n",
       "    .dataframe tbody tr th {\n",
       "        vertical-align: top;\n",
       "    }\n",
       "\n",
       "    .dataframe thead th {\n",
       "        text-align: right;\n",
       "    }\n",
       "</style>\n",
       "<table border=\"1\" class=\"dataframe\">\n",
       "  <thead>\n",
       "    <tr style=\"text-align: right;\">\n",
       "      <th></th>\n",
       "      <th>State</th>\n",
       "      <th>NatureTitle</th>\n",
       "      <th>year</th>\n",
       "      <th>Hospitalized</th>\n",
       "    </tr>\n",
       "  </thead>\n",
       "  <tbody>\n",
       "    <tr>\n",
       "      <th>0</th>\n",
       "      <td>New York</td>\n",
       "      <td>66</td>\n",
       "      <td>2015</td>\n",
       "      <td>1.0</td>\n",
       "    </tr>\n",
       "    <tr>\n",
       "      <th>1</th>\n",
       "      <td>Wisconsin</td>\n",
       "      <td>157</td>\n",
       "      <td>2015</td>\n",
       "      <td>1.0</td>\n",
       "    </tr>\n",
       "    <tr>\n",
       "      <th>2</th>\n",
       "      <td>Pennsylvania</td>\n",
       "      <td>178</td>\n",
       "      <td>2015</td>\n",
       "      <td>1.0</td>\n",
       "    </tr>\n",
       "    <tr>\n",
       "      <th>3</th>\n",
       "      <td>Georgia</td>\n",
       "      <td>159</td>\n",
       "      <td>2015</td>\n",
       "      <td>1.0</td>\n",
       "    </tr>\n",
       "    <tr>\n",
       "      <th>4</th>\n",
       "      <td>Wisconsin</td>\n",
       "      <td>66</td>\n",
       "      <td>2015</td>\n",
       "      <td>1.0</td>\n",
       "    </tr>\n",
       "  </tbody>\n",
       "</table>\n",
       "</div>"
      ],
      "text/plain": [
       "          State  NatureTitle  year  Hospitalized\n",
       "0      New York           66  2015           1.0\n",
       "1     Wisconsin          157  2015           1.0\n",
       "2  Pennsylvania          178  2015           1.0\n",
       "3       Georgia          159  2015           1.0\n",
       "4     Wisconsin           66  2015           1.0"
      ]
     },
     "execution_count": 40,
     "metadata": {},
     "output_type": "execute_result"
    }
   ],
   "source": [
    "data_model = data.drop([ 'ID','index', 'EventDate','Employer','City','Zip','Latitude','Longitude','Part of Body Title', 'EventTitle', 'SourceTitle', 'Amputation'], axis = 1)\n",
    "data_model = data_model[['State','NatureTitle', 'year','Hospitalized']]\n",
    "data_model.head()"
   ]
  },
  {
   "cell_type": "code",
   "execution_count": 41,
   "metadata": {},
   "outputs": [
    {
     "name": "stdout",
     "output_type": "stream",
     "text": [
      "<class 'pandas.core.frame.DataFrame'>\n",
      "RangeIndex: 66635 entries, 0 to 66634\n",
      "Data columns (total 4 columns):\n",
      " #   Column        Non-Null Count  Dtype  \n",
      "---  ------        --------------  -----  \n",
      " 0   State         66635 non-null  object \n",
      " 1   NatureTitle   66635 non-null  int64  \n",
      " 2   year          66635 non-null  int64  \n",
      " 3   Hospitalized  66635 non-null  float64\n",
      "dtypes: float64(1), int64(2), object(1)\n",
      "memory usage: 2.0+ MB\n"
     ]
    }
   ],
   "source": [
    "data_model.info()"
   ]
  },
  {
   "cell_type": "markdown",
   "metadata": {},
   "source": [
    "## 3. Data Analysis"
   ]
  },
  {
   "cell_type": "markdown",
   "metadata": {},
   "source": [
    "<h5>1.Correlation Matrix</h5>"
   ]
  },
  {
   "cell_type": "code",
   "execution_count": 42,
   "metadata": {
    "scrolled": false
   },
   "outputs": [
    {
     "data": {
      "text/html": [
       "<div>\n",
       "<style scoped>\n",
       "    .dataframe tbody tr th:only-of-type {\n",
       "        vertical-align: middle;\n",
       "    }\n",
       "\n",
       "    .dataframe tbody tr th {\n",
       "        vertical-align: top;\n",
       "    }\n",
       "\n",
       "    .dataframe thead th {\n",
       "        text-align: right;\n",
       "    }\n",
       "</style>\n",
       "<table border=\"1\" class=\"dataframe\">\n",
       "  <thead>\n",
       "    <tr style=\"text-align: right;\">\n",
       "      <th></th>\n",
       "      <th>NatureTitle</th>\n",
       "      <th>year</th>\n",
       "      <th>Hospitalized</th>\n",
       "    </tr>\n",
       "  </thead>\n",
       "  <tbody>\n",
       "    <tr>\n",
       "      <th>NatureTitle</th>\n",
       "      <td>1.000000</td>\n",
       "      <td>-0.04826</td>\n",
       "      <td>0.553648</td>\n",
       "    </tr>\n",
       "    <tr>\n",
       "      <th>year</th>\n",
       "      <td>-0.048260</td>\n",
       "      <td>1.00000</td>\n",
       "      <td>0.017250</td>\n",
       "    </tr>\n",
       "    <tr>\n",
       "      <th>Hospitalized</th>\n",
       "      <td>0.553648</td>\n",
       "      <td>0.01725</td>\n",
       "      <td>1.000000</td>\n",
       "    </tr>\n",
       "  </tbody>\n",
       "</table>\n",
       "</div>"
      ],
      "text/plain": [
       "              NatureTitle     year  Hospitalized\n",
       "NatureTitle      1.000000 -0.04826      0.553648\n",
       "year            -0.048260  1.00000      0.017250\n",
       "Hospitalized     0.553648  0.01725      1.000000"
      ]
     },
     "execution_count": 42,
     "metadata": {},
     "output_type": "execute_result"
    }
   ],
   "source": [
    "data_model.corr()"
   ]
  },
  {
   "cell_type": "markdown",
   "metadata": {},
   "source": [
    " The correlation matrix indicates that NatureTitle and Hospitalized variables can be considered moderately correlated with a value 0.55"
   ]
  },
  {
   "cell_type": "markdown",
   "metadata": {},
   "source": [
    "<h5>2.Grouping by Year</h5>"
   ]
  },
  {
   "cell_type": "code",
   "execution_count": 43,
   "metadata": {
    "scrolled": true
   },
   "outputs": [
    {
     "data": {
      "text/html": [
       "<div>\n",
       "<style scoped>\n",
       "    .dataframe tbody tr th:only-of-type {\n",
       "        vertical-align: middle;\n",
       "    }\n",
       "\n",
       "    .dataframe tbody tr th {\n",
       "        vertical-align: top;\n",
       "    }\n",
       "\n",
       "    .dataframe thead th {\n",
       "        text-align: right;\n",
       "    }\n",
       "</style>\n",
       "<table border=\"1\" class=\"dataframe\">\n",
       "  <thead>\n",
       "    <tr style=\"text-align: right;\">\n",
       "      <th></th>\n",
       "      <th>year</th>\n",
       "      <th>NatureTitle</th>\n",
       "      <th>Hospitalized</th>\n",
       "    </tr>\n",
       "  </thead>\n",
       "  <tbody>\n",
       "    <tr>\n",
       "      <th>0</th>\n",
       "      <td>2015</td>\n",
       "      <td>709317</td>\n",
       "      <td>7817.0</td>\n",
       "    </tr>\n",
       "    <tr>\n",
       "      <th>1</th>\n",
       "      <td>2016</td>\n",
       "      <td>624506</td>\n",
       "      <td>8111.0</td>\n",
       "    </tr>\n",
       "    <tr>\n",
       "      <th>2</th>\n",
       "      <td>2017</td>\n",
       "      <td>637491</td>\n",
       "      <td>8387.0</td>\n",
       "    </tr>\n",
       "    <tr>\n",
       "      <th>3</th>\n",
       "      <td>2018</td>\n",
       "      <td>677632</td>\n",
       "      <td>9029.0</td>\n",
       "    </tr>\n",
       "    <tr>\n",
       "      <th>4</th>\n",
       "      <td>2019</td>\n",
       "      <td>679098</td>\n",
       "      <td>8983.0</td>\n",
       "    </tr>\n",
       "    <tr>\n",
       "      <th>5</th>\n",
       "      <td>2020</td>\n",
       "      <td>537356</td>\n",
       "      <td>7226.0</td>\n",
       "    </tr>\n",
       "    <tr>\n",
       "      <th>6</th>\n",
       "      <td>2021</td>\n",
       "      <td>318374</td>\n",
       "      <td>4224.0</td>\n",
       "    </tr>\n",
       "  </tbody>\n",
       "</table>\n",
       "</div>"
      ],
      "text/plain": [
       "   year  NatureTitle  Hospitalized\n",
       "0  2015       709317        7817.0\n",
       "1  2016       624506        8111.0\n",
       "2  2017       637491        8387.0\n",
       "3  2018       677632        9029.0\n",
       "4  2019       679098        8983.0\n",
       "5  2020       537356        7226.0\n",
       "6  2021       318374        4224.0"
      ]
     },
     "execution_count": 43,
     "metadata": {},
     "output_type": "execute_result"
    }
   ],
   "source": [
    "nt = data_model.groupby(['year']).sum().reset_index()\n",
    "nt"
   ]
  },
  {
   "cell_type": "code",
   "execution_count": 44,
   "metadata": {},
   "outputs": [
    {
     "data": {
      "text/plain": [
       "<matplotlib.axes._subplots.AxesSubplot at 0x224a3ff02c8>"
      ]
     },
     "execution_count": 44,
     "metadata": {},
     "output_type": "execute_result"
    },
    {
     "data": {
      "image/png": "[encoded data removed]",
      "text/plain": [
       "<Figure size 432x288 with 1 Axes>"
      ]
     },
     "metadata": {
      "needs_background": "light"
     },
     "output_type": "display_data"
    }
   ],
   "source": [
    "nt.plot(x=\"year\", y=[\"Hospitalized\"], title=\"Number of events that require Hospitalizations - Years 2015- 2021\", kind=\"bar\")"
   ]
  },
  {
   "cell_type": "markdown",
   "metadata": {},
   "source": [
    "<h5>3.Grouping by State</h5>"
   ]
  },
  {
   "cell_type": "code",
   "execution_count": 45,
   "metadata": {},
   "outputs": [
    {
     "data": {
      "text/html": [
       "<div>\n",
       "<style scoped>\n",
       "    .dataframe tbody tr th:only-of-type {\n",
       "        vertical-align: middle;\n",
       "    }\n",
       "\n",
       "    .dataframe tbody tr th {\n",
       "        vertical-align: top;\n",
       "    }\n",
       "\n",
       "    .dataframe thead th {\n",
       "        text-align: right;\n",
       "    }\n",
       "</style>\n",
       "<table border=\"1\" class=\"dataframe\">\n",
       "  <thead>\n",
       "    <tr style=\"text-align: right;\">\n",
       "      <th></th>\n",
       "      <th>State</th>\n",
       "      <th>NatureTitle</th>\n",
       "      <th>year</th>\n",
       "      <th>Hospitalized</th>\n",
       "    </tr>\n",
       "  </thead>\n",
       "  <tbody>\n",
       "    <tr>\n",
       "      <th>0</th>\n",
       "      <td>Alabama</td>\n",
       "      <td>122464</td>\n",
       "      <td>4409030</td>\n",
       "      <td>1751.0</td>\n",
       "    </tr>\n",
       "    <tr>\n",
       "      <th>1</th>\n",
       "      <td>Alaska</td>\n",
       "      <td>1782</td>\n",
       "      <td>58535</td>\n",
       "      <td>25.0</td>\n",
       "    </tr>\n",
       "    <tr>\n",
       "      <th>2</th>\n",
       "      <td>American Samoa</td>\n",
       "      <td>410</td>\n",
       "      <td>18156</td>\n",
       "      <td>7.0</td>\n",
       "    </tr>\n",
       "    <tr>\n",
       "      <th>3</th>\n",
       "      <td>Arizona</td>\n",
       "      <td>7432</td>\n",
       "      <td>183627</td>\n",
       "      <td>83.0</td>\n",
       "    </tr>\n",
       "    <tr>\n",
       "      <th>4</th>\n",
       "      <td>Arkansas</td>\n",
       "      <td>77750</td>\n",
       "      <td>2895329</td>\n",
       "      <td>1030.0</td>\n",
       "    </tr>\n",
       "  </tbody>\n",
       "</table>\n",
       "</div>"
      ],
      "text/plain": [
       "            State  NatureTitle     year  Hospitalized\n",
       "0         Alabama       122464  4409030        1751.0\n",
       "1          Alaska         1782    58535          25.0\n",
       "2  American Samoa          410    18156           7.0\n",
       "3         Arizona         7432   183627          83.0\n",
       "4        Arkansas        77750  2895329        1030.0"
      ]
     },
     "execution_count": 45,
     "metadata": {},
     "output_type": "execute_result"
    }
   ],
   "source": [
    "st = data_model.groupby(['State']).sum().reset_index()\n",
    "st.head()"
   ]
  },
  {
   "cell_type": "code",
   "execution_count": 46,
   "metadata": {
    "scrolled": true
   },
   "outputs": [
    {
     "data": {
      "text/plain": [
       "<matplotlib.axes._subplots.AxesSubplot at 0x224a685c6c8>"
      ]
     },
     "execution_count": 46,
     "metadata": {},
     "output_type": "execute_result"
    },
    {
     "data": {
      "image/png": "[encoded data removed]",
      "text/plain": [
       "<Figure size 1008x432 with 1 Axes>"
      ]
     },
     "metadata": {
      "needs_background": "light"
     },
     "output_type": "display_data"
    }
   ],
   "source": [
    "# change the figure size: plt.figure(figsize=(200,6)) # it didn't work.\n",
    "plt.rcParams[\"figure.figsize\"]=(14, 6)\n",
    "st.plot(x=\"State\", y=[\"Hospitalized\"], title=\"Number of events that require Hospitalizations - By States\", kind=\"bar\")"
   ]
  },
  {
   "cell_type": "code",
   "execution_count": 77,
   "metadata": {},
   "outputs": [
    {
     "data": {
      "text/html": [
       "<div>\n",
       "<style scoped>\n",
       "    .dataframe tbody tr th:only-of-type {\n",
       "        vertical-align: middle;\n",
       "    }\n",
       "\n",
       "    .dataframe tbody tr th {\n",
       "        vertical-align: top;\n",
       "    }\n",
       "\n",
       "    .dataframe thead th {\n",
       "        text-align: right;\n",
       "    }\n",
       "</style>\n",
       "<table border=\"1\" class=\"dataframe\">\n",
       "  <thead>\n",
       "    <tr style=\"text-align: right;\">\n",
       "      <th></th>\n",
       "      <th>State</th>\n",
       "      <th>NatureTitle</th>\n",
       "      <th>year</th>\n",
       "      <th>Hospitalized</th>\n",
       "    </tr>\n",
       "  </thead>\n",
       "  <tbody>\n",
       "    <tr>\n",
       "      <th>48</th>\n",
       "      <td>Texas</td>\n",
       "      <td>701324</td>\n",
       "      <td>22197280</td>\n",
       "      <td>9027.0</td>\n",
       "    </tr>\n",
       "    <tr>\n",
       "      <th>10</th>\n",
       "      <td>Florida</td>\n",
       "      <td>488982</td>\n",
       "      <td>14149210</td>\n",
       "      <td>6323.0</td>\n",
       "    </tr>\n",
       "    <tr>\n",
       "      <th>42</th>\n",
       "      <td>Pennsylvania</td>\n",
       "      <td>339370</td>\n",
       "      <td>10708200</td>\n",
       "      <td>4255.0</td>\n",
       "    </tr>\n",
       "    <tr>\n",
       "      <th>39</th>\n",
       "      <td>Ohio</td>\n",
       "      <td>288989</td>\n",
       "      <td>10379398</td>\n",
       "      <td>3656.0</td>\n",
       "    </tr>\n",
       "    <tr>\n",
       "      <th>16</th>\n",
       "      <td>Illinois</td>\n",
       "      <td>248404</td>\n",
       "      <td>8050613</td>\n",
       "      <td>3171.0</td>\n",
       "    </tr>\n",
       "  </tbody>\n",
       "</table>\n",
       "</div>"
      ],
      "text/plain": [
       "           State  NatureTitle      year  Hospitalized\n",
       "48         Texas       701324  22197280        9027.0\n",
       "10       Florida       488982  14149210        6323.0\n",
       "42  Pennsylvania       339370  10708200        4255.0\n",
       "39          Ohio       288989  10379398        3656.0\n",
       "16      Illinois       248404   8050613        3171.0"
      ]
     },
     "execution_count": 77,
     "metadata": {},
     "output_type": "execute_result"
    }
   ],
   "source": [
    "top5 = st.nlargest(5, \"Hospitalized\")\n",
    "top5"
   ]
  },
  {
   "cell_type": "code",
   "execution_count": 79,
   "metadata": {},
   "outputs": [
    {
     "data": {
      "text/plain": [
       "<matplotlib.axes._subplots.AxesSubplot at 0x224b19a6348>"
      ]
     },
     "execution_count": 79,
     "metadata": {},
     "output_type": "execute_result"
    },
    {
     "data": {
      "image/png": "[encoded data removed]",
      "text/plain": [
       "<Figure size 576x432 with 1 Axes>"
      ]
     },
     "metadata": {
      "needs_background": "light"
     },
     "output_type": "display_data"
    }
   ],
   "source": [
    "plt.rcParams[\"figure.figsize\"]=(8, 6)\n",
    "top5.plot(x=\"State\", y=[\"Hospitalized\"], title=\"Number of events that require Hospitalizations - By States\", kind=\"bar\")"
   ]
  },
  {
   "cell_type": "markdown",
   "metadata": {},
   "source": [
    "## 4. Data Modeling"
   ]
  },
  {
   "cell_type": "code",
   "execution_count": 47,
   "metadata": {},
   "outputs": [
    {
     "data": {
      "text/html": [
       "<div>\n",
       "<style scoped>\n",
       "    .dataframe tbody tr th:only-of-type {\n",
       "        vertical-align: middle;\n",
       "    }\n",
       "\n",
       "    .dataframe tbody tr th {\n",
       "        vertical-align: top;\n",
       "    }\n",
       "\n",
       "    .dataframe thead th {\n",
       "        text-align: right;\n",
       "    }\n",
       "</style>\n",
       "<table border=\"1\" class=\"dataframe\">\n",
       "  <thead>\n",
       "    <tr style=\"text-align: right;\">\n",
       "      <th></th>\n",
       "      <th>NatureTitle</th>\n",
       "      <th>year</th>\n",
       "      <th>Hospitalized</th>\n",
       "    </tr>\n",
       "  </thead>\n",
       "  <tbody>\n",
       "    <tr>\n",
       "      <th>0</th>\n",
       "      <td>66</td>\n",
       "      <td>2015</td>\n",
       "      <td>1.0</td>\n",
       "    </tr>\n",
       "    <tr>\n",
       "      <th>1</th>\n",
       "      <td>157</td>\n",
       "      <td>2015</td>\n",
       "      <td>1.0</td>\n",
       "    </tr>\n",
       "    <tr>\n",
       "      <th>2</th>\n",
       "      <td>178</td>\n",
       "      <td>2015</td>\n",
       "      <td>1.0</td>\n",
       "    </tr>\n",
       "    <tr>\n",
       "      <th>3</th>\n",
       "      <td>159</td>\n",
       "      <td>2015</td>\n",
       "      <td>1.0</td>\n",
       "    </tr>\n",
       "    <tr>\n",
       "      <th>4</th>\n",
       "      <td>66</td>\n",
       "      <td>2015</td>\n",
       "      <td>1.0</td>\n",
       "    </tr>\n",
       "  </tbody>\n",
       "</table>\n",
       "</div>"
      ],
      "text/plain": [
       "   NatureTitle  year  Hospitalized\n",
       "0           66  2015           1.0\n",
       "1          157  2015           1.0\n",
       "2          178  2015           1.0\n",
       "3          159  2015           1.0\n",
       "4           66  2015           1.0"
      ]
     },
     "execution_count": 47,
     "metadata": {},
     "output_type": "execute_result"
    }
   ],
   "source": [
    "data_model = data_model[['NatureTitle', 'year','Hospitalized']]\n",
    "data_model.head()"
   ]
  },
  {
   "cell_type": "code",
   "execution_count": 48,
   "metadata": {
    "scrolled": true
   },
   "outputs": [
    {
     "name": "stdout",
     "output_type": "stream",
     "text": [
      "<class 'pandas.core.frame.DataFrame'>\n",
      "RangeIndex: 66635 entries, 0 to 66634\n",
      "Data columns (total 3 columns):\n",
      " #   Column        Non-Null Count  Dtype  \n",
      "---  ------        --------------  -----  \n",
      " 0   NatureTitle   66635 non-null  int64  \n",
      " 1   year          66635 non-null  int64  \n",
      " 2   Hospitalized  66635 non-null  float64\n",
      "dtypes: float64(1), int64(2)\n",
      "memory usage: 1.5 MB\n"
     ]
    }
   ],
   "source": [
    "data_model.info()"
   ]
  },
  {
   "cell_type": "code",
   "execution_count": 49,
   "metadata": {},
   "outputs": [],
   "source": [
    "data_model.to_csv('cleandataset_osha.csv', sep='\\t',index=True) "
   ]
  },
  {
   "cell_type": "markdown",
   "metadata": {},
   "source": [
    "Target/Depend variable: Hospitalized column: Number of events that may not or require Hospitalizations. 0 means No Hospitalization and 1 means Yes Hospitalization/"
   ]
  },
  {
   "cell_type": "markdown",
   "metadata": {},
   "source": [
    "<h5>1.Logistic Regression</h5>"
   ]
  },
  {
   "cell_type": "code",
   "execution_count": 50,
   "metadata": {},
   "outputs": [],
   "source": [
    "X = data_model.iloc[:, :-1].values \n",
    "y = data_model.iloc[:, -1].values "
   ]
  },
  {
   "cell_type": "code",
   "execution_count": 51,
   "metadata": {},
   "outputs": [],
   "source": [
    "from sklearn.model_selection import train_test_split\n",
    "X_train, X_test, y_train, y_test = train_test_split(X, y, test_size = 0.25, random_state = 0)"
   ]
  },
  {
   "cell_type": "code",
   "execution_count": 52,
   "metadata": {
    "scrolled": true
   },
   "outputs": [
    {
     "name": "stdout",
     "output_type": "stream",
     "text": [
      "[[  66 2015]\n",
      " [ 157 2015]\n",
      " [ 178 2015]\n",
      " ...\n",
      " [  37 2021]\n",
      " [  59 2021]\n",
      " [  97 2021]]\n"
     ]
    }
   ],
   "source": [
    "print(X)"
   ]
  },
  {
   "cell_type": "code",
   "execution_count": 53,
   "metadata": {},
   "outputs": [
    {
     "name": "stdout",
     "output_type": "stream",
     "text": [
      "[1. 1. 1. ... 1. 1. 1.]\n"
     ]
    }
   ],
   "source": [
    "print(y)"
   ]
  },
  {
   "cell_type": "code",
   "execution_count": 54,
   "metadata": {
    "scrolled": true
   },
   "outputs": [
    {
     "name": "stdout",
     "output_type": "stream",
     "text": [
      "[[   3 2016]\n",
      " [  59 2015]\n",
      " [   3 2015]\n",
      " ...\n",
      " [ 111 2019]\n",
      " [   3 2019]\n",
      " [   3 2019]]\n"
     ]
    }
   ],
   "source": [
    "print(X_train)"
   ]
  },
  {
   "cell_type": "code",
   "execution_count": 55,
   "metadata": {},
   "outputs": [
    {
     "name": "stdout",
     "output_type": "stream",
     "text": [
      "[1. 1. 0. ... 1. 0. 0.]\n"
     ]
    }
   ],
   "source": [
    "print(y_train)"
   ]
  },
  {
   "cell_type": "code",
   "execution_count": 56,
   "metadata": {
    "scrolled": true
   },
   "outputs": [
    {
     "name": "stdout",
     "output_type": "stream",
     "text": [
      "[[   3 2019]\n",
      " [  18 2018]\n",
      " [   3 2021]\n",
      " ...\n",
      " [  66 2016]\n",
      " [  66 2017]\n",
      " [ 159 2020]]\n"
     ]
    }
   ],
   "source": [
    "print(X_test)"
   ]
  },
  {
   "cell_type": "code",
   "execution_count": 57,
   "metadata": {},
   "outputs": [
    {
     "name": "stdout",
     "output_type": "stream",
     "text": [
      "[0. 1. 0. ... 1. 1. 1.]\n"
     ]
    }
   ],
   "source": [
    "print(y_test)"
   ]
  },
  {
   "cell_type": "markdown",
   "metadata": {},
   "source": [
    "Feature Scaling"
   ]
  },
  {
   "cell_type": "code",
   "execution_count": 58,
   "metadata": {},
   "outputs": [],
   "source": [
    "from sklearn.preprocessing import StandardScaler\n",
    "sc = StandardScaler()\n",
    "X_train = sc.fit_transform(X_train) #do not include the State column\n",
    "X_test = sc.transform(X_test) #do not include the State column"
   ]
  },
  {
   "cell_type": "code",
   "execution_count": 59,
   "metadata": {},
   "outputs": [
    {
     "name": "stdout",
     "output_type": "stream",
     "text": [
      "[[-1.14614413 -0.94732736]\n",
      " [-0.07359424 -1.48741603]\n",
      " [-1.14614413 -1.48741603]\n",
      " ...\n",
      " [ 0.92234494  0.67293863]\n",
      " [-1.14614413  0.67293863]\n",
      " [-1.14614413  0.67293863]]\n"
     ]
    }
   ],
   "source": [
    "print(X_train)"
   ]
  },
  {
   "cell_type": "code",
   "execution_count": 60,
   "metadata": {},
   "outputs": [
    {
     "name": "stdout",
     "output_type": "stream",
     "text": [
      "[[-1.14614413  0.67293863]\n",
      " [-0.85885398  0.13284997]\n",
      " [-1.14614413  1.75311597]\n",
      " ...\n",
      " [ 0.06047449 -0.94732736]\n",
      " [ 0.06047449 -0.4072387 ]\n",
      " [ 1.84167342  1.2130273 ]]\n"
     ]
    }
   ],
   "source": [
    "print(X_test)"
   ]
  },
  {
   "cell_type": "markdown",
   "metadata": {},
   "source": [
    "**Training the Logistic Regression model on the Training set**"
   ]
  },
  {
   "cell_type": "code",
   "execution_count": 61,
   "metadata": {},
   "outputs": [
    {
     "data": {
      "text/plain": [
       "LogisticRegression(C=1.0, class_weight=None, dual=False, fit_intercept=True,\n",
       "                   intercept_scaling=1, l1_ratio=None, max_iter=100,\n",
       "                   multi_class='auto', n_jobs=None, penalty='l2',\n",
       "                   random_state=0, solver='lbfgs', tol=0.0001, verbose=0,\n",
       "                   warm_start=False)"
      ]
     },
     "execution_count": 61,
     "metadata": {},
     "output_type": "execute_result"
    }
   ],
   "source": [
    "from sklearn.linear_model import LogisticRegression #class = LogisticRegression\n",
    "classifier = LogisticRegression(random_state = 0)#, solver='lbfgs', max_iter=1000)\n",
    "classifier.fit(X_train, y_train)"
   ]
  },
  {
   "cell_type": "markdown",
   "metadata": {},
   "source": [
    "Predicting a new result : Xtest first row values"
   ]
  },
  {
   "cell_type": "code",
   "execution_count": 62,
   "metadata": {},
   "outputs": [
    {
     "name": "stdout",
     "output_type": "stream",
     "text": [
      "[0.]\n"
     ]
    }
   ],
   "source": [
    "print(classifier.predict(sc.transform([[3,2019]]))) #added the first row of the X_Test features = 3 and 1.0. Getting the first row of predictor= 0. scale because it has the original values"
   ]
  },
  {
   "cell_type": "markdown",
   "metadata": {},
   "source": [
    "Predicting the Test set results"
   ]
  },
  {
   "cell_type": "code",
   "execution_count": 63,
   "metadata": {},
   "outputs": [
    {
     "name": "stdout",
     "output_type": "stream",
     "text": [
      "[[0. 0.]\n",
      " [1. 1.]\n",
      " [0. 0.]\n",
      " ...\n",
      " [1. 1.]\n",
      " [1. 1.]\n",
      " [1. 1.]]\n"
     ]
    }
   ],
   "source": [
    "y_pred = classifier.predict(X_test) #model type = classifier object\n",
    "print(np.concatenate((y_pred.reshape(len(y_pred),1), y_test.reshape(len(y_test),1)),1)) # left value model predicted/ right value real prediction"
   ]
  },
  {
   "cell_type": "markdown",
   "metadata": {},
   "source": [
    "Reviewing the accuracy of the model by a Confusion Matrix"
   ]
  },
  {
   "cell_type": "code",
   "execution_count": 64,
   "metadata": {},
   "outputs": [
    {
     "name": "stdout",
     "output_type": "stream",
     "text": [
      "[[12251  1206]\n",
      " [   37  3165]]\n"
     ]
    },
    {
     "data": {
      "text/plain": [
       "0.9253856774116094"
      ]
     },
     "execution_count": 64,
     "metadata": {},
     "output_type": "execute_result"
    }
   ],
   "source": [
    "from sklearn.metrics import confusion_matrix, accuracy_score\n",
    "cm = confusion_matrix(y_test, y_pred, labels=[1,0]) #to get only the two classes add: labels=[1,0]\n",
    "print(cm)\n",
    "accuracy_score(y_test, y_pred) "
   ]
  },
  {
   "cell_type": "markdown",
   "metadata": {},
   "source": [
    "<p>12251 correctly classified of class 0 - not hospitalized cases / 37 incorrectly classified of class 0 - not hospitalized cases. \n",
    "<p>3165 correctly classified of class 1 - hospitalized cases/ 1206 incorrectly classified of class 1 - hospitalized cases\n",
    "\n",
    "The model brings 92.5% of correct predictions in the test set"
   ]
  },
  {
   "cell_type": "markdown",
   "metadata": {},
   "source": [
    "We have a high number of incorrectly classified of class 1 - hospitalized cases : 1206"
   ]
  },
  {
   "cell_type": "markdown",
   "metadata": {},
   "source": [
    "**Visualization of Train set**"
   ]
  },
  {
   "cell_type": "code",
   "execution_count": 65,
   "metadata": {
    "scrolled": true
   },
   "outputs": [
    {
     "name": "stderr",
     "output_type": "stream",
     "text": [
      "'c' argument looks like a single numeric RGB or RGBA sequence, which should be avoided as value-mapping will have precedence in case its length matches with 'x' & 'y'.  Please use a 2-D array with a single row if you really want to specify the same RGB or RGBA value for all points.\n",
      "'c' argument looks like a single numeric RGB or RGBA sequence, which should be avoided as value-mapping will have precedence in case its length matches with 'x' & 'y'.  Please use a 2-D array with a single row if you really want to specify the same RGB or RGBA value for all points.\n"
     ]
    },
    {
     "data": {
      "image/png": "[encoded data removed]",
      "text/plain": [
       "<Figure size 1008x432 with 1 Axes>"
      ]
     },
     "metadata": {
      "needs_background": "light"
     },
     "output_type": "display_data"
    }
   ],
   "source": [
    "from matplotlib.colors import ListedColormap\n",
    "X_set, y_set = sc.inverse_transform(X_train), y_train\n",
    "X1, X2 = np.meshgrid(np.arange(start = X_set[:, 0].min() - 10, stop = X_set[:, 0].max() + 10, step = 0.25),\n",
    "                     np.arange(start = X_set[:, 1].min() - 1000, stop = X_set[:, 1].max() + 1000, step = 0.25))\n",
    "plt.contourf(X1, X2, classifier.predict(sc.transform(np.array([X1.ravel(), X2.ravel()]).T)).reshape(X1.shape),\n",
    "             alpha = 0.75, cmap = ListedColormap(('red', 'green')))\n",
    "plt.xlim(X1.min(), X1.max())\n",
    "plt.ylim(X2.min(), X2.max())\n",
    "for i, j in enumerate(np.unique(y_set)):\n",
    "    plt.scatter(X_set[y_set == j, 0], X_set[y_set == j, 1], c = ListedColormap(('red', 'green'))(i), label = j)\n",
    "plt.title('Logistic Regression (Training set)')\n",
    "plt.xlabel('Nature Title of injury')\n",
    "plt.ylabel('Number of events that require Hospitalizations')\n",
    "plt.legend()\n",
    "plt.show()"
   ]
  },
  {
   "cell_type": "markdown",
   "metadata": {},
   "source": [
    "**Visualization of Test set**"
   ]
  },
  {
   "cell_type": "code",
   "execution_count": 66,
   "metadata": {},
   "outputs": [
    {
     "name": "stderr",
     "output_type": "stream",
     "text": [
      "'c' argument looks like a single numeric RGB or RGBA sequence, which should be avoided as value-mapping will have precedence in case its length matches with 'x' & 'y'.  Please use a 2-D array with a single row if you really want to specify the same RGB or RGBA value for all points.\n",
      "'c' argument looks like a single numeric RGB or RGBA sequence, which should be avoided as value-mapping will have precedence in case its length matches with 'x' & 'y'.  Please use a 2-D array with a single row if you really want to specify the same RGB or RGBA value for all points.\n"
     ]
    },
    {
     "data": {
      "image/png": "[encoded data removed]",
      "text/plain": [
       "<Figure size 1008x432 with 1 Axes>"
      ]
     },
     "metadata": {
      "needs_background": "light"
     },
     "output_type": "display_data"
    }
   ],
   "source": [
    "from matplotlib.colors import ListedColormap\n",
    "X_set, y_set = sc.inverse_transform(X_test), y_test\n",
    "X1, X2 = np.meshgrid(np.arange(start = X_set[:, 0].min() - 10, stop = X_set[:, 0].max() + 10, step = 0.25),\n",
    "                     np.arange(start = X_set[:, 1].min() - 1000, stop = X_set[:, 1].max() + 1000, step = 0.25))\n",
    "plt.contourf(X1, X2, classifier.predict(sc.transform(np.array([X1.ravel(), X2.ravel()]).T)).reshape(X1.shape),\n",
    "             alpha = 0.75, cmap = ListedColormap(('red', 'green')))\n",
    "plt.xlim(X1.min(), X1.max())\n",
    "plt.ylim(X2.min(), X2.max())\n",
    "for i, j in enumerate(np.unique(y_set)):\n",
    "    plt.scatter(X_set[y_set == j, 0], X_set[y_set == j, 1], c = ListedColormap(('red', 'green'))(i), label = j)\n",
    "plt.title('Logistic Regression (Test set)')\n",
    "plt.xlabel('Nature Title of injury')\n",
    "plt.ylabel('Number of events that require Hospitalizations')\n",
    "plt.legend()\n",
    "plt.show()"
   ]
  },
  {
   "cell_type": "markdown",
   "metadata": {},
   "source": [
    "**Training the K-NN model on the Training set**"
   ]
  },
  {
   "cell_type": "code",
   "execution_count": 67,
   "metadata": {},
   "outputs": [
    {
     "data": {
      "text/plain": [
       "KNeighborsClassifier(algorithm='auto', leaf_size=30, metric='minkowski',\n",
       "                     metric_params=None, n_jobs=None, n_neighbors=5, p=2,\n",
       "                     weights='uniform')"
      ]
     },
     "execution_count": 67,
     "metadata": {},
     "output_type": "execute_result"
    }
   ],
   "source": [
    "from sklearn.neighbors import KNeighborsClassifier #class = KNeighborsClassifier\n",
    "classifier = KNeighborsClassifier(n_neighbors = 5, metric = 'minkowski', p = 2) #'minkowski'= euclidian distance\n",
    "classifier.fit(X_train, y_train)"
   ]
  },
  {
   "cell_type": "code",
   "execution_count": 68,
   "metadata": {},
   "outputs": [
    {
     "name": "stdout",
     "output_type": "stream",
     "text": [
      "[0.]\n"
     ]
    }
   ],
   "source": [
    "print(classifier.predict(sc.transform([[3,2019]]))) #added the first row of the X_Test features = 3 and 1.0. Getting the first row of predictor= 0. scale because it has the original values"
   ]
  },
  {
   "cell_type": "code",
   "execution_count": 69,
   "metadata": {},
   "outputs": [
    {
     "name": "stdout",
     "output_type": "stream",
     "text": [
      "[[0. 0.]\n",
      " [1. 1.]\n",
      " [0. 0.]\n",
      " ...\n",
      " [1. 1.]\n",
      " [1. 1.]\n",
      " [1. 1.]]\n"
     ]
    }
   ],
   "source": [
    "y_pred = classifier.predict(X_test) #model type = classifier object\n",
    "print(np.concatenate((y_pred.reshape(len(y_pred),1), y_test.reshape(len(y_test),1)),1)) # right value real prediction"
   ]
  },
  {
   "cell_type": "code",
   "execution_count": 70,
   "metadata": {},
   "outputs": [
    {
     "name": "stdout",
     "output_type": "stream",
     "text": [
      "[[12434  1023]\n",
      " [  423  2779]]\n"
     ]
    },
    {
     "data": {
      "text/plain": [
       "0.9132000720331352"
      ]
     },
     "execution_count": 70,
     "metadata": {},
     "output_type": "execute_result"
    }
   ],
   "source": [
    "from sklearn.metrics import confusion_matrix, accuracy_score\n",
    "cm = confusion_matrix(y_test, y_pred, labels=[1,0]) #to get only the two classes add: labels=[1,0]\n",
    "print(cm)\n",
    "accuracy_score(y_test, y_pred)"
   ]
  },
  {
   "cell_type": "markdown",
   "metadata": {},
   "source": [
    "<p>12434 correctly classified of class 0 - not hospitalized cases / 423 incorrectly classified of class 0 - not hospitalized cases. \n",
    "<p>2779 correctly classified of class 1 - hospitalized cases/ 1023 incorrectly classified of class 1 - hospitalized cases\n",
    "\n",
    "The model brings 91% of correct predictions in the test set\n",
    "    \n",
    "<p>We have a high number of incorrectly classified of class 1 - hospitalized cases : 1023"
   ]
  },
  {
   "cell_type": "markdown",
   "metadata": {},
   "source": [
    "**Training the SVM model on the Training set**"
   ]
  },
  {
   "cell_type": "code",
   "execution_count": 71,
   "metadata": {},
   "outputs": [
    {
     "data": {
      "text/plain": [
       "SVC(C=1.0, break_ties=False, cache_size=200, class_weight=None, coef0=0.0,\n",
       "    decision_function_shape='ovr', degree=3, gamma='scale', kernel='linear',\n",
       "    max_iter=-1, probability=False, random_state=0, shrinking=True, tol=0.001,\n",
       "    verbose=False)"
      ]
     },
     "execution_count": 71,
     "metadata": {},
     "output_type": "execute_result"
    }
   ],
   "source": [
    "from sklearn.svm import SVC\n",
    "classifier = SVC(kernel = 'linear', random_state = 0)\n",
    "classifier.fit(X_train, y_train)"
   ]
  },
  {
   "cell_type": "code",
   "execution_count": 72,
   "metadata": {},
   "outputs": [
    {
     "name": "stdout",
     "output_type": "stream",
     "text": [
      "[0.]\n"
     ]
    }
   ],
   "source": [
    "print(classifier.predict(sc.transform([[3,2019]]))) "
   ]
  },
  {
   "cell_type": "code",
   "execution_count": 73,
   "metadata": {},
   "outputs": [
    {
     "name": "stdout",
     "output_type": "stream",
     "text": [
      "[[0. 0.]\n",
      " [1. 1.]\n",
      " [0. 0.]\n",
      " ...\n",
      " [1. 1.]\n",
      " [1. 1.]\n",
      " [1. 1.]]\n"
     ]
    }
   ],
   "source": [
    "y_pred = classifier.predict(X_test) #model type = classifier object\n",
    "print(np.concatenate((y_pred.reshape(len(y_pred),1), y_test.reshape(len(y_test),1)),1)) # right value real prediction"
   ]
  },
  {
   "cell_type": "code",
   "execution_count": 74,
   "metadata": {},
   "outputs": [
    {
     "name": "stdout",
     "output_type": "stream",
     "text": [
      "[[12250  1207]\n",
      " [   37  3165]]\n"
     ]
    },
    {
     "data": {
      "text/plain": [
       "0.9253256497989075"
      ]
     },
     "execution_count": 74,
     "metadata": {},
     "output_type": "execute_result"
    }
   ],
   "source": [
    "from sklearn.metrics import confusion_matrix, accuracy_score\n",
    "cm = confusion_matrix(y_test, y_pred, labels=[1,0]) #to get only the two classes add: labels=[1,0]\n",
    "print(cm)\n",
    "accuracy_score(y_test, y_pred)"
   ]
  },
  {
   "cell_type": "markdown",
   "metadata": {},
   "source": [
    "<p>12250 correctly classified of class 0 - not hospitalized cases / 37 incorrectly classified of class 0 - not hospitalized cases. \n",
    "<p>3165 correctly classified of class 1 - hospitalized cases/ 1207 incorrectly classified of class 1 - hospitalized cases\n",
    "\n",
    "<p>The model brings 92.53% of correct predictions in the test set\n"
   ]
  },
  {
   "cell_type": "markdown",
   "metadata": {},
   "source": [
    "## Conclusions:\n",
    "<p>To get better results, we can apply a non-linear classifier. \n",
    "<p>Logistic Regression and SVM models have higher accuracy of 92%. Both models have higher False Positives - 1207 than the KNN model - 1023, but we considered it is better to incorrectly remit a worker to the Hospital instead of don't do it. This project is not related to reducing healthcare expenses; rather, it aims to predict the number of Labor injuries that may improve workers' health."
   ]
  },
  {
   "cell_type": "code",
   "execution_count": null,
   "metadata": {},
   "outputs": [],
   "source": []
  }
 ],
 "metadata": {
  "kernelspec": {
   "display_name": "Python 3",
   "language": "python",
   "name": "python3"
  },
  "language_info": {
   "codemirror_mode": {
    "name": "ipython",
    "version": 3
   },
   "file_extension": ".py",
   "mimetype": "text/x-python",
   "name": "python",
   "nbconvert_exporter": "python",
   "pygments_lexer": "ipython3",
   "version": "3.7.6"
  }
 },
 "nbformat": 4,
 "nbformat_minor": 4
}
